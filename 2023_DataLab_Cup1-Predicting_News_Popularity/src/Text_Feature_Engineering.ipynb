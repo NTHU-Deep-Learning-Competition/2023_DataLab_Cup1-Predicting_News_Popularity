{
 "cells": [
  {
   "cell_type": "markdown",
   "metadata": {},
   "source": [
    "## <center>DataLab Cup 1: Text Feature Engineering</center>"
   ]
  },
  {
   "cell_type": "markdown",
   "metadata": {},
   "source": [
    "#### - To import the libraries"
   ]
  },
  {
   "cell_type": "code",
   "execution_count": 66,
   "metadata": {},
   "outputs": [],
   "source": [
    "import pandas as pd\n",
    "import numpy as np\n",
    "import warnings\n",
    "import os\n",
    "\n",
    "warnings.filterwarnings(\"ignore\")"
   ]
  },
  {
   "cell_type": "markdown",
   "metadata": {},
   "source": [
    "#### 1. To load the datasets"
   ]
  },
  {
   "cell_type": "code",
   "execution_count": 67,
   "metadata": {},
   "outputs": [],
   "source": [
    "train_data = pd.read_csv('../dataset/train.csv')\n",
    "test_data  = pd.read_csv('../dataset/test.csv')\n"
   ]
  },
  {
   "cell_type": "code",
   "execution_count": 68,
   "metadata": {},
   "outputs": [
    {
     "name": "stdout",
     "output_type": "stream",
     "text": [
      "(11847, 2)\n"
     ]
    },
    {
     "data": {
      "text/html": [
       "<div>\n",
       "<style scoped>\n",
       "    .dataframe tbody tr th:only-of-type {\n",
       "        vertical-align: middle;\n",
       "    }\n",
       "\n",
       "    .dataframe tbody tr th {\n",
       "        vertical-align: top;\n",
       "    }\n",
       "\n",
       "    .dataframe thead th {\n",
       "        text-align: right;\n",
       "    }\n",
       "</style>\n",
       "<table border=\"1\" class=\"dataframe\">\n",
       "  <thead>\n",
       "    <tr style=\"text-align: right;\">\n",
       "      <th></th>\n",
       "      <th>Id</th>\n",
       "      <th>Popularity</th>\n",
       "      <th>Page content</th>\n",
       "    </tr>\n",
       "  </thead>\n",
       "  <tbody>\n",
       "    <tr>\n",
       "      <th>0</th>\n",
       "      <td>0</td>\n",
       "      <td>-1</td>\n",
       "      <td>&lt;html&gt;&lt;head&gt;&lt;div class=\"article-info\"&gt; &lt;span c...</td>\n",
       "    </tr>\n",
       "    <tr>\n",
       "      <th>1</th>\n",
       "      <td>1</td>\n",
       "      <td>1</td>\n",
       "      <td>&lt;html&gt;&lt;head&gt;&lt;div class=\"article-info\"&gt;&lt;span cl...</td>\n",
       "    </tr>\n",
       "    <tr>\n",
       "      <th>2</th>\n",
       "      <td>2</td>\n",
       "      <td>1</td>\n",
       "      <td>&lt;html&gt;&lt;head&gt;&lt;div class=\"article-info\"&gt;&lt;span cl...</td>\n",
       "    </tr>\n",
       "    <tr>\n",
       "      <th>3</th>\n",
       "      <td>3</td>\n",
       "      <td>-1</td>\n",
       "      <td>&lt;html&gt;&lt;head&gt;&lt;div class=\"article-info\"&gt;&lt;span cl...</td>\n",
       "    </tr>\n",
       "    <tr>\n",
       "      <th>4</th>\n",
       "      <td>4</td>\n",
       "      <td>-1</td>\n",
       "      <td>&lt;html&gt;&lt;head&gt;&lt;div class=\"article-info\"&gt;&lt;span cl...</td>\n",
       "    </tr>\n",
       "  </tbody>\n",
       "</table>\n",
       "</div>"
      ],
      "text/plain": [
       "   Id  Popularity                                       Page content\n",
       "0   0          -1  <html><head><div class=\"article-info\"> <span c...\n",
       "1   1           1  <html><head><div class=\"article-info\"><span cl...\n",
       "2   2           1  <html><head><div class=\"article-info\"><span cl...\n",
       "3   3          -1  <html><head><div class=\"article-info\"><span cl...\n",
       "4   4          -1  <html><head><div class=\"article-info\"><span cl..."
      ]
     },
     "execution_count": 68,
     "metadata": {},
     "output_type": "execute_result"
    }
   ],
   "source": [
    "print(test_data.shape)\n",
    "train_data.head()"
   ]
  },
  {
   "cell_type": "markdown",
   "metadata": {},
   "source": [
    "#### 2. To extract the features from the dataset\n",
    "\n",
    "將一些我們想要用到的feature從dataset中提取出來。以下為提取的特徵:\n",
    "\n",
    "- title\n",
    "- time(year/month/day/hour/minute/second)\n",
    "- number of images (num_img)\n",
    "- number of videos (num_video)\n",
    "- author name\n",
    "- topic\n",
    "- channel\n",
    "- length of content "
   ]
  },
  {
   "cell_type": "markdown",
   "metadata": {},
   "source": [
    "--- \n",
    "\n",
    "* beautiful soup\n",
    "    - conda install -c conda-forge beautifulsoup4\n",
    "    \n",
    "<br>\n",
    "\n",
    "* vadersentiment\n",
    "    - conda install -c conda-forge vadersentiment\n",
    "\n",
    "---"
   ]
  },
  {
   "cell_type": "code",
   "execution_count": 69,
   "metadata": {},
   "outputs": [],
   "source": [
    "from bs4 import BeautifulSoup\n",
    "from datetime import datetime\n",
    "from vaderSentiment.vaderSentiment import SentimentIntensityAnalyzer\n",
    "# to get the attribute of the 'title', 'year/month/date/day/hour/minute/second/is_weekend', 'num_img', 'num_video', 'author name', 'topic', 'channel', 'content length', 'title_sentiment'\n",
    "\n",
    "def preprocessor(text):\n",
    "    soup = BeautifulSoup(text, 'html.parser')\n",
    "\n",
    "    # 1. to find the 'title' (body > h1)\n",
    "    title = soup.find('h1').string.strip().lower()\n",
    "\n",
    "    # 2. to find time(body > div > span > time)\n",
    "\n",
    "    \n",
    "    date_string = soup.find('time')\n",
    "    try:\n",
    "        date_string = date_string['datetime']\n",
    "    except:\n",
    "        date_string = 'wed, 10 oct 2014 15:00:43 +0000'\n",
    "        \n",
    "    date_string = date_string.strip().lower()\n",
    "    datetimes = datetime.strptime(date_string, '%a, %d %b %Y %H:%M:%S %z')\n",
    "    \n",
    "    \n",
    "    year = datetimes.year\n",
    "    month = datetimes.month\n",
    "    date = datetimes.day\n",
    "    day = pd.Timestamp(str(year)+'-'+str(month)+'-'+str(date)).dayofweek+1\n",
    "    is_weekend = 1 if (day==6 or day==7) else 0\n",
    "    hour = datetimes.hour\n",
    "    minute = datetimes.minute\n",
    "    second = datetimes.second\n",
    "    \n",
    "\n",
    "    # 3. to find the number of images\n",
    "    num_img  = len(soup.find_all('img'))\n",
    "    \n",
    "\n",
    "    # 4. to find the number of videos\n",
    "    num_video = len(soup.find_all('iframe'))\n",
    "    \n",
    "\n",
    "    # 5. to find the author name\n",
    "    article_info = soup.find('div', class_='article-info')\n",
    "    author = article_info.find('span', class_='author_name') or article_info.find('span', class_='byline basic')\n",
    "\n",
    "    if (author != None):\n",
    "        if (author.find('a') != None):\n",
    "            author = author.find('a')\n",
    "            author_name = author.get_text().lower()\n",
    "        else :\n",
    "            author_name = author.get_text().lower()\n",
    "    else :\n",
    "        author_name = 'not found'\n",
    "    \n",
    "    \n",
    "\n",
    "    # 6. to find the article topic\n",
    "    footer = soup.find('footer', class_='article-topics')\n",
    "    topic = footer.get_text().split(': ')[1]\n",
    "    \n",
    "    # 7. to find the channel\n",
    "    channel = soup.find('article')['data-channel'].strip().lower()\n",
    "    \n",
    "    '''\n",
    "    print('title = ', title, type(title))\n",
    "    print('time = ', year, \"/\", month, \"/\",day, \" \",hour, \":\",minute, \":\",second, type(year))\n",
    "    print('number of images = ', num_img, type(num_img))\n",
    "    print('number of videos = ', num_video, type(num_video))\n",
    "    print('author_name = ', author_name, type(author_name))\n",
    "    print('topic = ', topic, type(topic))\n",
    "    print('channel = ', channel, type(channel))\n",
    "    '''\n",
    "    \n",
    "    # 8. to find the content length\n",
    "    content = soup.body.find('section', class_='article-content').get_text()\n",
    "    len_content = len(content)\n",
    "\n",
    "    # print('topic = ', topic, type(topic))\n",
    "    \n",
    "    # 9. to find the sentiment of title\n",
    "    analyzer = SentimentIntensityAnalyzer()\n",
    "    title_sentiment = analyzer.polarity_scores(topic)\n",
    "    sentiment_neg = title_sentiment['neg']\n",
    "    sentiment_neu = title_sentiment['neu']\n",
    "    sentiment_pos = title_sentiment['pos']\n",
    "    sentiment_compound = title_sentiment['compound']\n",
    "\n",
    "    return title, author_name, channel, topic, year, month, date, day, is_weekend, hour, minute, second, num_img, num_video, len_content, sentiment_neg, sentiment_neu, sentiment_pos, sentiment_compound"
   ]
  },
  {
   "cell_type": "code",
   "execution_count": 70,
   "metadata": {},
   "outputs": [],
   "source": [
    "feature_train_list = []\n",
    "feature_test_list = []\n",
    "\n",
    "for content in (train_data['Page content']):\n",
    "    feature_train_list.append(preprocessor(content))\n",
    "for content in (test_data['Page content']):\n",
    "    feature_train_list.append(preprocessor(content))\n",
    "\n",
    "df_all = pd.DataFrame(\n",
    "        feature_train_list, \n",
    "        columns=['title', 'author_name', 'channel', 'topic', 'year', 'month', 'date', 'day', 'is_weekend', 'hour', 'minute', 'second', 'num_img', 'num_video', 'len_content', 'sentiment_neg', 'sentiment_neu', 'sentiment_pos', 'sentiment_compound'])\n"
   ]
  },
  {
   "cell_type": "markdown",
   "metadata": {},
   "source": [
    "### 3-1 . Preprocessing - tokenization\n",
    "\n",
    "To split the text corpora into individual elements"
   ]
  },
  {
   "cell_type": "code",
   "execution_count": 71,
   "metadata": {},
   "outputs": [],
   "source": [
    "import re\n",
    "\n",
    "def tokenizer(text):\n",
    "    return re.split('\\s+', text.strip())"
   ]
  },
  {
   "cell_type": "markdown",
   "metadata": {},
   "source": [
    "### 3-2 . Preprocessing - Word Stemming\n",
    "\n",
    "There are two ways of word stemming\n",
    "\n",
    "1. PorterStemmer(Stemming): break the word in rule-besed way, which will lead to the probelm of overstemming\n",
    "\n",
    "2. WordNetLemmatizer(Lemmatization): Stem the words will better performance, while time-consuming\n"
   ]
  },
  {
   "cell_type": "code",
   "execution_count": 72,
   "metadata": {},
   "outputs": [
    {
     "name": "stdout",
     "output_type": "stream",
     "text": [
      "['university,', 'universal,', 'university']\n"
     ]
    },
    {
     "name": "stderr",
     "output_type": "stream",
     "text": [
      "[nltk_data] Downloading package wordnet to\n",
      "[nltk_data]     /users/student/mr111//mfhsieh22/nltk_data...\n",
      "[nltk_data]   Package wordnet is already up-to-date!\n",
      "[nltk_data] Downloading package omw-1.4 to\n",
      "[nltk_data]     /users/student/mr111//mfhsieh22/nltk_data...\n",
      "[nltk_data]   Package omw-1.4 is already up-to-date!\n"
     ]
    }
   ],
   "source": [
    "import nltk\n",
    "from nltk.stem import WordNetLemmatizer\n",
    "\n",
    "nltk.data.path.append('/home/mfhsieh/NTHU-Deep-Learning-Competition/2023_DataLab_Cup1-Predicting_News_Popularity')\n",
    "\n",
    "nltk.download('wordnet')\n",
    "nltk.download('omw-1.4')\n",
    "\n",
    "def word_stemming(text):\n",
    "    if type(text) == np.ndarray:\n",
    "        text = text[0]\n",
    "    lm = WordNetLemmatizer()\n",
    "    words = re.split('\\s', text.strip())\n",
    "    lemmatized_words = [lm.lemmatize(word) for word in words]\n",
    "    return lemmatized_words\n",
    "\n",
    "print(word_stemming('university, universal, universities'))"
   ]
  },
  {
   "cell_type": "code",
   "execution_count": 73,
   "metadata": {},
   "outputs": [
    {
     "name": "stdout",
     "output_type": "stream",
     "text": [
      "['university,', 'universal,', 'univers']\n"
     ]
    }
   ],
   "source": [
    "from nltk.stem.porter import PorterStemmer\n",
    "\n",
    "def tokenizer_stem(text):\n",
    "    porter = PorterStemmer()\n",
    "    return [porter.stem(word) for word in re.split('\\s+', text.strip())]\n",
    "\n",
    "print(tokenizer_stem('university, universal, universities'))"
   ]
  },
  {
   "cell_type": "markdown",
   "metadata": {},
   "source": [
    "### 3-3 Preprocessing - Stop-Word Removal\n",
    "\n",
    "儘管刪除停用詞在某些情況下（例如 BoW 和特徵哈希）可以有益於簡化表示，並可能提高文字分析的準確性，但並不總是必要，特別是在使用 TF-IDF 時。是否刪除停用詞應基於文本分析任務的具體要求以及資料集的特性來進行決策"
   ]
  },
  {
   "cell_type": "code",
   "execution_count": 74,
   "metadata": {},
   "outputs": [
    {
     "name": "stdout",
     "output_type": "stream",
     "text": [
      "['runner', 'like', 'run', 'thu', 'run']\n"
     ]
    },
    {
     "name": "stderr",
     "output_type": "stream",
     "text": [
      "[nltk_data] Downloading package stopwords to\n",
      "[nltk_data]     /users/student/mr111//mfhsieh22/nltk_data...\n",
      "[nltk_data]   Package stopwords is already up-to-date!\n"
     ]
    }
   ],
   "source": [
    "from nltk.corpus import stopwords\n",
    "from nltk.stem.porter import PorterStemmer\n",
    "\n",
    "nltk.download('stopwords')\n",
    "stop = stopwords.words('english')\n",
    "\n",
    "def stop_word_removal(text):\n",
    "    porter = PorterStemmer()\n",
    "    return [porter.stem(w) for w in re.split('\\s+', text.strip()) \\\n",
    "            if w not in stop and re.match('[a-zA-Z]+', w)]\n",
    "\n",
    "print(stop_word_removal('runners like running and thus they run'))"
   ]
  },
  {
   "cell_type": "markdown",
   "metadata": {},
   "source": [
    "### 3-5 Preprocessing - Word Stemming + Stop-Word Removal"
   ]
  },
  {
   "cell_type": "code",
   "execution_count": 75,
   "metadata": {},
   "outputs": [],
   "source": [
    "def stem_word_remove_stopword(text):\n",
    "    if type(text) == np.ndarray:\n",
    "        text = text[0]\n",
    "    lm = WordNetLemmatizer()\n",
    "    words = re.split('\\s', text.strip())\n",
    "    lemmatized_words = [lm.lemmatize(word) for word in words]\n",
    "    \n",
    "    filtered_list = [word for word in lemmatized_words if word not in stop]\n",
    "    \n",
    "    return filtered_list\n"
   ]
  },
  {
   "cell_type": "markdown",
   "metadata": {},
   "source": [
    "#### 3-5 Create TF-IDF feature representation ([ref](https://scikit-learn.org/stable/modules/generated/sklearn.feature_extraction.text.TfidfVectorizer.html))"
   ]
  },
  {
   "cell_type": "code",
   "execution_count": 137,
   "metadata": {},
   "outputs": [],
   "source": [
    "from sklearn.feature_extraction.text import TfidfVectorizer\n",
    "from sklearn.compose import ColumnTransformer\n",
    "\n",
    "ngram_range_ = [(1,2), (1,1)]\n",
    "\n",
    "text_transformer = ColumnTransformer(\n",
    "    [\n",
    "        #('title preprocess', TfidfVectorizer(tokenizer=word_stemming, ngram_range=(1,1), lowercase=False), [0]),\n",
    "        ('author name process', TfidfVectorizer(tokenizer=word_stemming, token_pattern=None, ngram_range=(1,2), lowercase=False), [0]),\n",
    "        #('channel process', TfidfVectorizer(tokenizer=word_stemming, ngram_range=(1,1), lowercase=False), [1]),\n",
    "        ('topic name process', TfidfVectorizer(tokenizer=word_stemming, token_pattern=None, ngram_range=(1,1), lowercase=False), [1]),\n",
    "    ],\n",
    "    remainder='passthrough', # do not touch the remaining data\n",
    "    n_jobs=-1\n",
    ")\n"
   ]
  },
  {
   "cell_type": "code",
   "execution_count": 77,
   "metadata": {},
   "outputs": [
    {
     "name": "stdout",
     "output_type": "stream",
     "text": [
      "[vocabularies with smallest idf scores]\n",
      "to: 2.52\n",
      "the: 2.58\n",
      "in: 2.96\n",
      "a: 3.03\n",
      "of: 3.07\n",
      "for: 3.10\n",
      "and: 3.44\n",
      "is: 3.51\n",
      "on: 3.54\n",
      "your: 3.60\n",
      "\n",
      "[vocabularies with highest tf-idf scores]\n",
      "the: 1142.4830180213792\n",
      "to: 1109.6698985304176\n",
      "a: 795.7866740412087\n",
      "in: 787.5419357082401\n",
      "of: 746.7665375362841\n",
      "for: 734.8807138633431\n",
      "and: 555.5640584744767\n",
      "your: 551.5848064261177\n",
      "is: 544.621163447621\n",
      "you: 533.4917456688497\n"
     ]
    }
   ],
   "source": [
    "tfidf = TfidfVectorizer(tokenizer=word_stemming, ngram_range=(1,1), lowercase=False)\n",
    "tfidf.fit(df_all['title'])\n",
    "top = 10\n",
    "# get idf score of vocabularies\n",
    "idf = tfidf.idf_\n",
    "print('[vocabularies with smallest idf scores]')\n",
    "sorted_idx = idf.argsort()\n",
    "\n",
    "for i in range(top):\n",
    "    print('%s: %.2f' %(tfidf.get_feature_names_out()[sorted_idx[i]], idf[sorted_idx[i]]))\n",
    "\n",
    "doc_tfidf = tfidf.transform(df_all['title']).toarray()\n",
    "tfidf_sum = np.sum(doc_tfidf, axis=0)\n",
    "print(\"\\n[vocabularies with highest tf-idf scores]\")\n",
    "for tok, v in zip(tfidf.inverse_transform(np.ones((1, tfidf_sum.shape[0])))[0][tfidf_sum.argsort()[::-1]][:top], \\\n",
    "                        np.sort(tfidf_sum)[::-1][:top]):\n",
    "    print('{}: {}'.format(tok, v))\n"
   ]
  },
  {
   "cell_type": "markdown",
   "metadata": {},
   "source": [
    "### 4. Model training\n",
    "\n",
    "- XGBoost\n",
    "\n",
    "- LightGBM\n",
    "\n",
    "- CatBoost\n",
    "\n",
    "- AdaBoost\n",
    "\n",
    "- Random Forest\n",
    "\n",
    "- VotingClassifier\n"
   ]
  },
  {
   "cell_type": "markdown",
   "metadata": {},
   "source": [
    "#### - To split the dataset "
   ]
  },
  {
   "cell_type": "code",
   "execution_count": 78,
   "metadata": {},
   "outputs": [],
   "source": [
    "from sklearn.model_selection import train_test_split"
   ]
  },
  {
   "cell_type": "markdown",
   "metadata": {},
   "source": [
    "1. XGBoost"
   ]
  },
  {
   "cell_type": "code",
   "execution_count": 79,
   "metadata": {},
   "outputs": [
    {
     "name": "stdout",
     "output_type": "stream",
     "text": [
      "(27643, 14)\n",
      "<class 'numpy.ndarray'>\n",
      "[['clara moskowitz'\n",
      "  'Asteroid, Asteroids, challenge, Earth, Space, U.S., World ' 2013 ...\n",
      "  0.822 0.178 0.0772]\n",
      " ['christina warren'\n",
      "  'Apps and Software, Google, open source, opn pledge, patent lawsuit theater, software patents, Tech, U.S. '\n",
      "  2013 ... 0.881 0.0 -0.2263]\n",
      " ['sam laird' 'Entertainment, NFL, NFL Draft, Sports, Television ' 2014\n",
      "  ... 0.641 0.359 0.4215]\n",
      " ...\n",
      " ['christine erickson' 'Food, hot dogs, humor, Photography, Watercooler '\n",
      "  2014 ... 0.704 0.296 0.2732]\n",
      " ['seth fiegerman' 'Business, marissa mayer, Media, stocks, Yahoo ' 2013\n",
      "  ... 1.0 0.0 0.0]\n",
      " ['megan ranney' 'austin, Business, CurioCity, Small Business, Startups '\n",
      "  2014 ... 1.0 0.0 0.0]]\n",
      "(27643,)\n",
      "<class 'numpy.ndarray'>\n",
      "[0 1 1 ... 0 0 1]\n"
     ]
    }
   ],
   "source": [
    "remaining_dict_xgboost = [  #'title', \n",
    "                            'author_name', \n",
    "                            #'channel', \n",
    "                            'topic', \n",
    "                            'year', \n",
    "                            'month',\n",
    "                            'date', \n",
    "                            'day', \n",
    "                            'is_weekend',\n",
    "                            'hour', \n",
    "                            # 'minute', \n",
    "                            # 'second', \n",
    "                            # 'num_img', \n",
    "                            'num_video', \n",
    "                            'len_content',\n",
    "                            'sentiment_neg', \n",
    "                            'sentiment_neu', \n",
    "                            'sentiment_pos', \n",
    "                            'sentiment_compound'\n",
    "                            ]\n",
    "\n",
    "df_xgboost = df_all.loc[:, remaining_dict_xgboost]\n",
    "\n",
    "X_xgboost_train = df_xgboost.values[:train_data.shape[0]]\n",
    "y_xgboost_train = train_data['Popularity'].values\n",
    "y_xgboost_train[y_xgboost_train==-1] = 0\n",
    "X_xgboost_test = df_xgboost.values[train_data.shape[0]:]\n",
    "\n",
    "print(X_xgboost_train.shape)\n",
    "print(type(X_xgboost_train))\n",
    "print(X_xgboost_train)\n",
    "print(y_xgboost_train.shape)\n",
    "print(type(y_xgboost_train))\n",
    "print(y_xgboost_train)\n",
    "\n",
    "X_xgboost_train_split, X_xgboost_valid_split, y_xgboost_train_split, y_xgboost_valid_split = train_test_split(X_xgboost_train, y_xgboost_train, test_size=0.3, random_state=0)"
   ]
  },
  {
   "cell_type": "markdown",
   "metadata": {},
   "source": [
    "2. LightGbm"
   ]
  },
  {
   "cell_type": "code",
   "execution_count": 130,
   "metadata": {},
   "outputs": [
    {
     "name": "stdout",
     "output_type": "stream",
     "text": [
      "(27643, 10)\n",
      "<class 'numpy.ndarray'>\n",
      "[['clara moskowitz'\n",
      "  'Asteroid, Asteroids, challenge, Earth, Space, U.S., World ' 2013 ...\n",
      "  15 0 3591]\n",
      " ['christina warren'\n",
      "  'Apps and Software, Google, open source, opn pledge, patent lawsuit theater, software patents, Tech, U.S. '\n",
      "  2013 ... 17 0 1843]\n",
      " ['sam laird' 'Entertainment, NFL, NFL Draft, Sports, Television ' 2014\n",
      "  ... 19 25 6646]\n",
      " ...\n",
      " ['christine erickson' 'Food, hot dogs, humor, Photography, Watercooler '\n",
      "  2014 ... 12 0 1274]\n",
      " ['seth fiegerman' 'Business, marissa mayer, Media, stocks, Yahoo ' 2013\n",
      "  ... 20 0 2657]\n",
      " ['megan ranney' 'austin, Business, CurioCity, Small Business, Startups '\n",
      "  2014 ... 18 0 3027]]\n",
      "(27643,)\n",
      "<class 'numpy.ndarray'>\n",
      "[0 1 1 ... 0 0 1]\n"
     ]
    }
   ],
   "source": [
    "remaining_dict_lightgbm = [  #'title', \n",
    "                            'author_name', \n",
    "                            #'channel', \n",
    "                            'topic', \n",
    "                            'year', \n",
    "                            'month',\n",
    "                            'date', \n",
    "                            'day', \n",
    "                            'is_weekend',\n",
    "                            'hour', \n",
    "                            # 'minute', \n",
    "                            # 'second', \n",
    "                            # 'num_img', \n",
    "                            'num_video', \n",
    "                            'len_content',\n",
    "                            # 'sentiment_neg', \n",
    "                            # 'sentiment_neu', \n",
    "                            # 'sentiment_pos', \n",
    "                            # 'sentiment_compound'\n",
    "                            ]\n",
    "\n",
    "df_lightgbm = df_all.loc[:, remaining_dict_lightgbm]\n",
    "\n",
    "X_lightgbm_train = df_lightgbm.values[:train_data.shape[0]]\n",
    "y_lightgbm_train = train_data['Popularity'].values\n",
    "y_lightgbm_train[y_lightgbm_train==-1] = 0\n",
    "X_lightgbm_test = df_lightgbm.values[train_data.shape[0]:]\n",
    "\n",
    "print(X_lightgbm_train.shape)\n",
    "print(type(X_lightgbm_train))\n",
    "print(X_lightgbm_train)\n",
    "print(y_lightgbm_train.shape)\n",
    "print(type(y_lightgbm_train))\n",
    "print(y_lightgbm_train)\n",
    "\n",
    "X_lightgbm_train_split, X_lightgbm_valid_split, y_lightgbm_train_split, y_lightgbm_valid_split = train_test_split(X_lightgbm_train, y_lightgbm_train, test_size=0.3, random_state=0)"
   ]
  },
  {
   "cell_type": "markdown",
   "metadata": {},
   "source": [
    "3. catboost"
   ]
  },
  {
   "cell_type": "code",
   "execution_count": 81,
   "metadata": {},
   "outputs": [
    {
     "name": "stdout",
     "output_type": "stream",
     "text": [
      "(27643, 10)\n",
      "<class 'numpy.ndarray'>\n",
      "[['clara moskowitz'\n",
      "  'Asteroid, Asteroids, challenge, Earth, Space, U.S., World ' 2013 ...\n",
      "  15 0 3591]\n",
      " ['christina warren'\n",
      "  'Apps and Software, Google, open source, opn pledge, patent lawsuit theater, software patents, Tech, U.S. '\n",
      "  2013 ... 17 0 1843]\n",
      " ['sam laird' 'Entertainment, NFL, NFL Draft, Sports, Television ' 2014\n",
      "  ... 19 25 6646]\n",
      " ...\n",
      " ['christine erickson' 'Food, hot dogs, humor, Photography, Watercooler '\n",
      "  2014 ... 12 0 1274]\n",
      " ['seth fiegerman' 'Business, marissa mayer, Media, stocks, Yahoo ' 2013\n",
      "  ... 20 0 2657]\n",
      " ['megan ranney' 'austin, Business, CurioCity, Small Business, Startups '\n",
      "  2014 ... 18 0 3027]]\n",
      "(27643,)\n",
      "<class 'numpy.ndarray'>\n",
      "[0 1 1 ... 0 0 1]\n"
     ]
    }
   ],
   "source": [
    "remaining_dict_catboost = [  #'title', \n",
    "                            'author_name', \n",
    "                            #'channel', \n",
    "                            'topic', \n",
    "                            'year', \n",
    "                            'month',\n",
    "                            'date', \n",
    "                            'day', \n",
    "                            'is_weekend',\n",
    "                            'hour', \n",
    "                            # 'minute', \n",
    "                            # 'second', \n",
    "                            # 'num_img', \n",
    "                            'num_video', \n",
    "                            'len_content',\n",
    "                            # 'sentiment_neg', \n",
    "                            # 'sentiment_neu', \n",
    "                            # 'sentiment_pos', \n",
    "                            # 'sentiment_compound'\n",
    "                            ]\n",
    "\n",
    "df_catboost = df_all.loc[:, remaining_dict_catboost]\n",
    "\n",
    "X_catboost_train = df_catboost.values[:train_data.shape[0]]\n",
    "y_catboost_train = train_data['Popularity'].values\n",
    "y_catboost_train[y_catboost_train==-1] = 0\n",
    "X_catboost_test = df_catboost.values[train_data.shape[0]:]\n",
    "\n",
    "print(X_catboost_train.shape)\n",
    "print(type(X_catboost_train))\n",
    "print(X_catboost_train)\n",
    "print(y_catboost_train.shape)\n",
    "print(type(y_catboost_train))\n",
    "print(y_catboost_train)\n",
    "\n",
    "X_catboost_train_split, X_catboost_valid_split, y_catboost_train_split, y_catboost_valid_split = train_test_split(X_catboost_train, y_catboost_train, test_size=0.3, random_state=0)"
   ]
  },
  {
   "cell_type": "markdown",
   "metadata": {},
   "source": [
    "4. adaboost"
   ]
  },
  {
   "cell_type": "code",
   "execution_count": 82,
   "metadata": {},
   "outputs": [
    {
     "name": "stdout",
     "output_type": "stream",
     "text": [
      "(27643, 10)\n",
      "<class 'numpy.ndarray'>\n",
      "[['clara moskowitz'\n",
      "  'Asteroid, Asteroids, challenge, Earth, Space, U.S., World ' 2013 ...\n",
      "  15 0 3591]\n",
      " ['christina warren'\n",
      "  'Apps and Software, Google, open source, opn pledge, patent lawsuit theater, software patents, Tech, U.S. '\n",
      "  2013 ... 17 0 1843]\n",
      " ['sam laird' 'Entertainment, NFL, NFL Draft, Sports, Television ' 2014\n",
      "  ... 19 25 6646]\n",
      " ...\n",
      " ['christine erickson' 'Food, hot dogs, humor, Photography, Watercooler '\n",
      "  2014 ... 12 0 1274]\n",
      " ['seth fiegerman' 'Business, marissa mayer, Media, stocks, Yahoo ' 2013\n",
      "  ... 20 0 2657]\n",
      " ['megan ranney' 'austin, Business, CurioCity, Small Business, Startups '\n",
      "  2014 ... 18 0 3027]]\n",
      "(27643,)\n",
      "<class 'numpy.ndarray'>\n",
      "[0 1 1 ... 0 0 1]\n"
     ]
    }
   ],
   "source": [
    "remaining_dict_adaboost = [  #'title', \n",
    "                            'author_name', \n",
    "                            #'channel', \n",
    "                            'topic', \n",
    "                            'year', \n",
    "                            'month',\n",
    "                            'date', \n",
    "                            'day', \n",
    "                            'is_weekend',\n",
    "                            'hour', \n",
    "                            # 'minute', \n",
    "                            # 'second', \n",
    "                            # 'num_img', \n",
    "                            'num_video', \n",
    "                            'len_content',\n",
    "                            # 'sentiment_neg', \n",
    "                            # 'sentiment_neu', \n",
    "                            # 'sentiment_pos', \n",
    "                            # 'sentiment_compound'\n",
    "                            ]\n",
    "\n",
    "df_adaboost = df_all.loc[:, remaining_dict_adaboost]\n",
    "\n",
    "X_adaboost_train = df_adaboost.values[:train_data.shape[0]]\n",
    "y_adaboost_train = train_data['Popularity'].values\n",
    "y_adaboost_train[y_adaboost_train==-1] = 0\n",
    "X_adaboost_test = df_adaboost.values[train_data.shape[0]:]\n",
    "\n",
    "print(X_adaboost_train.shape)\n",
    "print(type(X_adaboost_train))\n",
    "print(X_adaboost_train)\n",
    "print(y_adaboost_train.shape)\n",
    "print(type(y_adaboost_train))\n",
    "print(y_adaboost_train)\n",
    "\n",
    "X_adaboost_train_split, X_adaboost_valid_split, y_adaboost_train_split, y_adaboost_valid_split = train_test_split(X_adaboost_train, y_adaboost_train, test_size=0.3, random_state=0)"
   ]
  },
  {
   "cell_type": "markdown",
   "metadata": {},
   "source": [
    "5. RF"
   ]
  },
  {
   "cell_type": "code",
   "execution_count": 83,
   "metadata": {},
   "outputs": [
    {
     "name": "stdout",
     "output_type": "stream",
     "text": [
      "(27643, 10)\n",
      "<class 'numpy.ndarray'>\n",
      "[['clara moskowitz'\n",
      "  'Asteroid, Asteroids, challenge, Earth, Space, U.S., World ' 2013 ...\n",
      "  15 0 3591]\n",
      " ['christina warren'\n",
      "  'Apps and Software, Google, open source, opn pledge, patent lawsuit theater, software patents, Tech, U.S. '\n",
      "  2013 ... 17 0 1843]\n",
      " ['sam laird' 'Entertainment, NFL, NFL Draft, Sports, Television ' 2014\n",
      "  ... 19 25 6646]\n",
      " ...\n",
      " ['christine erickson' 'Food, hot dogs, humor, Photography, Watercooler '\n",
      "  2014 ... 12 0 1274]\n",
      " ['seth fiegerman' 'Business, marissa mayer, Media, stocks, Yahoo ' 2013\n",
      "  ... 20 0 2657]\n",
      " ['megan ranney' 'austin, Business, CurioCity, Small Business, Startups '\n",
      "  2014 ... 18 0 3027]]\n",
      "(27643,)\n",
      "<class 'numpy.ndarray'>\n",
      "[0 1 1 ... 0 0 1]\n"
     ]
    }
   ],
   "source": [
    "remaining_dict_RF = [  #'title', \n",
    "                            'author_name', \n",
    "                            #'channel', \n",
    "                            'topic', \n",
    "                            'year', \n",
    "                            'month',\n",
    "                            'date', \n",
    "                            'day', \n",
    "                            'is_weekend',\n",
    "                            'hour', \n",
    "                            # 'minute', \n",
    "                            # 'second', \n",
    "                            # 'num_img', \n",
    "                            'num_video', \n",
    "                            'len_content',\n",
    "                            # 'sentiment_neg', \n",
    "                            # 'sentiment_neu', \n",
    "                            # 'sentiment_pos', \n",
    "                            # 'sentiment_compound'\n",
    "                            ]\n",
    "\n",
    "df_RF = df_all.loc[:, remaining_dict_RF]\n",
    "\n",
    "X_RF_train = df_RF.values[:train_data.shape[0]]\n",
    "y_RF_train = train_data['Popularity'].values\n",
    "y_RF_train[y_RF_train==-1] = 0\n",
    "X_RF_test = df_RF.values[train_data.shape[0]:]\n",
    "\n",
    "print(X_RF_train.shape)\n",
    "print(type(X_RF_train))\n",
    "print(X_RF_train)\n",
    "print(y_RF_train.shape)\n",
    "print(type(y_RF_train))\n",
    "print(y_RF_train)\n",
    "\n",
    "X_RF_train_split, X_RF_valid_split, y_RF_train_split, y_RF_valid_split = train_test_split(X_RF_train, y_RF_train, test_size=0.3, random_state=0)"
   ]
  },
  {
   "cell_type": "markdown",
   "metadata": {},
   "source": [
    "6. Voting"
   ]
  },
  {
   "cell_type": "code",
   "execution_count": 84,
   "metadata": {},
   "outputs": [
    {
     "name": "stdout",
     "output_type": "stream",
     "text": [
      "(27643, 10)\n",
      "<class 'numpy.ndarray'>\n",
      "[['clara moskowitz'\n",
      "  'Asteroid, Asteroids, challenge, Earth, Space, U.S., World ' 2013 ...\n",
      "  15 0 3591]\n",
      " ['christina warren'\n",
      "  'Apps and Software, Google, open source, opn pledge, patent lawsuit theater, software patents, Tech, U.S. '\n",
      "  2013 ... 17 0 1843]\n",
      " ['sam laird' 'Entertainment, NFL, NFL Draft, Sports, Television ' 2014\n",
      "  ... 19 25 6646]\n",
      " ...\n",
      " ['christine erickson' 'Food, hot dogs, humor, Photography, Watercooler '\n",
      "  2014 ... 12 0 1274]\n",
      " ['seth fiegerman' 'Business, marissa mayer, Media, stocks, Yahoo ' 2013\n",
      "  ... 20 0 2657]\n",
      " ['megan ranney' 'austin, Business, CurioCity, Small Business, Startups '\n",
      "  2014 ... 18 0 3027]]\n",
      "(27643,)\n",
      "<class 'numpy.ndarray'>\n",
      "[0 1 1 ... 0 0 1]\n"
     ]
    }
   ],
   "source": [
    "remaining_dict_voting = [  #'title', \n",
    "                            'author_name', \n",
    "                            #'channel', \n",
    "                            'topic', \n",
    "                            'year', \n",
    "                            'month',\n",
    "                            'date', \n",
    "                            'day', \n",
    "                            'is_weekend',\n",
    "                            'hour', \n",
    "                            # 'minute', \n",
    "                            # 'second', \n",
    "                            # 'num_img', \n",
    "                            'num_video', \n",
    "                            'len_content',\n",
    "                            # 'sentiment_neg', \n",
    "                            # 'sentiment_neu', \n",
    "                            # 'sentiment_pos', \n",
    "                            # 'sentiment_compound'\n",
    "                            ]\n",
    "\n",
    "df_voting = df_all.loc[:, remaining_dict_voting]\n",
    "\n",
    "X_voting_train = df_voting.values[:train_data.shape[0]]\n",
    "y_voting_train = train_data['Popularity'].values\n",
    "y_voting_train[y_voting_train==-1] = 0\n",
    "X_voting_test = df_voting.values[train_data.shape[0]:]\n",
    "\n",
    "print(X_voting_train.shape)\n",
    "print(type(X_voting_train))\n",
    "print(X_voting_train)\n",
    "print(y_voting_train.shape)\n",
    "print(type(y_voting_train))\n",
    "print(y_voting_train)\n",
    "\n",
    "X_voting_train_split, X_voting_valid_split, y_voting_train_split, y_voting_valid_split = train_test_split(X_voting_train, y_voting_train, test_size=0.3, random_state=0)"
   ]
  },
  {
   "cell_type": "code",
   "execution_count": 85,
   "metadata": {},
   "outputs": [],
   "source": [
    "# from sklearn.model_selection import train_test_split\n",
    "\n",
    "# X_train = df.values[:train_data.shape[0]]\n",
    "# y_train = train_data['Popularity'].values\n",
    "# y_train[y_train==-1] = 0\n",
    "# X_test = df.values[train_data.shape[0]:]\n",
    "\n",
    "# print(X_train.shape)\n",
    "# print(type(X_train))\n",
    "# print(X_train)\n",
    "# print(y_train.shape)\n",
    "# print(type(y_train))\n",
    "# print(y_train)\n",
    "\n",
    "# X_train_split, X_valid_split, y_train_split, y_valid_split = train_test_split(X_train, y_train, test_size=0.3, random_state=0)"
   ]
  },
  {
   "cell_type": "markdown",
   "metadata": {},
   "source": [
    "#### - To construct the training function"
   ]
  },
  {
   "cell_type": "code",
   "execution_count": 86,
   "metadata": {},
   "outputs": [],
   "source": [
    "from sklearn.model_selection import cross_validate\n",
    "from sklearn.metrics import roc_auc_score\n",
    "\n",
    "def training(X_train, y_train, clf):\n",
    "    score = cross_validate(clf, X_train, y_train, scoring='roc_auc', return_train_score=True, return_estimator=True)\n",
    "    print('train score: {:.6f} (+/-{:.6f})'.format(\n",
    "        np.mean(score['train_score']), np.std(score['train_score'])))\n",
    "    print('valid score: {:.6f} (+/-{:.6f})'.format(\n",
    "        np.mean(score['test_score']), np.std(score['test_score'])))\n",
    "\n",
    "    clf.fit(X_train, y_train)\n",
    "    \n",
    "    return clf, np.mean(score['train_score']), np.mean(score['test_score'])"
   ]
  },
  {
   "cell_type": "markdown",
   "metadata": {},
   "source": [
    "#### - To contruct the grid search function"
   ]
  },
  {
   "cell_type": "code",
   "execution_count": 147,
   "metadata": {},
   "outputs": [],
   "source": [
    "from sklearn.model_selection import GridSearchCV\n",
    "\n",
    "def grid_search_cv(ct, X_train, y_train, clf, param_grid, verbose_=False):\n",
    "    X_train_ct = ct.fit_transform(X_train)\n",
    "    \n",
    "    # to report the grid search information\n",
    "    if(verbose_):\n",
    "        gs = GridSearchCV(estimator=clf, param_grid=param_grid, scoring='roc_auc', n_jobs=-1, cv=5, return_train_score=True, verbose = 3)\n",
    "    else:\n",
    "        gs = GridSearchCV(estimator=clf, param_grid=param_grid, scoring='roc_auc', n_jobs=-1, cv=5, return_train_score=True)\n",
    "        \n",
    "    gs.fit(X_train_ct, y_train)\n",
    "    \n",
    "    results, idx = gs.cv_results_, gs.best_index_\n",
    "    print('train score: {:.6f} (+/-{:.6f})'.format(results['mean_train_score'][idx], results['std_train_score'][idx]))\n",
    "    print('valid score: {:.6f} (+/-{:.6f})'.format(results['mean_test_score'][idx], results['std_test_score'][idx]))\n",
    "    print('best params:', gs.best_params_)\n",
    "    return gs.best_params_, gs.best_estimator_, results['mean_test_score'][idx]"
   ]
  },
  {
   "cell_type": "markdown",
   "metadata": {},
   "source": [
    "#### **- To set whether to run the grid search**"
   ]
  },
  {
   "cell_type": "code",
   "execution_count": 88,
   "metadata": {},
   "outputs": [],
   "source": [
    "# grid_search_en = True\n",
    "grid_search_en = False"
   ]
  },
  {
   "cell_type": "markdown",
   "metadata": {},
   "source": [
    "#### - to store the best parameter to a file"
   ]
  },
  {
   "cell_type": "code",
   "execution_count": 89,
   "metadata": {},
   "outputs": [],
   "source": [
    "def parameter_storage(dict_path, file_name, best_param, best_validation, remaining_dict, best_estimator_list=None):\n",
    "    if not os.path.exists(dict_path):\n",
    "        os.makedirs(dict_path)\n",
    "        \n",
    "    file_path = os.path.join(dict_path, file_name + \".txt\")\n",
    "    \n",
    "    with open(file_path, \"w\") as file:\n",
    "        file.write(f'The features: {remaining_dict}\\n')\n",
    "        file.write(f'The best parameter: {best_param}\\n')\n",
    "        file.write(f'ngram_range : {ngram_range_}\\n')\n",
    "        if not (best_estimator_list==None):\n",
    "            file.write('The best estimator_list: ')\n",
    "            for i in range(len(best_estimator_list)):\n",
    "                file.write(f' {best_estimator_list[i][0]}')\n",
    "            file.write('\\n')\n",
    "        file.write(f'The best validation: {best_validation}\\n')\n",
    "        file.write('--------------------------------------------------------\\n')"
   ]
  },
  {
   "cell_type": "markdown",
   "metadata": {},
   "source": [
    "### 4-1. XGBOOST"
   ]
  },
  {
   "cell_type": "markdown",
   "metadata": {},
   "source": [
    "4-1-1. Grid sizing for XGBoost"
   ]
  },
  {
   "cell_type": "code",
   "execution_count": 113,
   "metadata": {},
   "outputs": [],
   "source": [
    "from xgboost import XGBClassifier\n",
    "import joblib\n",
    "\n",
    "xgb_model_path = '../output/best_models/xgboost/'\n",
    "if not os.path.exists(xgb_model_path):\n",
    "        os.makedirs(xgb_model_path)"
   ]
  },
  {
   "cell_type": "code",
   "execution_count": 115,
   "metadata": {},
   "outputs": [
    {
     "name": "stdout",
     "output_type": "stream",
     "text": [
      "Fitting 5 folds for each of 32 candidates, totalling 160 fits\n",
      "[CV] END gamma=1.1, lambda=2.4, learning_rate=0.141, max_depth=7, n_estimators=97; total time=  20.1s\n",
      "[CV] END gamma=1.1, lambda=2.4, learning_rate=0.14, max_depth=7, n_estimators=97; total time=  20.2s\n",
      "[CV] END gamma=1.1, lambda=2.4, learning_rate=0.14, max_depth=7, n_estimators=97; total time=  20.2s\n",
      "[CV] END gamma=1.1, lambda=2.4, learning_rate=0.14, max_depth=7, n_estimators=98; total time=  20.3s\n",
      "[CV] END gamma=1.1, lambda=2.4, learning_rate=0.14, max_depth=7, n_estimators=97; total time=  20.3s\n",
      "[CV] END gamma=1.1, lambda=2.4, learning_rate=0.14, max_depth=7, n_estimators=98; total time=  20.3s\n",
      "[CV] END gamma=1.1, lambda=2.5, learning_rate=0.14, max_depth=7, n_estimators=97; total time=  20.2s\n",
      "[CV] END gamma=1.1, lambda=2.4, learning_rate=0.141, max_depth=7, n_estimators=97; total time=  20.3s\n",
      "[CV] END gamma=1.1, lambda=2.5, learning_rate=0.14, max_depth=7, n_estimators=97; total time=  20.3s\n",
      "[CV] END gamma=1.1, lambda=2.4, learning_rate=0.141, max_depth=7, n_estimators=97; total time=  20.3s\n",
      "[CV] END gamma=1.1, lambda=2.4, learning_rate=0.14, max_depth=7, n_estimators=97; total time=  20.4s\n",
      "[CV] END gamma=1.1, lambda=2.5, learning_rate=0.141, max_depth=7, n_estimators=97; total time=  20.2s\n",
      "[CV] END gamma=1.1, lambda=2.4, learning_rate=0.14, max_depth=7, n_estimators=98; total time=  20.4s\n",
      "[CV] END gamma=1.1, lambda=2.4, learning_rate=0.14, max_depth=7, n_estimators=98; total time=  20.4s\n",
      "[CV] END gamma=1.1, lambda=2.4, learning_rate=0.141, max_depth=7, n_estimators=98; total time=  20.4s\n",
      "[CV] END gamma=1.1, lambda=2.4, learning_rate=0.141, max_depth=7, n_estimators=97; total time=  20.4s\n",
      "[CV] END gamma=1.1, lambda=2.5, learning_rate=0.141, max_depth=7, n_estimators=97; total time=  20.2s\n",
      "[CV] END gamma=1.1, lambda=2.5, learning_rate=0.14, max_depth=7, n_estimators=97; total time=  20.4s\n",
      "[CV] END gamma=1.1, lambda=2.4, learning_rate=0.14, max_depth=7, n_estimators=97; total time=  20.5s\n",
      "[CV] END gamma=1.1, lambda=2.4, learning_rate=0.141, max_depth=7, n_estimators=97; total time=  20.5s\n",
      "[CV] END gamma=1.1, lambda=2.4, learning_rate=0.141, max_depth=7, n_estimators=98; total time=  20.5s\n",
      "[CV] END gamma=1.1, lambda=2.5, learning_rate=0.141, max_depth=7, n_estimators=97; total time=  20.3s\n",
      "[CV] END gamma=1.1, lambda=2.5, learning_rate=0.14, max_depth=7, n_estimators=97; total time=  20.4s\n",
      "[CV] END gamma=1.1, lambda=2.4, learning_rate=0.141, max_depth=7, n_estimators=98; total time=  20.5s\n",
      "[CV] END gamma=1.1, lambda=2.5, learning_rate=0.14, max_depth=7, n_estimators=97; total time=  20.4s\n",
      "[CV] END gamma=1.1, lambda=2.5, learning_rate=0.14, max_depth=7, n_estimators=98; total time=  20.4s\n",
      "[CV] END gamma=1.1, lambda=2.5, learning_rate=0.14, max_depth=7, n_estimators=98; total time=  20.4s\n",
      "[CV] END gamma=1.1, lambda=2.4, learning_rate=0.14, max_depth=7, n_estimators=98; total time=  20.6s\n",
      "[CV] END gamma=1.1, lambda=2.4, learning_rate=0.141, max_depth=7, n_estimators=98; total time=  20.5s\n",
      "[CV] END gamma=1.1, lambda=2.5, learning_rate=0.141, max_depth=7, n_estimators=97; total time=  20.4s\n",
      "[CV] END gamma=1.1, lambda=2.5, learning_rate=0.14, max_depth=7, n_estimators=98; total time=  20.5s\n",
      "[CV] END gamma=1.1, lambda=2.5, learning_rate=0.14, max_depth=7, n_estimators=98; total time=  20.5s\n",
      "[CV] END gamma=1.1, lambda=2.5, learning_rate=0.14, max_depth=7, n_estimators=98; total time=  20.5s\n",
      "[CV] END gamma=1.1, lambda=2.4, learning_rate=0.141, max_depth=7, n_estimators=98; total time=  20.6s\n",
      "[CV] END gamma=1.1, lambda=2.4, learning_rate=0.141, max_depth=8, n_estimators=97; total time=  23.0s\n",
      "[CV] END gamma=1.1, lambda=2.4, learning_rate=0.14, max_depth=8, n_estimators=97; total time=  23.3s\n",
      "[CV] END gamma=1.1, lambda=2.4, learning_rate=0.14, max_depth=8, n_estimators=97; total time=  23.3s\n",
      "[CV] END gamma=1.1, lambda=2.4, learning_rate=0.14, max_depth=8, n_estimators=97; total time=  23.3s\n",
      "[CV] END gamma=1.1, lambda=2.4, learning_rate=0.14, max_depth=8, n_estimators=97; total time=  23.4s\n",
      "[CV] END gamma=1.1, lambda=2.4, learning_rate=0.14, max_depth=8, n_estimators=97; total time=  23.4s\n",
      "[CV] END gamma=1.1, lambda=2.4, learning_rate=0.141, max_depth=8, n_estimators=97; total time=  23.4s\n",
      "[CV] END gamma=1.1, lambda=2.5, learning_rate=0.14, max_depth=8, n_estimators=97; total time=  23.4s\n",
      "[CV] END gamma=1.1, lambda=2.5, learning_rate=0.14, max_depth=8, n_estimators=97; total time=  23.4s\n",
      "[CV] END gamma=1.1, lambda=2.4, learning_rate=0.141, max_depth=8, n_estimators=97; total time=  23.5s\n",
      "[CV] END gamma=1.1, lambda=2.4, learning_rate=0.14, max_depth=8, n_estimators=98; total time=  23.5s\n",
      "[CV] END gamma=1.1, lambda=2.4, learning_rate=0.14, max_depth=8, n_estimators=98; total time=  23.6s\n",
      "[CV] END gamma=1.1, lambda=2.4, learning_rate=0.14, max_depth=8, n_estimators=98; total time=  23.7s\n",
      "[CV] END gamma=1.1, lambda=2.4, learning_rate=0.141, max_depth=8, n_estimators=97; total time=  23.6s\n",
      "[CV] END gamma=1.1, lambda=2.4, learning_rate=0.14, max_depth=8, n_estimators=98; total time=  23.7s\n",
      "[CV] END gamma=1.1, lambda=2.4, learning_rate=0.14, max_depth=8, n_estimators=98; total time=  23.7s\n",
      "[CV] END gamma=1.1, lambda=2.4, learning_rate=0.141, max_depth=8, n_estimators=98; total time=  23.7s\n",
      "[CV] END gamma=1.1, lambda=2.5, learning_rate=0.14, max_depth=8, n_estimators=97; total time=  23.6s\n",
      "[CV] END gamma=1.1, lambda=2.5, learning_rate=0.14, max_depth=8, n_estimators=97; total time=  23.6s\n",
      "[CV] END gamma=1.1, lambda=2.5, learning_rate=0.14, max_depth=8, n_estimators=98; total time=  23.6s\n",
      "[CV] END gamma=1.1, lambda=2.5, learning_rate=0.14, max_depth=8, n_estimators=98; total time=  23.7s\n",
      "[CV] END gamma=1.1, lambda=2.5, learning_rate=0.14, max_depth=8, n_estimators=97; total time=  23.7s\n",
      "[CV] END gamma=1.1, lambda=2.5, learning_rate=0.14, max_depth=8, n_estimators=98; total time=  23.7s\n",
      "[CV] END gamma=1.1, lambda=2.4, learning_rate=0.141, max_depth=8, n_estimators=97; total time=  23.8s\n",
      "[CV] END gamma=1.1, lambda=2.5, learning_rate=0.14, max_depth=8, n_estimators=98; total time=  23.8s\n",
      "[CV] END gamma=1.1, lambda=2.4, learning_rate=0.141, max_depth=8, n_estimators=98; total time=  23.8s\n",
      "[CV] END gamma=1.1, lambda=2.4, learning_rate=0.141, max_depth=8, n_estimators=98; total time=  23.9s\n",
      "[CV] END gamma=1.1, lambda=2.4, learning_rate=0.141, max_depth=8, n_estimators=98; total time=  23.9s\n",
      "[CV] END gamma=1.1, lambda=2.5, learning_rate=0.14, max_depth=8, n_estimators=98; total time=  24.0s\n",
      "[CV] END gamma=1.1, lambda=2.4, learning_rate=0.141, max_depth=8, n_estimators=98; total time=  24.2s\n",
      "[CV] END gamma=1.1, lambda=2.5, learning_rate=0.141, max_depth=7, n_estimators=97; total time=  20.3s\n",
      "[CV] END gamma=1.1, lambda=2.5, learning_rate=0.141, max_depth=7, n_estimators=98; total time=  20.4s\n",
      "[CV] END gamma=1.1, lambda=2.5, learning_rate=0.141, max_depth=7, n_estimators=98; total time=  20.4s\n",
      "[CV] END gamma=1.2, lambda=2.4, learning_rate=0.14, max_depth=7, n_estimators=97; total time=  20.2s\n",
      "[CV] END gamma=1.1, lambda=2.5, learning_rate=0.141, max_depth=7, n_estimators=98; total time=  20.4s\n",
      "[CV] END gamma=1.2, lambda=2.4, learning_rate=0.14, max_depth=7, n_estimators=97; total time=  20.2s\n",
      "[CV] END gamma=1.2, lambda=2.4, learning_rate=0.14, max_depth=7, n_estimators=97; total time=  20.2s\n",
      "[CV] END gamma=1.2, lambda=2.4, learning_rate=0.14, max_depth=7, n_estimators=97; total time=  20.2s\n",
      "[CV] END gamma=1.1, lambda=2.5, learning_rate=0.141, max_depth=7, n_estimators=98; total time=  20.4s\n",
      "[CV] END gamma=1.1, lambda=2.5, learning_rate=0.141, max_depth=7, n_estimators=98; total time=  20.5s\n",
      "[CV] END gamma=1.2, lambda=2.4, learning_rate=0.14, max_depth=7, n_estimators=98; total time=  20.3s\n",
      "[CV] END gamma=1.2, lambda=2.4, learning_rate=0.14, max_depth=7, n_estimators=97; total time=  20.4s\n",
      "[CV] END gamma=1.2, lambda=2.4, learning_rate=0.14, max_depth=7, n_estimators=98; total time=  20.5s\n",
      "[CV] END gamma=1.2, lambda=2.4, learning_rate=0.14, max_depth=7, n_estimators=98; total time=  20.5s\n",
      "[CV] END gamma=1.2, lambda=2.4, learning_rate=0.14, max_depth=7, n_estimators=98; total time=  20.5s\n",
      "[CV] END gamma=1.2, lambda=2.4, learning_rate=0.14, max_depth=7, n_estimators=98; total time=  20.6s\n",
      "[CV] END gamma=1.2, lambda=2.4, learning_rate=0.141, max_depth=7, n_estimators=97; total time=  20.1s\n",
      "[CV] END gamma=1.2, lambda=2.4, learning_rate=0.141, max_depth=7, n_estimators=97; total time=  20.2s\n",
      "[CV] END gamma=1.2, lambda=2.4, learning_rate=0.141, max_depth=7, n_estimators=97; total time=  20.3s\n",
      "[CV] END gamma=1.1, lambda=2.5, learning_rate=0.141, max_depth=8, n_estimators=97; total time=  23.3s\n",
      "[CV] END gamma=1.2, lambda=2.4, learning_rate=0.141, max_depth=7, n_estimators=97; total time=  20.2s\n",
      "[CV] END gamma=1.1, lambda=2.5, learning_rate=0.141, max_depth=8, n_estimators=97; total time=  23.4s\n",
      "[CV] END gamma=1.2, lambda=2.4, learning_rate=0.141, max_depth=7, n_estimators=97; total time=  20.3s\n",
      "[CV] END gamma=1.2, lambda=2.4, learning_rate=0.14, max_depth=8, n_estimators=97; total time=  23.3s\n",
      "[CV] END gamma=1.1, lambda=2.5, learning_rate=0.141, max_depth=8, n_estimators=97; total time=  23.5s\n",
      "[CV] END gamma=1.1, lambda=2.5, learning_rate=0.141, max_depth=8, n_estimators=98; total time=  23.4s\n",
      "[CV] END gamma=1.2, lambda=2.4, learning_rate=0.141, max_depth=7, n_estimators=98; total time=  20.3s\n",
      "[CV] END gamma=1.1, lambda=2.5, learning_rate=0.141, max_depth=8, n_estimators=97; total time=  23.5s\n",
      "[CV] END gamma=1.1, lambda=2.5, learning_rate=0.141, max_depth=8, n_estimators=97; total time=  23.5s\n",
      "[CV] END gamma=1.2, lambda=2.4, learning_rate=0.141, max_depth=7, n_estimators=98; total time=  20.4s\n",
      "[CV] END gamma=1.2, lambda=2.4, learning_rate=0.14, max_depth=8, n_estimators=97; total time=  23.3s\n",
      "[CV] END gamma=1.2, lambda=2.4, learning_rate=0.141, max_depth=7, n_estimators=98; total time=  20.4s\n",
      "[CV] END gamma=1.1, lambda=2.5, learning_rate=0.141, max_depth=8, n_estimators=98; total time=  23.5s\n",
      "[CV] END gamma=1.2, lambda=2.4, learning_rate=0.14, max_depth=8, n_estimators=97; total time=  23.4s\n",
      "[CV] END gamma=1.1, lambda=2.5, learning_rate=0.141, max_depth=8, n_estimators=98; total time=  23.6s\n",
      "[CV] END gamma=1.1, lambda=2.5, learning_rate=0.141, max_depth=8, n_estimators=98; total time=  23.6s\n",
      "[CV] END gamma=1.2, lambda=2.4, learning_rate=0.14, max_depth=8, n_estimators=97; total time=  23.5s\n",
      "[CV] END gamma=1.2, lambda=2.4, learning_rate=0.14, max_depth=8, n_estimators=98; total time=  23.5s\n",
      "[CV] END gamma=1.2, lambda=2.4, learning_rate=0.141, max_depth=7, n_estimators=98; total time=  20.5s\n",
      "[CV] END gamma=1.2, lambda=2.4, learning_rate=0.141, max_depth=7, n_estimators=98; total time=  20.5s\n",
      "[CV] END gamma=1.2, lambda=2.4, learning_rate=0.14, max_depth=8, n_estimators=97; total time=  23.5s\n",
      "[CV] END gamma=1.2, lambda=2.5, learning_rate=0.14, max_depth=7, n_estimators=97; total time=  20.2s\n",
      "[CV] END gamma=1.1, lambda=2.5, learning_rate=0.141, max_depth=8, n_estimators=98; total time=  23.7s\n",
      "[CV] END gamma=1.2, lambda=2.4, learning_rate=0.14, max_depth=8, n_estimators=98; total time=  23.5s\n",
      "[CV] END gamma=1.2, lambda=2.5, learning_rate=0.14, max_depth=7, n_estimators=97; total time=  20.2s\n",
      "[CV] END gamma=1.2, lambda=2.5, learning_rate=0.14, max_depth=7, n_estimators=97; total time=  20.3s\n",
      "[CV] END gamma=1.2, lambda=2.4, learning_rate=0.14, max_depth=8, n_estimators=98; total time=  23.6s\n",
      "[CV] END gamma=1.2, lambda=2.5, learning_rate=0.14, max_depth=7, n_estimators=97; total time=  20.5s\n",
      "[CV] END gamma=1.2, lambda=2.5, learning_rate=0.14, max_depth=7, n_estimators=97; total time=  20.5s\n",
      "[CV] END gamma=1.2, lambda=2.5, learning_rate=0.14, max_depth=7, n_estimators=98; total time=  20.5s\n",
      "[CV] END gamma=1.2, lambda=2.5, learning_rate=0.14, max_depth=7, n_estimators=98; total time=  20.7s\n",
      "[CV] END gamma=1.2, lambda=2.5, learning_rate=0.14, max_depth=7, n_estimators=98; total time=  20.5s\n",
      "[CV] END gamma=1.2, lambda=2.4, learning_rate=0.14, max_depth=8, n_estimators=98; total time=  22.7s\n",
      "[CV] END gamma=1.2, lambda=2.4, learning_rate=0.141, max_depth=8, n_estimators=97; total time=  22.8s\n",
      "[CV] END gamma=1.2, lambda=2.4, learning_rate=0.141, max_depth=8, n_estimators=97; total time=  22.7s\n",
      "[CV] END gamma=1.2, lambda=2.4, learning_rate=0.14, max_depth=8, n_estimators=98; total time=  23.2s\n",
      "[CV] END gamma=1.2, lambda=2.4, learning_rate=0.141, max_depth=8, n_estimators=97; total time=  22.9s\n",
      "[CV] END gamma=1.2, lambda=2.4, learning_rate=0.141, max_depth=8, n_estimators=98; total time=  22.8s\n",
      "[CV] END gamma=1.2, lambda=2.4, learning_rate=0.141, max_depth=8, n_estimators=97; total time=  23.0s\n",
      "[CV] END gamma=1.2, lambda=2.4, learning_rate=0.141, max_depth=8, n_estimators=98; total time=  23.0s\n",
      "[CV] END gamma=1.2, lambda=2.4, learning_rate=0.141, max_depth=8, n_estimators=98; total time=  23.0s\n",
      "[CV] END gamma=1.2, lambda=2.4, learning_rate=0.141, max_depth=8, n_estimators=97; total time=  23.1s\n",
      "[CV] END gamma=1.2, lambda=2.4, learning_rate=0.141, max_depth=8, n_estimators=98; total time=  23.3s\n",
      "[CV] END gamma=1.2, lambda=2.4, learning_rate=0.141, max_depth=8, n_estimators=98; total time=  23.4s\n",
      "[CV] END gamma=1.2, lambda=2.5, learning_rate=0.14, max_depth=7, n_estimators=98; total time=  15.4s\n",
      "[CV] END gamma=1.2, lambda=2.5, learning_rate=0.141, max_depth=7, n_estimators=97; total time=  15.0s\n",
      "[CV] END gamma=1.2, lambda=2.5, learning_rate=0.14, max_depth=7, n_estimators=98; total time=  15.7s\n",
      "[CV] END gamma=1.2, lambda=2.5, learning_rate=0.141, max_depth=7, n_estimators=97; total time=  15.2s\n",
      "[CV] END gamma=1.2, lambda=2.5, learning_rate=0.141, max_depth=7, n_estimators=97; total time=  15.2s\n",
      "[CV] END gamma=1.2, lambda=2.5, learning_rate=0.141, max_depth=7, n_estimators=97; total time=  15.2s\n",
      "[CV] END gamma=1.2, lambda=2.5, learning_rate=0.14, max_depth=8, n_estimators=97; total time=  17.4s\n",
      "[CV] END gamma=1.2, lambda=2.5, learning_rate=0.141, max_depth=7, n_estimators=98; total time=  14.5s\n",
      "[CV] END gamma=1.2, lambda=2.5, learning_rate=0.14, max_depth=8, n_estimators=97; total time=  17.4s\n",
      "[CV] END gamma=1.2, lambda=2.5, learning_rate=0.141, max_depth=7, n_estimators=98; total time=  14.4s\n",
      "[CV] END gamma=1.2, lambda=2.5, learning_rate=0.141, max_depth=7, n_estimators=98; total time=  14.7s\n",
      "[CV] END gamma=1.2, lambda=2.5, learning_rate=0.14, max_depth=8, n_estimators=97; total time=  17.6s\n",
      "[CV] END gamma=1.2, lambda=2.5, learning_rate=0.141, max_depth=7, n_estimators=97; total time=  14.7s\n",
      "[CV] END gamma=1.2, lambda=2.5, learning_rate=0.14, max_depth=8, n_estimators=98; total time=  17.4s\n",
      "[CV] END gamma=1.2, lambda=2.5, learning_rate=0.14, max_depth=8, n_estimators=98; total time=  17.6s\n",
      "[CV] END gamma=1.2, lambda=2.5, learning_rate=0.141, max_depth=7, n_estimators=98; total time=  14.7s\n",
      "[CV] END gamma=1.2, lambda=2.5, learning_rate=0.14, max_depth=8, n_estimators=97; total time=  17.8s\n",
      "[CV] END gamma=1.2, lambda=2.5, learning_rate=0.14, max_depth=8, n_estimators=98; total time=  17.6s\n",
      "[CV] END gamma=1.2, lambda=2.5, learning_rate=0.14, max_depth=8, n_estimators=97; total time=  17.9s\n",
      "[CV] END gamma=1.2, lambda=2.5, learning_rate=0.14, max_depth=8, n_estimators=98; total time=  17.8s\n",
      "[CV] END gamma=1.2, lambda=2.5, learning_rate=0.14, max_depth=8, n_estimators=98; total time=  17.8s\n",
      "[CV] END gamma=1.2, lambda=2.5, learning_rate=0.141, max_depth=7, n_estimators=98; total time=  15.0s\n",
      "[CV] END gamma=1.2, lambda=2.5, learning_rate=0.141, max_depth=8, n_estimators=97; total time=  16.2s\n",
      "[CV] END gamma=1.2, lambda=2.5, learning_rate=0.141, max_depth=8, n_estimators=98; total time=  16.4s\n",
      "[CV] END gamma=1.2, lambda=2.5, learning_rate=0.141, max_depth=8, n_estimators=97; total time=  16.4s\n",
      "[CV] END gamma=1.2, lambda=2.5, learning_rate=0.141, max_depth=8, n_estimators=98; total time=  16.4s\n",
      "[CV] END gamma=1.2, lambda=2.5, learning_rate=0.141, max_depth=8, n_estimators=97; total time=  16.5s\n",
      "[CV] END gamma=1.2, lambda=2.5, learning_rate=0.141, max_depth=8, n_estimators=97; total time=  16.6s\n",
      "[CV] END gamma=1.2, lambda=2.5, learning_rate=0.141, max_depth=8, n_estimators=98; total time=  16.5s\n",
      "[CV] END gamma=1.2, lambda=2.5, learning_rate=0.141, max_depth=8, n_estimators=97; total time=  16.9s\n",
      "[CV] END gamma=1.2, lambda=2.5, learning_rate=0.141, max_depth=8, n_estimators=98; total time=  16.8s\n",
      "[CV] END gamma=1.2, lambda=2.5, learning_rate=0.141, max_depth=8, n_estimators=98; total time=  17.0s\n",
      "train score: 0.783863 (+/-0.001916)\n",
      "valid score: 0.593022 (+/-0.004966)\n",
      "best params: {'gamma': 1.2, 'lambda': 2.5, 'learning_rate': 0.141, 'max_depth': 7, 'n_estimators': 97}\n"
     ]
    }
   ],
   "source": [
    "param_grid_xgb = {\n",
    "    'gamma' : [1.1, 1.2],\n",
    "    'lambda' : [2.4, 2.5],\n",
    "    'n_estimators': [97, 98],\n",
    "    'max_depth': [7, 8],\n",
    "    'learning_rate' : [0.14, 0.141]  \n",
    "}\n",
    "\n",
    "if (1):\n",
    "    best_xgb_param, best_xgb, best_xgb_valid = grid_search_cv(text_transformer, X_xgboost_train, y_xgboost_train, XGBClassifier(n_jobs=-1), param_grid_xgb, True)\n",
    "    xgb_path = xgb_model_path+'xgb_'+ str(round(best_xgb_valid, 6))+ '.pkl'\n",
    "    joblib.dump(best_xgb, xgb_path)\n",
    "    parameter_storage('../output/best_parameters', 'best_xgb_param', best_xgb_param, best_xgb_valid, remaining_dict_xgboost)\n",
    "    "
   ]
  },
  {
   "cell_type": "markdown",
   "metadata": {},
   "source": [
    "4-1-2. Training for XGBoost"
   ]
  },
  {
   "cell_type": "code",
   "execution_count": 173,
   "metadata": {},
   "outputs": [],
   "source": [
    "best_xgb_model_path = xgb_model_path+'xgb_0.593022.pkl'"
   ]
  },
  {
   "cell_type": "code",
   "execution_count": 117,
   "metadata": {},
   "outputs": [
    {
     "name": "stdout",
     "output_type": "stream",
     "text": [
      "train score: 0.783027 (+/-0.003699)\n",
      "valid score: 0.589135 (+/-0.005340)\n"
     ]
    }
   ],
   "source": [
    "from sklearn.pipeline import Pipeline\n",
    "\n",
    "param_grid_lgbm = {\n",
    "    'gamma' : 1.2,\n",
    "    'lambda' : 2.5,\n",
    "    'n_estimators': 97,\n",
    "    'max_depth': 7,\n",
    "    'learning_rate' : 0.141,\n",
    "    'n_jobs' : -1,\n",
    "    'random_state' : 0\n",
    "}\n",
    "\n",
    "clf_xgb = joblib.load(best_xgb_model_path)\n",
    "\n",
    "# if (grid_search_en):\n",
    "#     xgboost = Pipeline([('vect', text_transformer), ('clf', best_xgb)])\n",
    "# else :\n",
    "#     xgboost = Pipeline([('vect', text_transformer), ('clf', XGBClassifier(**param_grid_lgbm))])\n",
    "\n",
    "xgboost = Pipeline([('vect', text_transformer), ('clf', clf_xgb)])\n",
    "    \n",
    "_ = training(X_xgboost_train, y_xgboost_train, xgboost)"
   ]
  },
  {
   "cell_type": "markdown",
   "metadata": {},
   "source": [
    "### 4-2. LightGBM"
   ]
  },
  {
   "cell_type": "markdown",
   "metadata": {},
   "source": [
    "4-2-1. Grid sizing for LightGBM"
   ]
  },
  {
   "cell_type": "code",
   "execution_count": 126,
   "metadata": {},
   "outputs": [],
   "source": [
    "from lightgbm import LGBMClassifier\n",
    "\n",
    "lgb_model_path = '../output/best_models/lgboost/'\n",
    "if not os.path.exists(lgb_model_path):\n",
    "        os.makedirs(lgb_model_path)"
   ]
  },
  {
   "cell_type": "code",
   "execution_count": 133,
   "metadata": {},
   "outputs": [
    {
     "name": "stdout",
     "output_type": "stream",
     "text": [
      "Fitting 5 folds for each of 8 candidates, totalling 40 fits\n",
      "[CV] END learning_rate=0.13, n_estimators=230, objective=regression; total time=   6.3s\n",
      "[CV] END learning_rate=0.13, n_estimators=231, objective=regression; total time=   6.4s\n",
      "[CV] END learning_rate=0.0131, n_estimators=231, objective=poisson; total time=   6.8s\n",
      "[CV] END learning_rate=0.0131, n_estimators=231, objective=poisson; total time=   6.8s\n",
      "[CV] END learning_rate=0.0131, n_estimators=231, objective=poisson; total time=   6.8s\n",
      "[CV] END learning_rate=0.0131, n_estimators=231, objective=regression; total time=   6.9s\n",
      "[CV] END learning_rate=0.13, n_estimators=230, objective=regression; total time=   6.9s\n",
      "[CV] END learning_rate=0.0131, n_estimators=231, objective=regression; total time=   7.0s\n",
      "[CV] END learning_rate=0.13, n_estimators=230, objective=poisson; total time=   7.1s\n",
      "[CV] END learning_rate=0.13, n_estimators=231, objective=poisson; total time=   7.2s\n",
      "[CV] END learning_rate=0.13, n_estimators=230, objective=regression; total time=   7.2s\n",
      "[CV] END learning_rate=0.0131, n_estimators=230, objective=regression; total time=   7.3s\n",
      "[CV] END learning_rate=0.0131, n_estimators=231, objective=poisson; total time=   7.3s\n",
      "[CV] END learning_rate=0.13, n_estimators=230, objective=regression; total time=   7.3s\n",
      "[CV] END learning_rate=0.13, n_estimators=231, objective=regression; total time=   7.3s\n",
      "[CV] END learning_rate=0.13, n_estimators=230, objective=poisson; total time=   7.4s\n",
      "[CV] END learning_rate=0.0131, n_estimators=231, objective=regression; total time=   7.4s\n",
      "[CV] END learning_rate=0.13, n_estimators=230, objective=poisson; total time=   7.4s\n",
      "[CV] END learning_rate=0.0131, n_estimators=230, objective=poisson; total time=   7.5s\n",
      "[CV] END learning_rate=0.0131, n_estimators=231, objective=poisson; total time=   7.5s\n",
      "[CV] END learning_rate=0.13, n_estimators=231, objective=poisson; total time=   7.5s\n",
      "[CV] END learning_rate=0.13, n_estimators=231, objective=regression; total time=   7.5s\n",
      "[CV] END learning_rate=0.13, n_estimators=231, objective=regression; total time=   7.5s\n",
      "[CV] END learning_rate=0.0131, n_estimators=230, objective=poisson; total time=   7.6s\n",
      "[CV] END learning_rate=0.13, n_estimators=231, objective=poisson; total time=   7.6s\n",
      "[CV] END learning_rate=0.0131, n_estimators=230, objective=regression; total time=   7.8s\n",
      "[CV] END learning_rate=0.13, n_estimators=231, objective=poisson; total time=   7.8s\n",
      "[CV] END learning_rate=0.13, n_estimators=231, objective=regression; total time=   7.8s\n",
      "[CV] END learning_rate=0.13, n_estimators=230, objective=poisson; total time=   7.8s\n",
      "[CV] END learning_rate=0.0131, n_estimators=230, objective=poisson; total time=   7.9s\n",
      "[CV] END learning_rate=0.0131, n_estimators=230, objective=regression; total time=   7.9s\n",
      "[CV] END learning_rate=0.13, n_estimators=230, objective=poisson; total time=   8.0s\n",
      "[CV] END learning_rate=0.0131, n_estimators=230, objective=regression; total time=   8.2s\n",
      "[CV] END learning_rate=0.0131, n_estimators=231, objective=regression; total time=   8.1s\n",
      "[CV] END learning_rate=0.0131, n_estimators=231, objective=regression; total time=   8.2s\n",
      "[CV] END learning_rate=0.0131, n_estimators=230, objective=poisson; total time=   8.3s\n",
      "[CV] END learning_rate=0.0131, n_estimators=230, objective=poisson; total time=   8.3s\n",
      "[CV] END learning_rate=0.13, n_estimators=230, objective=regression; total time=   7.9s\n",
      "[CV] END learning_rate=0.0131, n_estimators=230, objective=regression; total time=   8.4s\n",
      "[CV] END learning_rate=0.13, n_estimators=231, objective=poisson; total time=   8.6s\n",
      "train score: 0.699887 (+/-0.002702)\n",
      "valid score: 0.599386 (+/-0.007198)\n",
      "best params: {'learning_rate': 0.0131, 'n_estimators': 231, 'objective': 'regression'}\n"
     ]
    }
   ],
   "source": [
    "param_grid_lgbm = {\n",
    "    'learning_rate' : [0.13, 0.0131], \n",
    "    'n_estimators' : [230, 231],\n",
    "    'objective' : ['regression', 'poisson']\n",
    "}\n",
    "\n",
    "if (grid_search_en):\n",
    "    best_lgbm_param, best_lgbm, best_lgbm_valid = grid_search_cv(text_transformer, X_lightgbm_train, y_lightgbm_train, LGBMClassifier(n_jobs=-1, verbose=-1), param_grid_lgbm, True)\n",
    "    lgb_path = lgb_model_path+'lgb_'+ str(round(best_lgbm_valid, 6))+ '.pkl'\n",
    "    joblib.dump(best_lgbm, lgb_path)\n",
    "    parameter_storage('../output/best_parameters', 'best_lgbm_param', best_lgbm_param, best_lgbm_valid, remaining_dict_lightgbm)"
   ]
  },
  {
   "cell_type": "code",
   "execution_count": 134,
   "metadata": {},
   "outputs": [],
   "source": [
    "best_lgb_model_path = lgb_model_path+'lgb_0.599386.pkl'"
   ]
  },
  {
   "cell_type": "markdown",
   "metadata": {},
   "source": [
    "4-2-2. Training for LightGBM"
   ]
  },
  {
   "cell_type": "code",
   "execution_count": 135,
   "metadata": {},
   "outputs": [
    {
     "name": "stdout",
     "output_type": "stream",
     "text": [
      "train score: 0.779805 (+/-0.003876)\n",
      "valid score: 0.589276 (+/-0.008707)\n"
     ]
    }
   ],
   "source": [
    "params_LGBM = {\n",
    "    'random_state': 0, \n",
    "    'learning_rate' : 0.013,\n",
    "    'n_estimators' : 230,\n",
    "    'n_jobs' : -1,\n",
    "    'objective' : 'poisson'\n",
    "}\n",
    "\n",
    "# if (grid_search_en):\n",
    "#     lgbm = Pipeline([('vect', text_transformer), ('clf', best_lgbm)])\n",
    "# else :\n",
    "#     lgbm = Pipeline([('vect', text_transformer), ('clf', LGBMClassifier(**params_LGBM))])\n",
    "\n",
    "clf_lgb = joblib.load(best_lgb_model_path)\n",
    "\n",
    "lgbm = Pipeline([('vect', text_transformer), ('clf', clf_xgb)])\n",
    "\n",
    "_ = training(X_lightgbm_train, y_lightgbm_train, lgbm)"
   ]
  },
  {
   "cell_type": "markdown",
   "metadata": {},
   "source": [
    "### 4-3. CatBoost"
   ]
  },
  {
   "cell_type": "markdown",
   "metadata": {},
   "source": [
    "4-3-1. Grid sizing for Catboost"
   ]
  },
  {
   "cell_type": "code",
   "execution_count": 136,
   "metadata": {},
   "outputs": [],
   "source": [
    "from catboost import CatBoostClassifier\n",
    "\n",
    "cat_model_path = '../output/best_models/catboost/'\n",
    "if not os.path.exists(cat_model_path):\n",
    "        os.makedirs(cat_model_path)"
   ]
  },
  {
   "cell_type": "code",
   "execution_count": 142,
   "metadata": {},
   "outputs": [
    {
     "name": "stdout",
     "output_type": "stream",
     "text": [
      "Fitting 5 folds for each of 8 candidates, totalling 40 fits\n"
     ]
    },
    {
     "ename": "KeyboardInterrupt",
     "evalue": "",
     "output_type": "error",
     "traceback": [
      "\u001b[0;31m---------------------------------------------------------------------------\u001b[0m",
      "\u001b[0;31mKeyboardInterrupt\u001b[0m                         Traceback (most recent call last)",
      "\u001b[1;32m/users/student/mr111/mfhsieh22/NTHU_Course/Deep-Learning/NTHU-Deep-Learning-Competition/2023_DataLab_Cup1-Predicting_News_Popularity/src/Text_Feature_Engineering.ipynb Cell 64\u001b[0m line \u001b[0;36m8\n\u001b[1;32m      <a href='vscode-notebook-cell://ssh-remote%2B7b22686f73744e616d65223a2249433231227d/users/student/mr111/mfhsieh22/NTHU_Course/Deep-Learning/NTHU-Deep-Learning-Competition/2023_DataLab_Cup1-Predicting_News_Popularity/src/Text_Feature_Engineering.ipynb#Y235sdnNjb2RlLXJlbW90ZQ%3D%3D?line=0'>1</a>\u001b[0m param_grid_catboost \u001b[39m=\u001b[39m {\n\u001b[1;32m      <a href='vscode-notebook-cell://ssh-remote%2B7b22686f73744e616d65223a2249433231227d/users/student/mr111/mfhsieh22/NTHU_Course/Deep-Learning/NTHU-Deep-Learning-Competition/2023_DataLab_Cup1-Predicting_News_Popularity/src/Text_Feature_Engineering.ipynb#Y235sdnNjb2RlLXJlbW90ZQ%3D%3D?line=1'>2</a>\u001b[0m     \u001b[39m'\u001b[39m\u001b[39mlearning_rate\u001b[39m\u001b[39m'\u001b[39m : [\u001b[39m0.01\u001b[39m, \u001b[39m0.02\u001b[39m], \n\u001b[1;32m      <a href='vscode-notebook-cell://ssh-remote%2B7b22686f73744e616d65223a2249433231227d/users/student/mr111/mfhsieh22/NTHU_Course/Deep-Learning/NTHU-Deep-Learning-Competition/2023_DataLab_Cup1-Predicting_News_Popularity/src/Text_Feature_Engineering.ipynb#Y235sdnNjb2RlLXJlbW90ZQ%3D%3D?line=2'>3</a>\u001b[0m     \u001b[39m'\u001b[39m\u001b[39mn_estimators\u001b[39m\u001b[39m'\u001b[39m : [\u001b[39m700\u001b[39m, \u001b[39m650\u001b[39m],\n\u001b[1;32m      <a href='vscode-notebook-cell://ssh-remote%2B7b22686f73744e616d65223a2249433231227d/users/student/mr111/mfhsieh22/NTHU_Course/Deep-Learning/NTHU-Deep-Learning-Competition/2023_DataLab_Cup1-Predicting_News_Popularity/src/Text_Feature_Engineering.ipynb#Y235sdnNjb2RlLXJlbW90ZQ%3D%3D?line=3'>4</a>\u001b[0m     \u001b[39m'\u001b[39m\u001b[39mdepth\u001b[39m\u001b[39m'\u001b[39m : [\u001b[39m11\u001b[39m, \u001b[39m12\u001b[39m]\n\u001b[1;32m      <a href='vscode-notebook-cell://ssh-remote%2B7b22686f73744e616d65223a2249433231227d/users/student/mr111/mfhsieh22/NTHU_Course/Deep-Learning/NTHU-Deep-Learning-Competition/2023_DataLab_Cup1-Predicting_News_Popularity/src/Text_Feature_Engineering.ipynb#Y235sdnNjb2RlLXJlbW90ZQ%3D%3D?line=4'>5</a>\u001b[0m }\n\u001b[1;32m      <a href='vscode-notebook-cell://ssh-remote%2B7b22686f73744e616d65223a2249433231227d/users/student/mr111/mfhsieh22/NTHU_Course/Deep-Learning/NTHU-Deep-Learning-Competition/2023_DataLab_Cup1-Predicting_News_Popularity/src/Text_Feature_Engineering.ipynb#Y235sdnNjb2RlLXJlbW90ZQ%3D%3D?line=6'>7</a>\u001b[0m \u001b[39mif\u001b[39;00m (\u001b[39m1\u001b[39m):\n\u001b[0;32m----> <a href='vscode-notebook-cell://ssh-remote%2B7b22686f73744e616d65223a2249433231227d/users/student/mr111/mfhsieh22/NTHU_Course/Deep-Learning/NTHU-Deep-Learning-Competition/2023_DataLab_Cup1-Predicting_News_Popularity/src/Text_Feature_Engineering.ipynb#Y235sdnNjb2RlLXJlbW90ZQ%3D%3D?line=7'>8</a>\u001b[0m     best_cat_params, best_cat_estimator, best_cat_valid\u001b[39m=\u001b[39m grid_search_cv(text_transformer, X_catboost_train, y_catboost_train, CatBoostClassifier(eval_metric\u001b[39m=\u001b[39;49m\u001b[39m'\u001b[39;49m\u001b[39mAUC\u001b[39;49m\u001b[39m'\u001b[39;49m,random_state\u001b[39m=\u001b[39;49m\u001b[39m0\u001b[39;49m, verbose\u001b[39m=\u001b[39;49m\u001b[39mFalse\u001b[39;49;00m), param_grid_catboost, \u001b[39mTrue\u001b[39;49;00m)\n\u001b[1;32m      <a href='vscode-notebook-cell://ssh-remote%2B7b22686f73744e616d65223a2249433231227d/users/student/mr111/mfhsieh22/NTHU_Course/Deep-Learning/NTHU-Deep-Learning-Competition/2023_DataLab_Cup1-Predicting_News_Popularity/src/Text_Feature_Engineering.ipynb#Y235sdnNjb2RlLXJlbW90ZQ%3D%3D?line=8'>9</a>\u001b[0m     cat_path \u001b[39m=\u001b[39m cat_model_path\u001b[39m+\u001b[39m\u001b[39m'\u001b[39m\u001b[39mcat_\u001b[39m\u001b[39m'\u001b[39m\u001b[39m+\u001b[39m \u001b[39mstr\u001b[39m(\u001b[39mround\u001b[39m(best_cat_valid, \u001b[39m6\u001b[39m))\u001b[39m+\u001b[39m \u001b[39m'\u001b[39m\u001b[39m.pkl\u001b[39m\u001b[39m'\u001b[39m\n\u001b[1;32m     <a href='vscode-notebook-cell://ssh-remote%2B7b22686f73744e616d65223a2249433231227d/users/student/mr111/mfhsieh22/NTHU_Course/Deep-Learning/NTHU-Deep-Learning-Competition/2023_DataLab_Cup1-Predicting_News_Popularity/src/Text_Feature_Engineering.ipynb#Y235sdnNjb2RlLXJlbW90ZQ%3D%3D?line=9'>10</a>\u001b[0m     joblib\u001b[39m.\u001b[39mdump(best_cat_estimator, cat_path)\n",
      "\u001b[1;32m/users/student/mr111/mfhsieh22/NTHU_Course/Deep-Learning/NTHU-Deep-Learning-Competition/2023_DataLab_Cup1-Predicting_News_Popularity/src/Text_Feature_Engineering.ipynb Cell 64\u001b[0m line \u001b[0;36m1\n\u001b[1;32m      <a href='vscode-notebook-cell://ssh-remote%2B7b22686f73744e616d65223a2249433231227d/users/student/mr111/mfhsieh22/NTHU_Course/Deep-Learning/NTHU-Deep-Learning-Competition/2023_DataLab_Cup1-Predicting_News_Popularity/src/Text_Feature_Engineering.ipynb#Y235sdnNjb2RlLXJlbW90ZQ%3D%3D?line=8'>9</a>\u001b[0m \u001b[39melse\u001b[39;00m:\n\u001b[1;32m     <a href='vscode-notebook-cell://ssh-remote%2B7b22686f73744e616d65223a2249433231227d/users/student/mr111/mfhsieh22/NTHU_Course/Deep-Learning/NTHU-Deep-Learning-Competition/2023_DataLab_Cup1-Predicting_News_Popularity/src/Text_Feature_Engineering.ipynb#Y235sdnNjb2RlLXJlbW90ZQ%3D%3D?line=9'>10</a>\u001b[0m     gs \u001b[39m=\u001b[39m GridSearchCV(estimator\u001b[39m=\u001b[39mclf, param_grid\u001b[39m=\u001b[39mparam_grid, scoring\u001b[39m=\u001b[39m\u001b[39m'\u001b[39m\u001b[39mroc_auc\u001b[39m\u001b[39m'\u001b[39m, n_jobs\u001b[39m=\u001b[39m\u001b[39m-\u001b[39m\u001b[39m1\u001b[39m, cv\u001b[39m=\u001b[39m\u001b[39m5\u001b[39m, return_train_score\u001b[39m=\u001b[39m\u001b[39mTrue\u001b[39;00m)\n\u001b[0;32m---> <a href='vscode-notebook-cell://ssh-remote%2B7b22686f73744e616d65223a2249433231227d/users/student/mr111/mfhsieh22/NTHU_Course/Deep-Learning/NTHU-Deep-Learning-Competition/2023_DataLab_Cup1-Predicting_News_Popularity/src/Text_Feature_Engineering.ipynb#Y235sdnNjb2RlLXJlbW90ZQ%3D%3D?line=11'>12</a>\u001b[0m gs\u001b[39m.\u001b[39;49mfit(X_train_ct, y_train)\n\u001b[1;32m     <a href='vscode-notebook-cell://ssh-remote%2B7b22686f73744e616d65223a2249433231227d/users/student/mr111/mfhsieh22/NTHU_Course/Deep-Learning/NTHU-Deep-Learning-Competition/2023_DataLab_Cup1-Predicting_News_Popularity/src/Text_Feature_Engineering.ipynb#Y235sdnNjb2RlLXJlbW90ZQ%3D%3D?line=13'>14</a>\u001b[0m results, idx \u001b[39m=\u001b[39m gs\u001b[39m.\u001b[39mcv_results_, gs\u001b[39m.\u001b[39mbest_index_\n\u001b[1;32m     <a href='vscode-notebook-cell://ssh-remote%2B7b22686f73744e616d65223a2249433231227d/users/student/mr111/mfhsieh22/NTHU_Course/Deep-Learning/NTHU-Deep-Learning-Competition/2023_DataLab_Cup1-Predicting_News_Popularity/src/Text_Feature_Engineering.ipynb#Y235sdnNjb2RlLXJlbW90ZQ%3D%3D?line=14'>15</a>\u001b[0m \u001b[39mprint\u001b[39m(\u001b[39m'\u001b[39m\u001b[39mtrain score: \u001b[39m\u001b[39m{:.6f}\u001b[39;00m\u001b[39m (+/-\u001b[39m\u001b[39m{:.6f}\u001b[39;00m\u001b[39m)\u001b[39m\u001b[39m'\u001b[39m\u001b[39m.\u001b[39mformat(results[\u001b[39m'\u001b[39m\u001b[39mmean_train_score\u001b[39m\u001b[39m'\u001b[39m][idx], results[\u001b[39m'\u001b[39m\u001b[39mstd_train_score\u001b[39m\u001b[39m'\u001b[39m][idx]))\n",
      "File \u001b[0;32m/users/student/mr111/mfhsieh22/miniconda3/envs/DL/lib/python3.11/site-packages/sklearn/model_selection/_search.py:874\u001b[0m, in \u001b[0;36mBaseSearchCV.fit\u001b[0;34m(self, X, y, groups, **fit_params)\u001b[0m\n\u001b[1;32m    868\u001b[0m     results \u001b[39m=\u001b[39m \u001b[39mself\u001b[39m\u001b[39m.\u001b[39m_format_results(\n\u001b[1;32m    869\u001b[0m         all_candidate_params, n_splits, all_out, all_more_results\n\u001b[1;32m    870\u001b[0m     )\n\u001b[1;32m    872\u001b[0m     \u001b[39mreturn\u001b[39;00m results\n\u001b[0;32m--> 874\u001b[0m \u001b[39mself\u001b[39;49m\u001b[39m.\u001b[39;49m_run_search(evaluate_candidates)\n\u001b[1;32m    876\u001b[0m \u001b[39m# multimetric is determined here because in the case of a callable\u001b[39;00m\n\u001b[1;32m    877\u001b[0m \u001b[39m# self.scoring the return type is only known after calling\u001b[39;00m\n\u001b[1;32m    878\u001b[0m first_test_score \u001b[39m=\u001b[39m all_out[\u001b[39m0\u001b[39m][\u001b[39m\"\u001b[39m\u001b[39mtest_scores\u001b[39m\u001b[39m\"\u001b[39m]\n",
      "File \u001b[0;32m/users/student/mr111/mfhsieh22/miniconda3/envs/DL/lib/python3.11/site-packages/sklearn/model_selection/_search.py:1388\u001b[0m, in \u001b[0;36mGridSearchCV._run_search\u001b[0;34m(self, evaluate_candidates)\u001b[0m\n\u001b[1;32m   1386\u001b[0m \u001b[39mdef\u001b[39;00m \u001b[39m_run_search\u001b[39m(\u001b[39mself\u001b[39m, evaluate_candidates):\n\u001b[1;32m   1387\u001b[0m \u001b[39m    \u001b[39m\u001b[39m\"\"\"Search all candidates in param_grid\"\"\"\u001b[39;00m\n\u001b[0;32m-> 1388\u001b[0m     evaluate_candidates(ParameterGrid(\u001b[39mself\u001b[39;49m\u001b[39m.\u001b[39;49mparam_grid))\n",
      "File \u001b[0;32m/users/student/mr111/mfhsieh22/miniconda3/envs/DL/lib/python3.11/site-packages/sklearn/model_selection/_search.py:821\u001b[0m, in \u001b[0;36mBaseSearchCV.fit.<locals>.evaluate_candidates\u001b[0;34m(candidate_params, cv, more_results)\u001b[0m\n\u001b[1;32m    813\u001b[0m \u001b[39mif\u001b[39;00m \u001b[39mself\u001b[39m\u001b[39m.\u001b[39mverbose \u001b[39m>\u001b[39m \u001b[39m0\u001b[39m:\n\u001b[1;32m    814\u001b[0m     \u001b[39mprint\u001b[39m(\n\u001b[1;32m    815\u001b[0m         \u001b[39m\"\u001b[39m\u001b[39mFitting \u001b[39m\u001b[39m{0}\u001b[39;00m\u001b[39m folds for each of \u001b[39m\u001b[39m{1}\u001b[39;00m\u001b[39m candidates,\u001b[39m\u001b[39m\"\u001b[39m\n\u001b[1;32m    816\u001b[0m         \u001b[39m\"\u001b[39m\u001b[39m totalling \u001b[39m\u001b[39m{2}\u001b[39;00m\u001b[39m fits\u001b[39m\u001b[39m\"\u001b[39m\u001b[39m.\u001b[39mformat(\n\u001b[1;32m    817\u001b[0m             n_splits, n_candidates, n_candidates \u001b[39m*\u001b[39m n_splits\n\u001b[1;32m    818\u001b[0m         )\n\u001b[1;32m    819\u001b[0m     )\n\u001b[0;32m--> 821\u001b[0m out \u001b[39m=\u001b[39m parallel(\n\u001b[1;32m    822\u001b[0m     delayed(_fit_and_score)(\n\u001b[1;32m    823\u001b[0m         clone(base_estimator),\n\u001b[1;32m    824\u001b[0m         X,\n\u001b[1;32m    825\u001b[0m         y,\n\u001b[1;32m    826\u001b[0m         train\u001b[39m=\u001b[39;49mtrain,\n\u001b[1;32m    827\u001b[0m         test\u001b[39m=\u001b[39;49mtest,\n\u001b[1;32m    828\u001b[0m         parameters\u001b[39m=\u001b[39;49mparameters,\n\u001b[1;32m    829\u001b[0m         split_progress\u001b[39m=\u001b[39;49m(split_idx, n_splits),\n\u001b[1;32m    830\u001b[0m         candidate_progress\u001b[39m=\u001b[39;49m(cand_idx, n_candidates),\n\u001b[1;32m    831\u001b[0m         \u001b[39m*\u001b[39;49m\u001b[39m*\u001b[39;49mfit_and_score_kwargs,\n\u001b[1;32m    832\u001b[0m     )\n\u001b[1;32m    833\u001b[0m     \u001b[39mfor\u001b[39;49;00m (cand_idx, parameters), (split_idx, (train, test)) \u001b[39min\u001b[39;49;00m product(\n\u001b[1;32m    834\u001b[0m         \u001b[39menumerate\u001b[39;49m(candidate_params), \u001b[39menumerate\u001b[39;49m(cv\u001b[39m.\u001b[39;49msplit(X, y, groups))\n\u001b[1;32m    835\u001b[0m     )\n\u001b[1;32m    836\u001b[0m )\n\u001b[1;32m    838\u001b[0m \u001b[39mif\u001b[39;00m \u001b[39mlen\u001b[39m(out) \u001b[39m<\u001b[39m \u001b[39m1\u001b[39m:\n\u001b[1;32m    839\u001b[0m     \u001b[39mraise\u001b[39;00m \u001b[39mValueError\u001b[39;00m(\n\u001b[1;32m    840\u001b[0m         \u001b[39m\"\u001b[39m\u001b[39mNo fits were performed. \u001b[39m\u001b[39m\"\u001b[39m\n\u001b[1;32m    841\u001b[0m         \u001b[39m\"\u001b[39m\u001b[39mWas the CV iterator empty? \u001b[39m\u001b[39m\"\u001b[39m\n\u001b[1;32m    842\u001b[0m         \u001b[39m\"\u001b[39m\u001b[39mWere there no candidates?\u001b[39m\u001b[39m\"\u001b[39m\n\u001b[1;32m    843\u001b[0m     )\n",
      "File \u001b[0;32m/users/student/mr111/mfhsieh22/miniconda3/envs/DL/lib/python3.11/site-packages/sklearn/utils/parallel.py:63\u001b[0m, in \u001b[0;36mParallel.__call__\u001b[0;34m(self, iterable)\u001b[0m\n\u001b[1;32m     58\u001b[0m config \u001b[39m=\u001b[39m get_config()\n\u001b[1;32m     59\u001b[0m iterable_with_config \u001b[39m=\u001b[39m (\n\u001b[1;32m     60\u001b[0m     (_with_config(delayed_func, config), args, kwargs)\n\u001b[1;32m     61\u001b[0m     \u001b[39mfor\u001b[39;00m delayed_func, args, kwargs \u001b[39min\u001b[39;00m iterable\n\u001b[1;32m     62\u001b[0m )\n\u001b[0;32m---> 63\u001b[0m \u001b[39mreturn\u001b[39;00m \u001b[39msuper\u001b[39;49m()\u001b[39m.\u001b[39;49m\u001b[39m__call__\u001b[39;49m(iterable_with_config)\n",
      "File \u001b[0;32m/users/student/mr111/mfhsieh22/miniconda3/envs/DL/lib/python3.11/site-packages/joblib/parallel.py:1098\u001b[0m, in \u001b[0;36mParallel.__call__\u001b[0;34m(self, iterable)\u001b[0m\n\u001b[1;32m   1095\u001b[0m     \u001b[39mself\u001b[39m\u001b[39m.\u001b[39m_iterating \u001b[39m=\u001b[39m \u001b[39mFalse\u001b[39;00m\n\u001b[1;32m   1097\u001b[0m \u001b[39mwith\u001b[39;00m \u001b[39mself\u001b[39m\u001b[39m.\u001b[39m_backend\u001b[39m.\u001b[39mretrieval_context():\n\u001b[0;32m-> 1098\u001b[0m     \u001b[39mself\u001b[39;49m\u001b[39m.\u001b[39;49mretrieve()\n\u001b[1;32m   1099\u001b[0m \u001b[39m# Make sure that we get a last message telling us we are done\u001b[39;00m\n\u001b[1;32m   1100\u001b[0m elapsed_time \u001b[39m=\u001b[39m time\u001b[39m.\u001b[39mtime() \u001b[39m-\u001b[39m \u001b[39mself\u001b[39m\u001b[39m.\u001b[39m_start_time\n",
      "File \u001b[0;32m/users/student/mr111/mfhsieh22/miniconda3/envs/DL/lib/python3.11/site-packages/joblib/parallel.py:975\u001b[0m, in \u001b[0;36mParallel.retrieve\u001b[0;34m(self)\u001b[0m\n\u001b[1;32m    973\u001b[0m \u001b[39mtry\u001b[39;00m:\n\u001b[1;32m    974\u001b[0m     \u001b[39mif\u001b[39;00m \u001b[39mgetattr\u001b[39m(\u001b[39mself\u001b[39m\u001b[39m.\u001b[39m_backend, \u001b[39m'\u001b[39m\u001b[39msupports_timeout\u001b[39m\u001b[39m'\u001b[39m, \u001b[39mFalse\u001b[39;00m):\n\u001b[0;32m--> 975\u001b[0m         \u001b[39mself\u001b[39m\u001b[39m.\u001b[39m_output\u001b[39m.\u001b[39mextend(job\u001b[39m.\u001b[39;49mget(timeout\u001b[39m=\u001b[39;49m\u001b[39mself\u001b[39;49m\u001b[39m.\u001b[39;49mtimeout))\n\u001b[1;32m    976\u001b[0m     \u001b[39melse\u001b[39;00m:\n\u001b[1;32m    977\u001b[0m         \u001b[39mself\u001b[39m\u001b[39m.\u001b[39m_output\u001b[39m.\u001b[39mextend(job\u001b[39m.\u001b[39mget())\n",
      "File \u001b[0;32m/users/student/mr111/mfhsieh22/miniconda3/envs/DL/lib/python3.11/site-packages/joblib/_parallel_backends.py:567\u001b[0m, in \u001b[0;36mLokyBackend.wrap_future_result\u001b[0;34m(future, timeout)\u001b[0m\n\u001b[1;32m    564\u001b[0m \u001b[39m\u001b[39m\u001b[39m\"\"\"Wrapper for Future.result to implement the same behaviour as\u001b[39;00m\n\u001b[1;32m    565\u001b[0m \u001b[39mAsyncResults.get from multiprocessing.\"\"\"\u001b[39;00m\n\u001b[1;32m    566\u001b[0m \u001b[39mtry\u001b[39;00m:\n\u001b[0;32m--> 567\u001b[0m     \u001b[39mreturn\u001b[39;00m future\u001b[39m.\u001b[39;49mresult(timeout\u001b[39m=\u001b[39;49mtimeout)\n\u001b[1;32m    568\u001b[0m \u001b[39mexcept\u001b[39;00m CfTimeoutError \u001b[39mas\u001b[39;00m e:\n\u001b[1;32m    569\u001b[0m     \u001b[39mraise\u001b[39;00m \u001b[39mTimeoutError\u001b[39;00m \u001b[39mfrom\u001b[39;00m \u001b[39me\u001b[39;00m\n",
      "File \u001b[0;32m/users/student/mr111/mfhsieh22/miniconda3/envs/DL/lib/python3.11/concurrent/futures/_base.py:451\u001b[0m, in \u001b[0;36mFuture.result\u001b[0;34m(self, timeout)\u001b[0m\n\u001b[1;32m    448\u001b[0m \u001b[39melif\u001b[39;00m \u001b[39mself\u001b[39m\u001b[39m.\u001b[39m_state \u001b[39m==\u001b[39m FINISHED:\n\u001b[1;32m    449\u001b[0m     \u001b[39mreturn\u001b[39;00m \u001b[39mself\u001b[39m\u001b[39m.\u001b[39m__get_result()\n\u001b[0;32m--> 451\u001b[0m \u001b[39mself\u001b[39;49m\u001b[39m.\u001b[39;49m_condition\u001b[39m.\u001b[39;49mwait(timeout)\n\u001b[1;32m    453\u001b[0m \u001b[39mif\u001b[39;00m \u001b[39mself\u001b[39m\u001b[39m.\u001b[39m_state \u001b[39min\u001b[39;00m [CANCELLED, CANCELLED_AND_NOTIFIED]:\n\u001b[1;32m    454\u001b[0m     \u001b[39mraise\u001b[39;00m CancelledError()\n",
      "File \u001b[0;32m/users/student/mr111/mfhsieh22/miniconda3/envs/DL/lib/python3.11/threading.py:320\u001b[0m, in \u001b[0;36mCondition.wait\u001b[0;34m(self, timeout)\u001b[0m\n\u001b[1;32m    318\u001b[0m \u001b[39mtry\u001b[39;00m:    \u001b[39m# restore state no matter what (e.g., KeyboardInterrupt)\u001b[39;00m\n\u001b[1;32m    319\u001b[0m     \u001b[39mif\u001b[39;00m timeout \u001b[39mis\u001b[39;00m \u001b[39mNone\u001b[39;00m:\n\u001b[0;32m--> 320\u001b[0m         waiter\u001b[39m.\u001b[39;49macquire()\n\u001b[1;32m    321\u001b[0m         gotit \u001b[39m=\u001b[39m \u001b[39mTrue\u001b[39;00m\n\u001b[1;32m    322\u001b[0m     \u001b[39melse\u001b[39;00m:\n",
      "\u001b[0;31mKeyboardInterrupt\u001b[0m: "
     ]
    }
   ],
   "source": [
    "param_grid_catboost = {\n",
    "    'learning_rate' : [0.01, 0.02], \n",
    "    'n_estimators' : [700, 650],\n",
    "    'depth' : [11, 12]\n",
    "}\n",
    "\n",
    "if (grid_search_en):\n",
    "    best_cat_params, best_cat_estimator, best_cat_valid= grid_search_cv(text_transformer, X_catboost_train, y_catboost_train, CatBoostClassifier(eval_metric='AUC',random_state=0, verbose=False), param_grid_catboost, True)\n",
    "    cat_path = cat_model_path+'cat_'+ str(round(best_cat_valid, 6))+ '.pkl'\n",
    "    joblib.dump(best_cat_estimator, cat_path)\n",
    "    parameter_storage('../output/best_parameters', 'best_cat_params', best_cat_params, best_cat_valid, remaining_dict_catboost)"
   ]
  },
  {
   "cell_type": "markdown",
   "metadata": {},
   "source": [
    "4-3-2. Training for CatBoost"
   ]
  },
  {
   "cell_type": "code",
   "execution_count": 98,
   "metadata": {},
   "outputs": [
    {
     "ename": "KeyboardInterrupt",
     "evalue": "",
     "output_type": "error",
     "traceback": [
      "\u001b[0;31m---------------------------------------------------------------------------\u001b[0m",
      "\u001b[0;31mKeyboardInterrupt\u001b[0m                         Traceback (most recent call last)",
      "\u001b[1;32m/users/student/mr111/mfhsieh22/NTHU_Course/Deep-Learning/NTHU-Deep-Learning-Competition/2023_DataLab_Cup1-Predicting_News_Popularity/src/Text_Feature_Engineering.ipynb Cell 64\u001b[0m line \u001b[0;36m1\n\u001b[1;32m     <a href='vscode-notebook-cell://ssh-remote%2B7b22686f73744e616d65223a2249433231227d/users/student/mr111/mfhsieh22/NTHU_Course/Deep-Learning/NTHU-Deep-Learning-Competition/2023_DataLab_Cup1-Predicting_News_Popularity/src/Text_Feature_Engineering.ipynb#Y240sdnNjb2RlLXJlbW90ZQ%3D%3D?line=11'>12</a>\u001b[0m \u001b[39melse\u001b[39;00m :\n\u001b[1;32m     <a href='vscode-notebook-cell://ssh-remote%2B7b22686f73744e616d65223a2249433231227d/users/student/mr111/mfhsieh22/NTHU_Course/Deep-Learning/NTHU-Deep-Learning-Competition/2023_DataLab_Cup1-Predicting_News_Popularity/src/Text_Feature_Engineering.ipynb#Y240sdnNjb2RlLXJlbW90ZQ%3D%3D?line=12'>13</a>\u001b[0m     catboost \u001b[39m=\u001b[39m Pipeline([(\u001b[39m'\u001b[39m\u001b[39mct\u001b[39m\u001b[39m'\u001b[39m, text_transformer),(\u001b[39m'\u001b[39m\u001b[39mclf\u001b[39m\u001b[39m'\u001b[39m, CatBoostClassifier(\u001b[39m*\u001b[39m\u001b[39m*\u001b[39mparamsCatBoost))])\n\u001b[0;32m---> <a href='vscode-notebook-cell://ssh-remote%2B7b22686f73744e616d65223a2249433231227d/users/student/mr111/mfhsieh22/NTHU_Course/Deep-Learning/NTHU-Deep-Learning-Competition/2023_DataLab_Cup1-Predicting_News_Popularity/src/Text_Feature_Engineering.ipynb#Y240sdnNjb2RlLXJlbW90ZQ%3D%3D?line=14'>15</a>\u001b[0m _ \u001b[39m=\u001b[39m training(X_catboost_train, y_catboost_train, catboost)\n",
      "\u001b[1;32m/users/student/mr111/mfhsieh22/NTHU_Course/Deep-Learning/NTHU-Deep-Learning-Competition/2023_DataLab_Cup1-Predicting_News_Popularity/src/Text_Feature_Engineering.ipynb Cell 64\u001b[0m line \u001b[0;36m5\n\u001b[1;32m      <a href='vscode-notebook-cell://ssh-remote%2B7b22686f73744e616d65223a2249433231227d/users/student/mr111/mfhsieh22/NTHU_Course/Deep-Learning/NTHU-Deep-Learning-Competition/2023_DataLab_Cup1-Predicting_News_Popularity/src/Text_Feature_Engineering.ipynb#Y240sdnNjb2RlLXJlbW90ZQ%3D%3D?line=3'>4</a>\u001b[0m \u001b[39mdef\u001b[39;00m \u001b[39mtraining\u001b[39m(X_train, y_train, clf):\n\u001b[0;32m----> <a href='vscode-notebook-cell://ssh-remote%2B7b22686f73744e616d65223a2249433231227d/users/student/mr111/mfhsieh22/NTHU_Course/Deep-Learning/NTHU-Deep-Learning-Competition/2023_DataLab_Cup1-Predicting_News_Popularity/src/Text_Feature_Engineering.ipynb#Y240sdnNjb2RlLXJlbW90ZQ%3D%3D?line=4'>5</a>\u001b[0m     score \u001b[39m=\u001b[39m cross_validate(clf, X_train, y_train, scoring\u001b[39m=\u001b[39;49m\u001b[39m'\u001b[39;49m\u001b[39mroc_auc\u001b[39;49m\u001b[39m'\u001b[39;49m, return_train_score\u001b[39m=\u001b[39;49m\u001b[39mTrue\u001b[39;49;00m, return_estimator\u001b[39m=\u001b[39;49m\u001b[39mTrue\u001b[39;49;00m)\n\u001b[1;32m      <a href='vscode-notebook-cell://ssh-remote%2B7b22686f73744e616d65223a2249433231227d/users/student/mr111/mfhsieh22/NTHU_Course/Deep-Learning/NTHU-Deep-Learning-Competition/2023_DataLab_Cup1-Predicting_News_Popularity/src/Text_Feature_Engineering.ipynb#Y240sdnNjb2RlLXJlbW90ZQ%3D%3D?line=5'>6</a>\u001b[0m     \u001b[39mprint\u001b[39m(\u001b[39m'\u001b[39m\u001b[39mtrain score: \u001b[39m\u001b[39m{:.6f}\u001b[39;00m\u001b[39m (+/-\u001b[39m\u001b[39m{:.6f}\u001b[39;00m\u001b[39m)\u001b[39m\u001b[39m'\u001b[39m\u001b[39m.\u001b[39mformat(\n\u001b[1;32m      <a href='vscode-notebook-cell://ssh-remote%2B7b22686f73744e616d65223a2249433231227d/users/student/mr111/mfhsieh22/NTHU_Course/Deep-Learning/NTHU-Deep-Learning-Competition/2023_DataLab_Cup1-Predicting_News_Popularity/src/Text_Feature_Engineering.ipynb#Y240sdnNjb2RlLXJlbW90ZQ%3D%3D?line=6'>7</a>\u001b[0m         np\u001b[39m.\u001b[39mmean(score[\u001b[39m'\u001b[39m\u001b[39mtrain_score\u001b[39m\u001b[39m'\u001b[39m]), np\u001b[39m.\u001b[39mstd(score[\u001b[39m'\u001b[39m\u001b[39mtrain_score\u001b[39m\u001b[39m'\u001b[39m])))\n\u001b[1;32m      <a href='vscode-notebook-cell://ssh-remote%2B7b22686f73744e616d65223a2249433231227d/users/student/mr111/mfhsieh22/NTHU_Course/Deep-Learning/NTHU-Deep-Learning-Competition/2023_DataLab_Cup1-Predicting_News_Popularity/src/Text_Feature_Engineering.ipynb#Y240sdnNjb2RlLXJlbW90ZQ%3D%3D?line=7'>8</a>\u001b[0m     \u001b[39mprint\u001b[39m(\u001b[39m'\u001b[39m\u001b[39mvalid score: \u001b[39m\u001b[39m{:.6f}\u001b[39;00m\u001b[39m (+/-\u001b[39m\u001b[39m{:.6f}\u001b[39;00m\u001b[39m)\u001b[39m\u001b[39m'\u001b[39m\u001b[39m.\u001b[39mformat(\n\u001b[1;32m      <a href='vscode-notebook-cell://ssh-remote%2B7b22686f73744e616d65223a2249433231227d/users/student/mr111/mfhsieh22/NTHU_Course/Deep-Learning/NTHU-Deep-Learning-Competition/2023_DataLab_Cup1-Predicting_News_Popularity/src/Text_Feature_Engineering.ipynb#Y240sdnNjb2RlLXJlbW90ZQ%3D%3D?line=8'>9</a>\u001b[0m         np\u001b[39m.\u001b[39mmean(score[\u001b[39m'\u001b[39m\u001b[39mtest_score\u001b[39m\u001b[39m'\u001b[39m]), np\u001b[39m.\u001b[39mstd(score[\u001b[39m'\u001b[39m\u001b[39mtest_score\u001b[39m\u001b[39m'\u001b[39m])))\n",
      "File \u001b[0;32m/users/student/mr111/mfhsieh22/miniconda3/envs/DL/lib/python3.11/site-packages/sklearn/model_selection/_validation.py:266\u001b[0m, in \u001b[0;36mcross_validate\u001b[0;34m(estimator, X, y, groups, scoring, cv, n_jobs, verbose, fit_params, pre_dispatch, return_train_score, return_estimator, error_score)\u001b[0m\n\u001b[1;32m    263\u001b[0m \u001b[39m# We clone the estimator to make sure that all the folds are\u001b[39;00m\n\u001b[1;32m    264\u001b[0m \u001b[39m# independent, and that it is pickle-able.\u001b[39;00m\n\u001b[1;32m    265\u001b[0m parallel \u001b[39m=\u001b[39m Parallel(n_jobs\u001b[39m=\u001b[39mn_jobs, verbose\u001b[39m=\u001b[39mverbose, pre_dispatch\u001b[39m=\u001b[39mpre_dispatch)\n\u001b[0;32m--> 266\u001b[0m results \u001b[39m=\u001b[39m parallel(\n\u001b[1;32m    267\u001b[0m     delayed(_fit_and_score)(\n\u001b[1;32m    268\u001b[0m         clone(estimator),\n\u001b[1;32m    269\u001b[0m         X,\n\u001b[1;32m    270\u001b[0m         y,\n\u001b[1;32m    271\u001b[0m         scorers,\n\u001b[1;32m    272\u001b[0m         train,\n\u001b[1;32m    273\u001b[0m         test,\n\u001b[1;32m    274\u001b[0m         verbose,\n\u001b[1;32m    275\u001b[0m         \u001b[39mNone\u001b[39;49;00m,\n\u001b[1;32m    276\u001b[0m         fit_params,\n\u001b[1;32m    277\u001b[0m         return_train_score\u001b[39m=\u001b[39;49mreturn_train_score,\n\u001b[1;32m    278\u001b[0m         return_times\u001b[39m=\u001b[39;49m\u001b[39mTrue\u001b[39;49;00m,\n\u001b[1;32m    279\u001b[0m         return_estimator\u001b[39m=\u001b[39;49mreturn_estimator,\n\u001b[1;32m    280\u001b[0m         error_score\u001b[39m=\u001b[39;49merror_score,\n\u001b[1;32m    281\u001b[0m     )\n\u001b[1;32m    282\u001b[0m     \u001b[39mfor\u001b[39;49;00m train, test \u001b[39min\u001b[39;49;00m cv\u001b[39m.\u001b[39;49msplit(X, y, groups)\n\u001b[1;32m    283\u001b[0m )\n\u001b[1;32m    285\u001b[0m _warn_or_raise_about_fit_failures(results, error_score)\n\u001b[1;32m    287\u001b[0m \u001b[39m# For callabe scoring, the return type is only know after calling. If the\u001b[39;00m\n\u001b[1;32m    288\u001b[0m \u001b[39m# return type is a dictionary, the error scores can now be inserted with\u001b[39;00m\n\u001b[1;32m    289\u001b[0m \u001b[39m# the correct key.\u001b[39;00m\n",
      "File \u001b[0;32m/users/student/mr111/mfhsieh22/miniconda3/envs/DL/lib/python3.11/site-packages/sklearn/utils/parallel.py:63\u001b[0m, in \u001b[0;36mParallel.__call__\u001b[0;34m(self, iterable)\u001b[0m\n\u001b[1;32m     58\u001b[0m config \u001b[39m=\u001b[39m get_config()\n\u001b[1;32m     59\u001b[0m iterable_with_config \u001b[39m=\u001b[39m (\n\u001b[1;32m     60\u001b[0m     (_with_config(delayed_func, config), args, kwargs)\n\u001b[1;32m     61\u001b[0m     \u001b[39mfor\u001b[39;00m delayed_func, args, kwargs \u001b[39min\u001b[39;00m iterable\n\u001b[1;32m     62\u001b[0m )\n\u001b[0;32m---> 63\u001b[0m \u001b[39mreturn\u001b[39;00m \u001b[39msuper\u001b[39;49m()\u001b[39m.\u001b[39;49m\u001b[39m__call__\u001b[39;49m(iterable_with_config)\n",
      "File \u001b[0;32m/users/student/mr111/mfhsieh22/miniconda3/envs/DL/lib/python3.11/site-packages/joblib/parallel.py:1088\u001b[0m, in \u001b[0;36mParallel.__call__\u001b[0;34m(self, iterable)\u001b[0m\n\u001b[1;32m   1085\u001b[0m \u001b[39mif\u001b[39;00m \u001b[39mself\u001b[39m\u001b[39m.\u001b[39mdispatch_one_batch(iterator):\n\u001b[1;32m   1086\u001b[0m     \u001b[39mself\u001b[39m\u001b[39m.\u001b[39m_iterating \u001b[39m=\u001b[39m \u001b[39mself\u001b[39m\u001b[39m.\u001b[39m_original_iterator \u001b[39mis\u001b[39;00m \u001b[39mnot\u001b[39;00m \u001b[39mNone\u001b[39;00m\n\u001b[0;32m-> 1088\u001b[0m \u001b[39mwhile\u001b[39;00m \u001b[39mself\u001b[39;49m\u001b[39m.\u001b[39;49mdispatch_one_batch(iterator):\n\u001b[1;32m   1089\u001b[0m     \u001b[39mpass\u001b[39;00m\n\u001b[1;32m   1091\u001b[0m \u001b[39mif\u001b[39;00m pre_dispatch \u001b[39m==\u001b[39m \u001b[39m\"\u001b[39m\u001b[39mall\u001b[39m\u001b[39m\"\u001b[39m \u001b[39mor\u001b[39;00m n_jobs \u001b[39m==\u001b[39m \u001b[39m1\u001b[39m:\n\u001b[1;32m   1092\u001b[0m     \u001b[39m# The iterable was consumed all at once by the above for loop.\u001b[39;00m\n\u001b[1;32m   1093\u001b[0m     \u001b[39m# No need to wait for async callbacks to trigger to\u001b[39;00m\n\u001b[1;32m   1094\u001b[0m     \u001b[39m# consumption.\u001b[39;00m\n",
      "File \u001b[0;32m/users/student/mr111/mfhsieh22/miniconda3/envs/DL/lib/python3.11/site-packages/joblib/parallel.py:901\u001b[0m, in \u001b[0;36mParallel.dispatch_one_batch\u001b[0;34m(self, iterator)\u001b[0m\n\u001b[1;32m    899\u001b[0m     \u001b[39mreturn\u001b[39;00m \u001b[39mFalse\u001b[39;00m\n\u001b[1;32m    900\u001b[0m \u001b[39melse\u001b[39;00m:\n\u001b[0;32m--> 901\u001b[0m     \u001b[39mself\u001b[39;49m\u001b[39m.\u001b[39;49m_dispatch(tasks)\n\u001b[1;32m    902\u001b[0m     \u001b[39mreturn\u001b[39;00m \u001b[39mTrue\u001b[39;00m\n",
      "File \u001b[0;32m/users/student/mr111/mfhsieh22/miniconda3/envs/DL/lib/python3.11/site-packages/joblib/parallel.py:819\u001b[0m, in \u001b[0;36mParallel._dispatch\u001b[0;34m(self, batch)\u001b[0m\n\u001b[1;32m    817\u001b[0m \u001b[39mwith\u001b[39;00m \u001b[39mself\u001b[39m\u001b[39m.\u001b[39m_lock:\n\u001b[1;32m    818\u001b[0m     job_idx \u001b[39m=\u001b[39m \u001b[39mlen\u001b[39m(\u001b[39mself\u001b[39m\u001b[39m.\u001b[39m_jobs)\n\u001b[0;32m--> 819\u001b[0m     job \u001b[39m=\u001b[39m \u001b[39mself\u001b[39;49m\u001b[39m.\u001b[39;49m_backend\u001b[39m.\u001b[39;49mapply_async(batch, callback\u001b[39m=\u001b[39;49mcb)\n\u001b[1;32m    820\u001b[0m     \u001b[39m# A job can complete so quickly than its callback is\u001b[39;00m\n\u001b[1;32m    821\u001b[0m     \u001b[39m# called before we get here, causing self._jobs to\u001b[39;00m\n\u001b[1;32m    822\u001b[0m     \u001b[39m# grow. To ensure correct results ordering, .insert is\u001b[39;00m\n\u001b[1;32m    823\u001b[0m     \u001b[39m# used (rather than .append) in the following line\u001b[39;00m\n\u001b[1;32m    824\u001b[0m     \u001b[39mself\u001b[39m\u001b[39m.\u001b[39m_jobs\u001b[39m.\u001b[39minsert(job_idx, job)\n",
      "File \u001b[0;32m/users/student/mr111/mfhsieh22/miniconda3/envs/DL/lib/python3.11/site-packages/joblib/_parallel_backends.py:208\u001b[0m, in \u001b[0;36mSequentialBackend.apply_async\u001b[0;34m(self, func, callback)\u001b[0m\n\u001b[1;32m    206\u001b[0m \u001b[39mdef\u001b[39;00m \u001b[39mapply_async\u001b[39m(\u001b[39mself\u001b[39m, func, callback\u001b[39m=\u001b[39m\u001b[39mNone\u001b[39;00m):\n\u001b[1;32m    207\u001b[0m \u001b[39m    \u001b[39m\u001b[39m\"\"\"Schedule a func to be run\"\"\"\u001b[39;00m\n\u001b[0;32m--> 208\u001b[0m     result \u001b[39m=\u001b[39m ImmediateResult(func)\n\u001b[1;32m    209\u001b[0m     \u001b[39mif\u001b[39;00m callback:\n\u001b[1;32m    210\u001b[0m         callback(result)\n",
      "File \u001b[0;32m/users/student/mr111/mfhsieh22/miniconda3/envs/DL/lib/python3.11/site-packages/joblib/_parallel_backends.py:597\u001b[0m, in \u001b[0;36mImmediateResult.__init__\u001b[0;34m(self, batch)\u001b[0m\n\u001b[1;32m    594\u001b[0m \u001b[39mdef\u001b[39;00m \u001b[39m__init__\u001b[39m(\u001b[39mself\u001b[39m, batch):\n\u001b[1;32m    595\u001b[0m     \u001b[39m# Don't delay the application, to avoid keeping the input\u001b[39;00m\n\u001b[1;32m    596\u001b[0m     \u001b[39m# arguments in memory\u001b[39;00m\n\u001b[0;32m--> 597\u001b[0m     \u001b[39mself\u001b[39m\u001b[39m.\u001b[39mresults \u001b[39m=\u001b[39m batch()\n",
      "File \u001b[0;32m/users/student/mr111/mfhsieh22/miniconda3/envs/DL/lib/python3.11/site-packages/joblib/parallel.py:288\u001b[0m, in \u001b[0;36mBatchedCalls.__call__\u001b[0;34m(self)\u001b[0m\n\u001b[1;32m    284\u001b[0m \u001b[39mdef\u001b[39;00m \u001b[39m__call__\u001b[39m(\u001b[39mself\u001b[39m):\n\u001b[1;32m    285\u001b[0m     \u001b[39m# Set the default nested backend to self._backend but do not set the\u001b[39;00m\n\u001b[1;32m    286\u001b[0m     \u001b[39m# change the default number of processes to -1\u001b[39;00m\n\u001b[1;32m    287\u001b[0m     \u001b[39mwith\u001b[39;00m parallel_backend(\u001b[39mself\u001b[39m\u001b[39m.\u001b[39m_backend, n_jobs\u001b[39m=\u001b[39m\u001b[39mself\u001b[39m\u001b[39m.\u001b[39m_n_jobs):\n\u001b[0;32m--> 288\u001b[0m         \u001b[39mreturn\u001b[39;00m [func(\u001b[39m*\u001b[39;49margs, \u001b[39m*\u001b[39;49m\u001b[39m*\u001b[39;49mkwargs)\n\u001b[1;32m    289\u001b[0m                 \u001b[39mfor\u001b[39;49;00m func, args, kwargs \u001b[39min\u001b[39;49;00m \u001b[39mself\u001b[39;49m\u001b[39m.\u001b[39;49mitems]\n",
      "File \u001b[0;32m/users/student/mr111/mfhsieh22/miniconda3/envs/DL/lib/python3.11/site-packages/joblib/parallel.py:288\u001b[0m, in \u001b[0;36m<listcomp>\u001b[0;34m(.0)\u001b[0m\n\u001b[1;32m    284\u001b[0m \u001b[39mdef\u001b[39;00m \u001b[39m__call__\u001b[39m(\u001b[39mself\u001b[39m):\n\u001b[1;32m    285\u001b[0m     \u001b[39m# Set the default nested backend to self._backend but do not set the\u001b[39;00m\n\u001b[1;32m    286\u001b[0m     \u001b[39m# change the default number of processes to -1\u001b[39;00m\n\u001b[1;32m    287\u001b[0m     \u001b[39mwith\u001b[39;00m parallel_backend(\u001b[39mself\u001b[39m\u001b[39m.\u001b[39m_backend, n_jobs\u001b[39m=\u001b[39m\u001b[39mself\u001b[39m\u001b[39m.\u001b[39m_n_jobs):\n\u001b[0;32m--> 288\u001b[0m         \u001b[39mreturn\u001b[39;00m [func(\u001b[39m*\u001b[39;49margs, \u001b[39m*\u001b[39;49m\u001b[39m*\u001b[39;49mkwargs)\n\u001b[1;32m    289\u001b[0m                 \u001b[39mfor\u001b[39;00m func, args, kwargs \u001b[39min\u001b[39;00m \u001b[39mself\u001b[39m\u001b[39m.\u001b[39mitems]\n",
      "File \u001b[0;32m/users/student/mr111/mfhsieh22/miniconda3/envs/DL/lib/python3.11/site-packages/sklearn/utils/parallel.py:123\u001b[0m, in \u001b[0;36m_FuncWrapper.__call__\u001b[0;34m(self, *args, **kwargs)\u001b[0m\n\u001b[1;32m    121\u001b[0m     config \u001b[39m=\u001b[39m {}\n\u001b[1;32m    122\u001b[0m \u001b[39mwith\u001b[39;00m config_context(\u001b[39m*\u001b[39m\u001b[39m*\u001b[39mconfig):\n\u001b[0;32m--> 123\u001b[0m     \u001b[39mreturn\u001b[39;00m \u001b[39mself\u001b[39;49m\u001b[39m.\u001b[39;49mfunction(\u001b[39m*\u001b[39;49margs, \u001b[39m*\u001b[39;49m\u001b[39m*\u001b[39;49mkwargs)\n",
      "File \u001b[0;32m/users/student/mr111/mfhsieh22/miniconda3/envs/DL/lib/python3.11/site-packages/sklearn/model_selection/_validation.py:686\u001b[0m, in \u001b[0;36m_fit_and_score\u001b[0;34m(estimator, X, y, scorer, train, test, verbose, parameters, fit_params, return_train_score, return_parameters, return_n_test_samples, return_times, return_estimator, split_progress, candidate_progress, error_score)\u001b[0m\n\u001b[1;32m    684\u001b[0m         estimator\u001b[39m.\u001b[39mfit(X_train, \u001b[39m*\u001b[39m\u001b[39m*\u001b[39mfit_params)\n\u001b[1;32m    685\u001b[0m     \u001b[39melse\u001b[39;00m:\n\u001b[0;32m--> 686\u001b[0m         estimator\u001b[39m.\u001b[39;49mfit(X_train, y_train, \u001b[39m*\u001b[39;49m\u001b[39m*\u001b[39;49mfit_params)\n\u001b[1;32m    688\u001b[0m \u001b[39mexcept\u001b[39;00m \u001b[39mException\u001b[39;00m:\n\u001b[1;32m    689\u001b[0m     \u001b[39m# Note fit time as time until error\u001b[39;00m\n\u001b[1;32m    690\u001b[0m     fit_time \u001b[39m=\u001b[39m time\u001b[39m.\u001b[39mtime() \u001b[39m-\u001b[39m start_time\n",
      "File \u001b[0;32m/users/student/mr111/mfhsieh22/miniconda3/envs/DL/lib/python3.11/site-packages/sklearn/pipeline.py:405\u001b[0m, in \u001b[0;36mPipeline.fit\u001b[0;34m(self, X, y, **fit_params)\u001b[0m\n\u001b[1;32m    403\u001b[0m     \u001b[39mif\u001b[39;00m \u001b[39mself\u001b[39m\u001b[39m.\u001b[39m_final_estimator \u001b[39m!=\u001b[39m \u001b[39m\"\u001b[39m\u001b[39mpassthrough\u001b[39m\u001b[39m\"\u001b[39m:\n\u001b[1;32m    404\u001b[0m         fit_params_last_step \u001b[39m=\u001b[39m fit_params_steps[\u001b[39mself\u001b[39m\u001b[39m.\u001b[39msteps[\u001b[39m-\u001b[39m\u001b[39m1\u001b[39m][\u001b[39m0\u001b[39m]]\n\u001b[0;32m--> 405\u001b[0m         \u001b[39mself\u001b[39;49m\u001b[39m.\u001b[39;49m_final_estimator\u001b[39m.\u001b[39;49mfit(Xt, y, \u001b[39m*\u001b[39;49m\u001b[39m*\u001b[39;49mfit_params_last_step)\n\u001b[1;32m    407\u001b[0m \u001b[39mreturn\u001b[39;00m \u001b[39mself\u001b[39m\n",
      "File \u001b[0;32m/users/student/mr111/mfhsieh22/miniconda3/envs/DL/lib/python3.11/site-packages/catboost/core.py:5100\u001b[0m, in \u001b[0;36mCatBoostClassifier.fit\u001b[0;34m(self, X, y, cat_features, text_features, embedding_features, sample_weight, baseline, use_best_model, eval_set, verbose, logging_level, plot, plot_file, column_description, verbose_eval, metric_period, silent, early_stopping_rounds, save_snapshot, snapshot_file, snapshot_interval, init_model, callbacks, log_cout, log_cerr)\u001b[0m\n\u001b[1;32m   5097\u001b[0m \u001b[39mif\u001b[39;00m \u001b[39m'\u001b[39m\u001b[39mloss_function\u001b[39m\u001b[39m'\u001b[39m \u001b[39min\u001b[39;00m params:\n\u001b[1;32m   5098\u001b[0m     CatBoostClassifier\u001b[39m.\u001b[39m_check_is_compatible_loss(params[\u001b[39m'\u001b[39m\u001b[39mloss_function\u001b[39m\u001b[39m'\u001b[39m])\n\u001b[0;32m-> 5100\u001b[0m \u001b[39mself\u001b[39;49m\u001b[39m.\u001b[39;49m_fit(X, y, cat_features, text_features, embedding_features, \u001b[39mNone\u001b[39;49;00m, sample_weight, \u001b[39mNone\u001b[39;49;00m, \u001b[39mNone\u001b[39;49;00m, \u001b[39mNone\u001b[39;49;00m, \u001b[39mNone\u001b[39;49;00m, baseline, use_best_model,\n\u001b[1;32m   5101\u001b[0m           eval_set, verbose, logging_level, plot, plot_file, column_description, verbose_eval, metric_period,\n\u001b[1;32m   5102\u001b[0m           silent, early_stopping_rounds, save_snapshot, snapshot_file, snapshot_interval, init_model, callbacks, log_cout, log_cerr)\n\u001b[1;32m   5103\u001b[0m \u001b[39mreturn\u001b[39;00m \u001b[39mself\u001b[39m\n",
      "File \u001b[0;32m/users/student/mr111/mfhsieh22/miniconda3/envs/DL/lib/python3.11/site-packages/catboost/core.py:2319\u001b[0m, in \u001b[0;36mCatBoost._fit\u001b[0;34m(self, X, y, cat_features, text_features, embedding_features, pairs, sample_weight, group_id, group_weight, subgroup_id, pairs_weight, baseline, use_best_model, eval_set, verbose, logging_level, plot, plot_file, column_description, verbose_eval, metric_period, silent, early_stopping_rounds, save_snapshot, snapshot_file, snapshot_interval, init_model, callbacks, log_cout, log_cerr)\u001b[0m\n\u001b[1;32m   2315\u001b[0m allow_clear_pool \u001b[39m=\u001b[39m train_params[\u001b[39m\"\u001b[39m\u001b[39mallow_clear_pool\u001b[39m\u001b[39m\"\u001b[39m]\n\u001b[1;32m   2317\u001b[0m \u001b[39mwith\u001b[39;00m log_fixup(log_cout, log_cerr), \\\n\u001b[1;32m   2318\u001b[0m     plot_wrapper(plot, plot_file, \u001b[39m'\u001b[39m\u001b[39mTraining plots\u001b[39m\u001b[39m'\u001b[39m, [_get_train_dir(\u001b[39mself\u001b[39m\u001b[39m.\u001b[39mget_params())]):\n\u001b[0;32m-> 2319\u001b[0m     \u001b[39mself\u001b[39;49m\u001b[39m.\u001b[39;49m_train(\n\u001b[1;32m   2320\u001b[0m         train_pool,\n\u001b[1;32m   2321\u001b[0m         train_params[\u001b[39m\"\u001b[39;49m\u001b[39meval_sets\u001b[39;49m\u001b[39m\"\u001b[39;49m],\n\u001b[1;32m   2322\u001b[0m         params,\n\u001b[1;32m   2323\u001b[0m         allow_clear_pool,\n\u001b[1;32m   2324\u001b[0m         train_params[\u001b[39m\"\u001b[39;49m\u001b[39minit_model\u001b[39;49m\u001b[39m\"\u001b[39;49m]\n\u001b[1;32m   2325\u001b[0m     )\n\u001b[1;32m   2327\u001b[0m \u001b[39m# Have property feature_importance possibly set\u001b[39;00m\n\u001b[1;32m   2328\u001b[0m loss \u001b[39m=\u001b[39m \u001b[39mself\u001b[39m\u001b[39m.\u001b[39m_object\u001b[39m.\u001b[39m_get_loss_function_name()\n",
      "File \u001b[0;32m/users/student/mr111/mfhsieh22/miniconda3/envs/DL/lib/python3.11/site-packages/catboost/core.py:1723\u001b[0m, in \u001b[0;36m_CatBoostBase._train\u001b[0;34m(self, train_pool, test_pool, params, allow_clear_pool, init_model)\u001b[0m\n\u001b[1;32m   1722\u001b[0m \u001b[39mdef\u001b[39;00m \u001b[39m_train\u001b[39m(\u001b[39mself\u001b[39m, train_pool, test_pool, params, allow_clear_pool, init_model):\n\u001b[0;32m-> 1723\u001b[0m     \u001b[39mself\u001b[39;49m\u001b[39m.\u001b[39;49m_object\u001b[39m.\u001b[39;49m_train(train_pool, test_pool, params, allow_clear_pool, init_model\u001b[39m.\u001b[39;49m_object \u001b[39mif\u001b[39;49;00m init_model \u001b[39melse\u001b[39;49;00m \u001b[39mNone\u001b[39;49;00m)\n\u001b[1;32m   1724\u001b[0m     \u001b[39mself\u001b[39m\u001b[39m.\u001b[39m_set_trained_model_attributes()\n",
      "File \u001b[0;32m_catboost.pyx:4645\u001b[0m, in \u001b[0;36m_catboost._CatBoost._train\u001b[0;34m()\u001b[0m\n",
      "File \u001b[0;32m_catboost.pyx:4694\u001b[0m, in \u001b[0;36m_catboost._CatBoost._train\u001b[0;34m()\u001b[0m\n",
      "\u001b[0;31mKeyboardInterrupt\u001b[0m: "
     ]
    }
   ],
   "source": [
    "paramsCatBoost = {\n",
    "    'eval_metric' : 'AUC',\n",
    "    'n_estimators' : 700,\n",
    "    'depth' : 12,\n",
    "    'learning_rate' : 0.01,\n",
    "    'random_state' : 0,\n",
    "    'verbose' : False\n",
    "}\n",
    "\n",
    "if (grid_search_en):\n",
    "    catboost = Pipeline([('ct', text_transformer),('clf', best_cat_estimator)])\n",
    "else :\n",
    "    catboost = Pipeline([('ct', text_transformer),('clf', CatBoostClassifier(**paramsCatBoost))])\n",
    "\n",
    "_ = training(X_catboost_train, y_catboost_train, catboost)"
   ]
  },
  {
   "cell_type": "markdown",
   "metadata": {},
   "source": [
    "### 4-4. AdaBoost"
   ]
  },
  {
   "cell_type": "code",
   "execution_count": 178,
   "metadata": {},
   "outputs": [],
   "source": [
    "from sklearn.ensemble import AdaBoostClassifier\n",
    "from sklearn.tree import DecisionTreeClassifier\n",
    "\n",
    "ada_model_path = '../output/best_models/adaboost/'\n",
    "if not os.path.exists(ada_model_path):\n",
    "        os.makedirs(ada_model_path)"
   ]
  },
  {
   "cell_type": "markdown",
   "metadata": {},
   "source": [
    "4-4-1. Grid sizing for AdaBoost"
   ]
  },
  {
   "cell_type": "code",
   "execution_count": 181,
   "metadata": {},
   "outputs": [
    {
     "name": "stdout",
     "output_type": "stream",
     "text": [
      "Fitting 5 folds for each of 1 candidates, totalling 5 fits\n"
     ]
    }
   ],
   "source": [
    "\n",
    "params_grid_AdaBoost = {\n",
    "    'estimator__max_depth' : [4],\n",
    "    'n_estimators': [1500],\n",
    "    'learning_rate': [0.001],\n",
    "    'random_state' : [0]\n",
    "}\n",
    "\n",
    "if (grid_search_en):\n",
    "    best_ada_params, best_ada_estimator, best_ada_valid = grid_search_cv(text_transformer, X_adaboost_train, y_adaboost_train,\n",
    "                                                         AdaBoostClassifier(estimator=DecisionTreeClassifier(random_state=0)), \n",
    "                                                         params_grid_AdaBoost, True)\n",
    "    ada_path = ada_model_path+'ada_'+ str(round(best_ada_valid, 6))+ '.pkl'\n",
    "    joblib.dump(best_ada_estimator, ada_path)\n",
    "    parameter_storage('../output/best_parameters', 'best_ada_params', best_ada_params, best_ada_valid, remaining_dict_adaboost)"
   ]
  },
  {
   "cell_type": "code",
   "execution_count": 174,
   "metadata": {},
   "outputs": [],
   "source": [
    "best_ada_model_path = ada_model_path+'ada_0.599386.pkl'"
   ]
  },
  {
   "cell_type": "markdown",
   "metadata": {},
   "source": [
    "4-4-2. Training for AdaBoost"
   ]
  },
  {
   "cell_type": "code",
   "execution_count": null,
   "metadata": {},
   "outputs": [
    {
     "ename": "KeyboardInterrupt",
     "evalue": "",
     "output_type": "error",
     "traceback": [
      "\u001b[0;31m---------------------------------------------------------------------------\u001b[0m",
      "\u001b[0;31mKeyboardInterrupt\u001b[0m                         Traceback (most recent call last)",
      "\u001b[1;32m/users/student/mr111/mfhsieh22/NTHU_Course/Deep-Learning/NTHU-Deep-Learning-Competition/2023_DataLab_Cup1-Predicting_News_Popularity/src/Text_Feature_Engineering.ipynb Cell 70\u001b[0m line \u001b[0;36m1\n\u001b[1;32m      <a href='vscode-notebook-cell://ssh-remote%2B7b22686f73744e616d65223a2249433231227d/users/student/mr111/mfhsieh22/NTHU_Course/Deep-Learning/NTHU-Deep-Learning-Competition/2023_DataLab_Cup1-Predicting_News_Popularity/src/Text_Feature_Engineering.ipynb#Y246sdnNjb2RlLXJlbW90ZQ%3D%3D?line=8'>9</a>\u001b[0m \u001b[39melse\u001b[39;00m :\n\u001b[1;32m     <a href='vscode-notebook-cell://ssh-remote%2B7b22686f73744e616d65223a2249433231227d/users/student/mr111/mfhsieh22/NTHU_Course/Deep-Learning/NTHU-Deep-Learning-Competition/2023_DataLab_Cup1-Predicting_News_Popularity/src/Text_Feature_Engineering.ipynb#Y246sdnNjb2RlLXJlbW90ZQ%3D%3D?line=9'>10</a>\u001b[0m     adaBoost \u001b[39m=\u001b[39m Pipeline([(\u001b[39m'\u001b[39m\u001b[39mvect\u001b[39m\u001b[39m'\u001b[39m, text_transformer), (\u001b[39m'\u001b[39m\u001b[39mclf\u001b[39m\u001b[39m'\u001b[39m, AdaBoostClassifier(\u001b[39m*\u001b[39m\u001b[39m*\u001b[39mparam_Adaboost))])\n\u001b[0;32m---> <a href='vscode-notebook-cell://ssh-remote%2B7b22686f73744e616d65223a2249433231227d/users/student/mr111/mfhsieh22/NTHU_Course/Deep-Learning/NTHU-Deep-Learning-Competition/2023_DataLab_Cup1-Predicting_News_Popularity/src/Text_Feature_Engineering.ipynb#Y246sdnNjb2RlLXJlbW90ZQ%3D%3D?line=11'>12</a>\u001b[0m _ \u001b[39m=\u001b[39m training(X_adaboost_train, y_adaboost_train, adaBoost)\n",
      "\u001b[1;32m/users/student/mr111/mfhsieh22/NTHU_Course/Deep-Learning/NTHU-Deep-Learning-Competition/2023_DataLab_Cup1-Predicting_News_Popularity/src/Text_Feature_Engineering.ipynb Cell 70\u001b[0m line \u001b[0;36m5\n\u001b[1;32m      <a href='vscode-notebook-cell://ssh-remote%2B7b22686f73744e616d65223a2249433231227d/users/student/mr111/mfhsieh22/NTHU_Course/Deep-Learning/NTHU-Deep-Learning-Competition/2023_DataLab_Cup1-Predicting_News_Popularity/src/Text_Feature_Engineering.ipynb#Y246sdnNjb2RlLXJlbW90ZQ%3D%3D?line=3'>4</a>\u001b[0m \u001b[39mdef\u001b[39;00m \u001b[39mtraining\u001b[39m(X_train, y_train, clf):\n\u001b[0;32m----> <a href='vscode-notebook-cell://ssh-remote%2B7b22686f73744e616d65223a2249433231227d/users/student/mr111/mfhsieh22/NTHU_Course/Deep-Learning/NTHU-Deep-Learning-Competition/2023_DataLab_Cup1-Predicting_News_Popularity/src/Text_Feature_Engineering.ipynb#Y246sdnNjb2RlLXJlbW90ZQ%3D%3D?line=4'>5</a>\u001b[0m     score \u001b[39m=\u001b[39m cross_validate(clf, X_train, y_train, scoring\u001b[39m=\u001b[39;49m\u001b[39m'\u001b[39;49m\u001b[39mroc_auc\u001b[39;49m\u001b[39m'\u001b[39;49m, return_train_score\u001b[39m=\u001b[39;49m\u001b[39mTrue\u001b[39;49;00m, return_estimator\u001b[39m=\u001b[39;49m\u001b[39mTrue\u001b[39;49;00m)\n\u001b[1;32m      <a href='vscode-notebook-cell://ssh-remote%2B7b22686f73744e616d65223a2249433231227d/users/student/mr111/mfhsieh22/NTHU_Course/Deep-Learning/NTHU-Deep-Learning-Competition/2023_DataLab_Cup1-Predicting_News_Popularity/src/Text_Feature_Engineering.ipynb#Y246sdnNjb2RlLXJlbW90ZQ%3D%3D?line=5'>6</a>\u001b[0m     \u001b[39mprint\u001b[39m(\u001b[39m'\u001b[39m\u001b[39mtrain score: \u001b[39m\u001b[39m{:.6f}\u001b[39;00m\u001b[39m (+/-\u001b[39m\u001b[39m{:.6f}\u001b[39;00m\u001b[39m)\u001b[39m\u001b[39m'\u001b[39m\u001b[39m.\u001b[39mformat(\n\u001b[1;32m      <a href='vscode-notebook-cell://ssh-remote%2B7b22686f73744e616d65223a2249433231227d/users/student/mr111/mfhsieh22/NTHU_Course/Deep-Learning/NTHU-Deep-Learning-Competition/2023_DataLab_Cup1-Predicting_News_Popularity/src/Text_Feature_Engineering.ipynb#Y246sdnNjb2RlLXJlbW90ZQ%3D%3D?line=6'>7</a>\u001b[0m         np\u001b[39m.\u001b[39mmean(score[\u001b[39m'\u001b[39m\u001b[39mtrain_score\u001b[39m\u001b[39m'\u001b[39m]), np\u001b[39m.\u001b[39mstd(score[\u001b[39m'\u001b[39m\u001b[39mtrain_score\u001b[39m\u001b[39m'\u001b[39m])))\n\u001b[1;32m      <a href='vscode-notebook-cell://ssh-remote%2B7b22686f73744e616d65223a2249433231227d/users/student/mr111/mfhsieh22/NTHU_Course/Deep-Learning/NTHU-Deep-Learning-Competition/2023_DataLab_Cup1-Predicting_News_Popularity/src/Text_Feature_Engineering.ipynb#Y246sdnNjb2RlLXJlbW90ZQ%3D%3D?line=7'>8</a>\u001b[0m     \u001b[39mprint\u001b[39m(\u001b[39m'\u001b[39m\u001b[39mvalid score: \u001b[39m\u001b[39m{:.6f}\u001b[39;00m\u001b[39m (+/-\u001b[39m\u001b[39m{:.6f}\u001b[39;00m\u001b[39m)\u001b[39m\u001b[39m'\u001b[39m\u001b[39m.\u001b[39mformat(\n\u001b[1;32m      <a href='vscode-notebook-cell://ssh-remote%2B7b22686f73744e616d65223a2249433231227d/users/student/mr111/mfhsieh22/NTHU_Course/Deep-Learning/NTHU-Deep-Learning-Competition/2023_DataLab_Cup1-Predicting_News_Popularity/src/Text_Feature_Engineering.ipynb#Y246sdnNjb2RlLXJlbW90ZQ%3D%3D?line=8'>9</a>\u001b[0m         np\u001b[39m.\u001b[39mmean(score[\u001b[39m'\u001b[39m\u001b[39mtest_score\u001b[39m\u001b[39m'\u001b[39m]), np\u001b[39m.\u001b[39mstd(score[\u001b[39m'\u001b[39m\u001b[39mtest_score\u001b[39m\u001b[39m'\u001b[39m])))\n",
      "File \u001b[0;32m/users/student/mr111/mfhsieh22/miniconda3/envs/DL/lib/python3.11/site-packages/sklearn/model_selection/_validation.py:266\u001b[0m, in \u001b[0;36mcross_validate\u001b[0;34m(estimator, X, y, groups, scoring, cv, n_jobs, verbose, fit_params, pre_dispatch, return_train_score, return_estimator, error_score)\u001b[0m\n\u001b[1;32m    263\u001b[0m \u001b[39m# We clone the estimator to make sure that all the folds are\u001b[39;00m\n\u001b[1;32m    264\u001b[0m \u001b[39m# independent, and that it is pickle-able.\u001b[39;00m\n\u001b[1;32m    265\u001b[0m parallel \u001b[39m=\u001b[39m Parallel(n_jobs\u001b[39m=\u001b[39mn_jobs, verbose\u001b[39m=\u001b[39mverbose, pre_dispatch\u001b[39m=\u001b[39mpre_dispatch)\n\u001b[0;32m--> 266\u001b[0m results \u001b[39m=\u001b[39m parallel(\n\u001b[1;32m    267\u001b[0m     delayed(_fit_and_score)(\n\u001b[1;32m    268\u001b[0m         clone(estimator),\n\u001b[1;32m    269\u001b[0m         X,\n\u001b[1;32m    270\u001b[0m         y,\n\u001b[1;32m    271\u001b[0m         scorers,\n\u001b[1;32m    272\u001b[0m         train,\n\u001b[1;32m    273\u001b[0m         test,\n\u001b[1;32m    274\u001b[0m         verbose,\n\u001b[1;32m    275\u001b[0m         \u001b[39mNone\u001b[39;49;00m,\n\u001b[1;32m    276\u001b[0m         fit_params,\n\u001b[1;32m    277\u001b[0m         return_train_score\u001b[39m=\u001b[39;49mreturn_train_score,\n\u001b[1;32m    278\u001b[0m         return_times\u001b[39m=\u001b[39;49m\u001b[39mTrue\u001b[39;49;00m,\n\u001b[1;32m    279\u001b[0m         return_estimator\u001b[39m=\u001b[39;49mreturn_estimator,\n\u001b[1;32m    280\u001b[0m         error_score\u001b[39m=\u001b[39;49merror_score,\n\u001b[1;32m    281\u001b[0m     )\n\u001b[1;32m    282\u001b[0m     \u001b[39mfor\u001b[39;49;00m train, test \u001b[39min\u001b[39;49;00m cv\u001b[39m.\u001b[39;49msplit(X, y, groups)\n\u001b[1;32m    283\u001b[0m )\n\u001b[1;32m    285\u001b[0m _warn_or_raise_about_fit_failures(results, error_score)\n\u001b[1;32m    287\u001b[0m \u001b[39m# For callabe scoring, the return type is only know after calling. If the\u001b[39;00m\n\u001b[1;32m    288\u001b[0m \u001b[39m# return type is a dictionary, the error scores can now be inserted with\u001b[39;00m\n\u001b[1;32m    289\u001b[0m \u001b[39m# the correct key.\u001b[39;00m\n",
      "File \u001b[0;32m/users/student/mr111/mfhsieh22/miniconda3/envs/DL/lib/python3.11/site-packages/sklearn/utils/parallel.py:63\u001b[0m, in \u001b[0;36mParallel.__call__\u001b[0;34m(self, iterable)\u001b[0m\n\u001b[1;32m     58\u001b[0m config \u001b[39m=\u001b[39m get_config()\n\u001b[1;32m     59\u001b[0m iterable_with_config \u001b[39m=\u001b[39m (\n\u001b[1;32m     60\u001b[0m     (_with_config(delayed_func, config), args, kwargs)\n\u001b[1;32m     61\u001b[0m     \u001b[39mfor\u001b[39;00m delayed_func, args, kwargs \u001b[39min\u001b[39;00m iterable\n\u001b[1;32m     62\u001b[0m )\n\u001b[0;32m---> 63\u001b[0m \u001b[39mreturn\u001b[39;00m \u001b[39msuper\u001b[39;49m()\u001b[39m.\u001b[39;49m\u001b[39m__call__\u001b[39;49m(iterable_with_config)\n",
      "File \u001b[0;32m/users/student/mr111/mfhsieh22/miniconda3/envs/DL/lib/python3.11/site-packages/joblib/parallel.py:1085\u001b[0m, in \u001b[0;36mParallel.__call__\u001b[0;34m(self, iterable)\u001b[0m\n\u001b[1;32m   1076\u001b[0m \u001b[39mtry\u001b[39;00m:\n\u001b[1;32m   1077\u001b[0m     \u001b[39m# Only set self._iterating to True if at least a batch\u001b[39;00m\n\u001b[1;32m   1078\u001b[0m     \u001b[39m# was dispatched. In particular this covers the edge\u001b[39;00m\n\u001b[0;32m   (...)\u001b[0m\n\u001b[1;32m   1082\u001b[0m     \u001b[39m# was very quick and its callback already dispatched all the\u001b[39;00m\n\u001b[1;32m   1083\u001b[0m     \u001b[39m# remaining jobs.\u001b[39;00m\n\u001b[1;32m   1084\u001b[0m     \u001b[39mself\u001b[39m\u001b[39m.\u001b[39m_iterating \u001b[39m=\u001b[39m \u001b[39mFalse\u001b[39;00m\n\u001b[0;32m-> 1085\u001b[0m     \u001b[39mif\u001b[39;00m \u001b[39mself\u001b[39;49m\u001b[39m.\u001b[39;49mdispatch_one_batch(iterator):\n\u001b[1;32m   1086\u001b[0m         \u001b[39mself\u001b[39m\u001b[39m.\u001b[39m_iterating \u001b[39m=\u001b[39m \u001b[39mself\u001b[39m\u001b[39m.\u001b[39m_original_iterator \u001b[39mis\u001b[39;00m \u001b[39mnot\u001b[39;00m \u001b[39mNone\u001b[39;00m\n\u001b[1;32m   1088\u001b[0m     \u001b[39mwhile\u001b[39;00m \u001b[39mself\u001b[39m\u001b[39m.\u001b[39mdispatch_one_batch(iterator):\n",
      "File \u001b[0;32m/users/student/mr111/mfhsieh22/miniconda3/envs/DL/lib/python3.11/site-packages/joblib/parallel.py:901\u001b[0m, in \u001b[0;36mParallel.dispatch_one_batch\u001b[0;34m(self, iterator)\u001b[0m\n\u001b[1;32m    899\u001b[0m     \u001b[39mreturn\u001b[39;00m \u001b[39mFalse\u001b[39;00m\n\u001b[1;32m    900\u001b[0m \u001b[39melse\u001b[39;00m:\n\u001b[0;32m--> 901\u001b[0m     \u001b[39mself\u001b[39;49m\u001b[39m.\u001b[39;49m_dispatch(tasks)\n\u001b[1;32m    902\u001b[0m     \u001b[39mreturn\u001b[39;00m \u001b[39mTrue\u001b[39;00m\n",
      "File \u001b[0;32m/users/student/mr111/mfhsieh22/miniconda3/envs/DL/lib/python3.11/site-packages/joblib/parallel.py:819\u001b[0m, in \u001b[0;36mParallel._dispatch\u001b[0;34m(self, batch)\u001b[0m\n\u001b[1;32m    817\u001b[0m \u001b[39mwith\u001b[39;00m \u001b[39mself\u001b[39m\u001b[39m.\u001b[39m_lock:\n\u001b[1;32m    818\u001b[0m     job_idx \u001b[39m=\u001b[39m \u001b[39mlen\u001b[39m(\u001b[39mself\u001b[39m\u001b[39m.\u001b[39m_jobs)\n\u001b[0;32m--> 819\u001b[0m     job \u001b[39m=\u001b[39m \u001b[39mself\u001b[39;49m\u001b[39m.\u001b[39;49m_backend\u001b[39m.\u001b[39;49mapply_async(batch, callback\u001b[39m=\u001b[39;49mcb)\n\u001b[1;32m    820\u001b[0m     \u001b[39m# A job can complete so quickly than its callback is\u001b[39;00m\n\u001b[1;32m    821\u001b[0m     \u001b[39m# called before we get here, causing self._jobs to\u001b[39;00m\n\u001b[1;32m    822\u001b[0m     \u001b[39m# grow. To ensure correct results ordering, .insert is\u001b[39;00m\n\u001b[1;32m    823\u001b[0m     \u001b[39m# used (rather than .append) in the following line\u001b[39;00m\n\u001b[1;32m    824\u001b[0m     \u001b[39mself\u001b[39m\u001b[39m.\u001b[39m_jobs\u001b[39m.\u001b[39minsert(job_idx, job)\n",
      "File \u001b[0;32m/users/student/mr111/mfhsieh22/miniconda3/envs/DL/lib/python3.11/site-packages/joblib/_parallel_backends.py:208\u001b[0m, in \u001b[0;36mSequentialBackend.apply_async\u001b[0;34m(self, func, callback)\u001b[0m\n\u001b[1;32m    206\u001b[0m \u001b[39mdef\u001b[39;00m \u001b[39mapply_async\u001b[39m(\u001b[39mself\u001b[39m, func, callback\u001b[39m=\u001b[39m\u001b[39mNone\u001b[39;00m):\n\u001b[1;32m    207\u001b[0m \u001b[39m    \u001b[39m\u001b[39m\"\"\"Schedule a func to be run\"\"\"\u001b[39;00m\n\u001b[0;32m--> 208\u001b[0m     result \u001b[39m=\u001b[39m ImmediateResult(func)\n\u001b[1;32m    209\u001b[0m     \u001b[39mif\u001b[39;00m callback:\n\u001b[1;32m    210\u001b[0m         callback(result)\n",
      "File \u001b[0;32m/users/student/mr111/mfhsieh22/miniconda3/envs/DL/lib/python3.11/site-packages/joblib/_parallel_backends.py:597\u001b[0m, in \u001b[0;36mImmediateResult.__init__\u001b[0;34m(self, batch)\u001b[0m\n\u001b[1;32m    594\u001b[0m \u001b[39mdef\u001b[39;00m \u001b[39m__init__\u001b[39m(\u001b[39mself\u001b[39m, batch):\n\u001b[1;32m    595\u001b[0m     \u001b[39m# Don't delay the application, to avoid keeping the input\u001b[39;00m\n\u001b[1;32m    596\u001b[0m     \u001b[39m# arguments in memory\u001b[39;00m\n\u001b[0;32m--> 597\u001b[0m     \u001b[39mself\u001b[39m\u001b[39m.\u001b[39mresults \u001b[39m=\u001b[39m batch()\n",
      "File \u001b[0;32m/users/student/mr111/mfhsieh22/miniconda3/envs/DL/lib/python3.11/site-packages/joblib/parallel.py:288\u001b[0m, in \u001b[0;36mBatchedCalls.__call__\u001b[0;34m(self)\u001b[0m\n\u001b[1;32m    284\u001b[0m \u001b[39mdef\u001b[39;00m \u001b[39m__call__\u001b[39m(\u001b[39mself\u001b[39m):\n\u001b[1;32m    285\u001b[0m     \u001b[39m# Set the default nested backend to self._backend but do not set the\u001b[39;00m\n\u001b[1;32m    286\u001b[0m     \u001b[39m# change the default number of processes to -1\u001b[39;00m\n\u001b[1;32m    287\u001b[0m     \u001b[39mwith\u001b[39;00m parallel_backend(\u001b[39mself\u001b[39m\u001b[39m.\u001b[39m_backend, n_jobs\u001b[39m=\u001b[39m\u001b[39mself\u001b[39m\u001b[39m.\u001b[39m_n_jobs):\n\u001b[0;32m--> 288\u001b[0m         \u001b[39mreturn\u001b[39;00m [func(\u001b[39m*\u001b[39;49margs, \u001b[39m*\u001b[39;49m\u001b[39m*\u001b[39;49mkwargs)\n\u001b[1;32m    289\u001b[0m                 \u001b[39mfor\u001b[39;49;00m func, args, kwargs \u001b[39min\u001b[39;49;00m \u001b[39mself\u001b[39;49m\u001b[39m.\u001b[39;49mitems]\n",
      "File \u001b[0;32m/users/student/mr111/mfhsieh22/miniconda3/envs/DL/lib/python3.11/site-packages/joblib/parallel.py:288\u001b[0m, in \u001b[0;36m<listcomp>\u001b[0;34m(.0)\u001b[0m\n\u001b[1;32m    284\u001b[0m \u001b[39mdef\u001b[39;00m \u001b[39m__call__\u001b[39m(\u001b[39mself\u001b[39m):\n\u001b[1;32m    285\u001b[0m     \u001b[39m# Set the default nested backend to self._backend but do not set the\u001b[39;00m\n\u001b[1;32m    286\u001b[0m     \u001b[39m# change the default number of processes to -1\u001b[39;00m\n\u001b[1;32m    287\u001b[0m     \u001b[39mwith\u001b[39;00m parallel_backend(\u001b[39mself\u001b[39m\u001b[39m.\u001b[39m_backend, n_jobs\u001b[39m=\u001b[39m\u001b[39mself\u001b[39m\u001b[39m.\u001b[39m_n_jobs):\n\u001b[0;32m--> 288\u001b[0m         \u001b[39mreturn\u001b[39;00m [func(\u001b[39m*\u001b[39;49margs, \u001b[39m*\u001b[39;49m\u001b[39m*\u001b[39;49mkwargs)\n\u001b[1;32m    289\u001b[0m                 \u001b[39mfor\u001b[39;00m func, args, kwargs \u001b[39min\u001b[39;00m \u001b[39mself\u001b[39m\u001b[39m.\u001b[39mitems]\n",
      "File \u001b[0;32m/users/student/mr111/mfhsieh22/miniconda3/envs/DL/lib/python3.11/site-packages/sklearn/utils/parallel.py:123\u001b[0m, in \u001b[0;36m_FuncWrapper.__call__\u001b[0;34m(self, *args, **kwargs)\u001b[0m\n\u001b[1;32m    121\u001b[0m     config \u001b[39m=\u001b[39m {}\n\u001b[1;32m    122\u001b[0m \u001b[39mwith\u001b[39;00m config_context(\u001b[39m*\u001b[39m\u001b[39m*\u001b[39mconfig):\n\u001b[0;32m--> 123\u001b[0m     \u001b[39mreturn\u001b[39;00m \u001b[39mself\u001b[39;49m\u001b[39m.\u001b[39;49mfunction(\u001b[39m*\u001b[39;49margs, \u001b[39m*\u001b[39;49m\u001b[39m*\u001b[39;49mkwargs)\n",
      "File \u001b[0;32m/users/student/mr111/mfhsieh22/miniconda3/envs/DL/lib/python3.11/site-packages/sklearn/model_selection/_validation.py:686\u001b[0m, in \u001b[0;36m_fit_and_score\u001b[0;34m(estimator, X, y, scorer, train, test, verbose, parameters, fit_params, return_train_score, return_parameters, return_n_test_samples, return_times, return_estimator, split_progress, candidate_progress, error_score)\u001b[0m\n\u001b[1;32m    684\u001b[0m         estimator\u001b[39m.\u001b[39mfit(X_train, \u001b[39m*\u001b[39m\u001b[39m*\u001b[39mfit_params)\n\u001b[1;32m    685\u001b[0m     \u001b[39melse\u001b[39;00m:\n\u001b[0;32m--> 686\u001b[0m         estimator\u001b[39m.\u001b[39;49mfit(X_train, y_train, \u001b[39m*\u001b[39;49m\u001b[39m*\u001b[39;49mfit_params)\n\u001b[1;32m    688\u001b[0m \u001b[39mexcept\u001b[39;00m \u001b[39mException\u001b[39;00m:\n\u001b[1;32m    689\u001b[0m     \u001b[39m# Note fit time as time until error\u001b[39;00m\n\u001b[1;32m    690\u001b[0m     fit_time \u001b[39m=\u001b[39m time\u001b[39m.\u001b[39mtime() \u001b[39m-\u001b[39m start_time\n",
      "File \u001b[0;32m/users/student/mr111/mfhsieh22/miniconda3/envs/DL/lib/python3.11/site-packages/sklearn/pipeline.py:405\u001b[0m, in \u001b[0;36mPipeline.fit\u001b[0;34m(self, X, y, **fit_params)\u001b[0m\n\u001b[1;32m    403\u001b[0m     \u001b[39mif\u001b[39;00m \u001b[39mself\u001b[39m\u001b[39m.\u001b[39m_final_estimator \u001b[39m!=\u001b[39m \u001b[39m\"\u001b[39m\u001b[39mpassthrough\u001b[39m\u001b[39m\"\u001b[39m:\n\u001b[1;32m    404\u001b[0m         fit_params_last_step \u001b[39m=\u001b[39m fit_params_steps[\u001b[39mself\u001b[39m\u001b[39m.\u001b[39msteps[\u001b[39m-\u001b[39m\u001b[39m1\u001b[39m][\u001b[39m0\u001b[39m]]\n\u001b[0;32m--> 405\u001b[0m         \u001b[39mself\u001b[39;49m\u001b[39m.\u001b[39;49m_final_estimator\u001b[39m.\u001b[39;49mfit(Xt, y, \u001b[39m*\u001b[39;49m\u001b[39m*\u001b[39;49mfit_params_last_step)\n\u001b[1;32m    407\u001b[0m \u001b[39mreturn\u001b[39;00m \u001b[39mself\u001b[39m\n",
      "File \u001b[0;32m/users/student/mr111/mfhsieh22/miniconda3/envs/DL/lib/python3.11/site-packages/sklearn/ensemble/_weight_boosting.py:162\u001b[0m, in \u001b[0;36mBaseWeightBoosting.fit\u001b[0;34m(self, X, y, sample_weight)\u001b[0m\n\u001b[1;32m    159\u001b[0m sample_weight[zero_weight_mask] \u001b[39m=\u001b[39m \u001b[39m0.0\u001b[39m\n\u001b[1;32m    161\u001b[0m \u001b[39m# Boosting step\u001b[39;00m\n\u001b[0;32m--> 162\u001b[0m sample_weight, estimator_weight, estimator_error \u001b[39m=\u001b[39m \u001b[39mself\u001b[39;49m\u001b[39m.\u001b[39;49m_boost(\n\u001b[1;32m    163\u001b[0m     iboost, X, y, sample_weight, random_state\n\u001b[1;32m    164\u001b[0m )\n\u001b[1;32m    166\u001b[0m \u001b[39m# Early termination\u001b[39;00m\n\u001b[1;32m    167\u001b[0m \u001b[39mif\u001b[39;00m sample_weight \u001b[39mis\u001b[39;00m \u001b[39mNone\u001b[39;00m:\n",
      "File \u001b[0;32m/users/student/mr111/mfhsieh22/miniconda3/envs/DL/lib/python3.11/site-packages/sklearn/ensemble/_weight_boosting.py:569\u001b[0m, in \u001b[0;36mAdaBoostClassifier._boost\u001b[0;34m(self, iboost, X, y, sample_weight, random_state)\u001b[0m\n\u001b[1;32m    530\u001b[0m \u001b[39m\u001b[39m\u001b[39m\"\"\"Implement a single boost.\u001b[39;00m\n\u001b[1;32m    531\u001b[0m \n\u001b[1;32m    532\u001b[0m \u001b[39mPerform a single boost according to the real multi-class SAMME.R\u001b[39;00m\n\u001b[0;32m   (...)\u001b[0m\n\u001b[1;32m    566\u001b[0m \u001b[39m    If None then boosting has terminated early.\u001b[39;00m\n\u001b[1;32m    567\u001b[0m \u001b[39m\"\"\"\u001b[39;00m\n\u001b[1;32m    568\u001b[0m \u001b[39mif\u001b[39;00m \u001b[39mself\u001b[39m\u001b[39m.\u001b[39malgorithm \u001b[39m==\u001b[39m \u001b[39m\"\u001b[39m\u001b[39mSAMME.R\u001b[39m\u001b[39m\"\u001b[39m:\n\u001b[0;32m--> 569\u001b[0m     \u001b[39mreturn\u001b[39;00m \u001b[39mself\u001b[39;49m\u001b[39m.\u001b[39;49m_boost_real(iboost, X, y, sample_weight, random_state)\n\u001b[1;32m    571\u001b[0m \u001b[39melse\u001b[39;00m:  \u001b[39m# elif self.algorithm == \"SAMME\":\u001b[39;00m\n\u001b[1;32m    572\u001b[0m     \u001b[39mreturn\u001b[39;00m \u001b[39mself\u001b[39m\u001b[39m.\u001b[39m_boost_discrete(iboost, X, y, sample_weight, random_state)\n",
      "File \u001b[0;32m/users/student/mr111/mfhsieh22/miniconda3/envs/DL/lib/python3.11/site-packages/sklearn/ensemble/_weight_boosting.py:578\u001b[0m, in \u001b[0;36mAdaBoostClassifier._boost_real\u001b[0;34m(self, iboost, X, y, sample_weight, random_state)\u001b[0m\n\u001b[1;32m    575\u001b[0m \u001b[39m\u001b[39m\u001b[39m\"\"\"Implement a single boost using the SAMME.R real algorithm.\"\"\"\u001b[39;00m\n\u001b[1;32m    576\u001b[0m estimator \u001b[39m=\u001b[39m \u001b[39mself\u001b[39m\u001b[39m.\u001b[39m_make_estimator(random_state\u001b[39m=\u001b[39mrandom_state)\n\u001b[0;32m--> 578\u001b[0m estimator\u001b[39m.\u001b[39;49mfit(X, y, sample_weight\u001b[39m=\u001b[39;49msample_weight)\n\u001b[1;32m    580\u001b[0m y_predict_proba \u001b[39m=\u001b[39m estimator\u001b[39m.\u001b[39mpredict_proba(X)\n\u001b[1;32m    582\u001b[0m \u001b[39mif\u001b[39;00m iboost \u001b[39m==\u001b[39m \u001b[39m0\u001b[39m:\n",
      "File \u001b[0;32m/users/student/mr111/mfhsieh22/miniconda3/envs/DL/lib/python3.11/site-packages/sklearn/tree/_classes.py:889\u001b[0m, in \u001b[0;36mDecisionTreeClassifier.fit\u001b[0;34m(self, X, y, sample_weight, check_input)\u001b[0m\n\u001b[1;32m    859\u001b[0m \u001b[39mdef\u001b[39;00m \u001b[39mfit\u001b[39m(\u001b[39mself\u001b[39m, X, y, sample_weight\u001b[39m=\u001b[39m\u001b[39mNone\u001b[39;00m, check_input\u001b[39m=\u001b[39m\u001b[39mTrue\u001b[39;00m):\n\u001b[1;32m    860\u001b[0m \u001b[39m    \u001b[39m\u001b[39m\"\"\"Build a decision tree classifier from the training set (X, y).\u001b[39;00m\n\u001b[1;32m    861\u001b[0m \n\u001b[1;32m    862\u001b[0m \u001b[39m    Parameters\u001b[39;00m\n\u001b[0;32m   (...)\u001b[0m\n\u001b[1;32m    886\u001b[0m \u001b[39m        Fitted estimator.\u001b[39;00m\n\u001b[1;32m    887\u001b[0m \u001b[39m    \"\"\"\u001b[39;00m\n\u001b[0;32m--> 889\u001b[0m     \u001b[39msuper\u001b[39;49m()\u001b[39m.\u001b[39;49mfit(\n\u001b[1;32m    890\u001b[0m         X,\n\u001b[1;32m    891\u001b[0m         y,\n\u001b[1;32m    892\u001b[0m         sample_weight\u001b[39m=\u001b[39;49msample_weight,\n\u001b[1;32m    893\u001b[0m         check_input\u001b[39m=\u001b[39;49mcheck_input,\n\u001b[1;32m    894\u001b[0m     )\n\u001b[1;32m    895\u001b[0m     \u001b[39mreturn\u001b[39;00m \u001b[39mself\u001b[39m\n",
      "File \u001b[0;32m/users/student/mr111/mfhsieh22/miniconda3/envs/DL/lib/python3.11/site-packages/sklearn/tree/_classes.py:379\u001b[0m, in \u001b[0;36mBaseDecisionTree.fit\u001b[0;34m(self, X, y, sample_weight, check_input)\u001b[0m\n\u001b[1;32m    368\u001b[0m \u001b[39melse\u001b[39;00m:\n\u001b[1;32m    369\u001b[0m     builder \u001b[39m=\u001b[39m BestFirstTreeBuilder(\n\u001b[1;32m    370\u001b[0m         splitter,\n\u001b[1;32m    371\u001b[0m         min_samples_split,\n\u001b[0;32m   (...)\u001b[0m\n\u001b[1;32m    376\u001b[0m         \u001b[39mself\u001b[39m\u001b[39m.\u001b[39mmin_impurity_decrease,\n\u001b[1;32m    377\u001b[0m     )\n\u001b[0;32m--> 379\u001b[0m builder\u001b[39m.\u001b[39;49mbuild(\u001b[39mself\u001b[39;49m\u001b[39m.\u001b[39;49mtree_, X, y, sample_weight)\n\u001b[1;32m    381\u001b[0m \u001b[39mif\u001b[39;00m \u001b[39mself\u001b[39m\u001b[39m.\u001b[39mn_outputs_ \u001b[39m==\u001b[39m \u001b[39m1\u001b[39m \u001b[39mand\u001b[39;00m is_classifier(\u001b[39mself\u001b[39m):\n\u001b[1;32m    382\u001b[0m     \u001b[39mself\u001b[39m\u001b[39m.\u001b[39mn_classes_ \u001b[39m=\u001b[39m \u001b[39mself\u001b[39m\u001b[39m.\u001b[39mn_classes_[\u001b[39m0\u001b[39m]\n",
      "\u001b[0;31mKeyboardInterrupt\u001b[0m: "
     ]
    }
   ],
   "source": [
    "param_Adaboost = {\n",
    "    'estimator' : DecisionTreeClassifier(max_depth = 4), \n",
    "    'learning_rate' : 0.001, \n",
    "    'n_estimators' : 1560\n",
    "}\n",
    "\n",
    "if (grid_search_en):\n",
    "    adaBoost = Pipeline([('vect', text_transformer), ('clf', best_ada_estimator)])\n",
    "else :\n",
    "    adaBoost = Pipeline([('vect', text_transformer), ('clf', AdaBoostClassifier(**param_Adaboost))])\n",
    "    \n",
    "_ = training(X_adaboost_train, y_adaboost_train, adaBoost)"
   ]
  },
  {
   "cell_type": "markdown",
   "metadata": {},
   "source": [
    "### 4-5. Random Forest Classifier"
   ]
  },
  {
   "cell_type": "markdown",
   "metadata": {},
   "source": [
    "4-5-1. Grid sizing for RF"
   ]
  },
  {
   "cell_type": "code",
   "execution_count": 155,
   "metadata": {},
   "outputs": [],
   "source": [
    "from sklearn.ensemble import RandomForestClassifier\n",
    "\n",
    "RF_model_path = '../output/best_models/RF/'\n",
    "if not os.path.exists(RF_model_path):\n",
    "        os.makedirs(RF_model_path)"
   ]
  },
  {
   "cell_type": "code",
   "execution_count": 164,
   "metadata": {},
   "outputs": [
    {
     "name": "stdout",
     "output_type": "stream",
     "text": [
      "[CV 2/5] END max_depth=90, n_estimators=1150;, score=(train=0.998, test=0.589) total time= 2.6min\n",
      "[CV 1/5] END max_depth=90, n_estimators=1150;, score=(train=0.998, test=0.596) total time= 2.6min\n",
      "[CV 3/5] END max_depth=90, n_estimators=1150;, score=(train=0.999, test=0.589) total time= 2.6min\n",
      "Fitting 5 folds for each of 9 candidates, totalling 45 fits\n",
      "[CV 3/5] END max_depth=110, min_samples_leaf=1, n_estimators=1150;, score=(train=nan, test=nan) total time=   8.1s\n",
      "[CV 2/5] END max_depth=100, min_samples_leaf=1, n_estimators=1250;, score=(train=nan, test=nan) total time=   8.6s\n",
      "[CV 2/5] END max_depth=110, min_samples_leaf=1, n_estimators=1250;, score=(train=nan, test=nan) total time=   8.6s\n",
      "[CV 4/5] END max_depth=100, min_samples_leaf=1, n_estimators=1150;, score=(train=nan, test=nan) total time=   8.4s\n",
      "[CV 4/5] END max_depth=110, min_samples_leaf=1, n_estimators=1250;, score=(train=nan, test=nan) total time=   8.4s\n",
      "[CV 3/5] END max_depth=100, min_samples_leaf=1, n_estimators=1250;, score=(train=nan, test=nan) total time=   8.9s\n",
      "[CV 1/5] END max_depth=110, min_samples_leaf=1, n_estimators=1200;, score=(train=nan, test=nan) total time=   8.7s\n",
      "[CV 5/5] END max_depth=100, min_samples_leaf=1, n_estimators=1250;, score=(train=nan, test=nan) total time=   8.7s\n",
      "[CV 2/5] END max_depth=110, min_samples_leaf=1, n_estimators=1150;, score=(train=nan, test=nan) total time=   8.6s\n",
      "[CV 1/5] END max_depth=110, min_samples_leaf=1, n_estimators=1150;, score=(train=nan, test=nan) total time=   8.8s\n",
      "[CV 3/5] END max_depth=110, min_samples_leaf=1, n_estimators=1250;, score=(train=nan, test=nan) total time=   8.6s\n",
      "[CV 4/5] END max_depth=100, min_samples_leaf=1, n_estimators=1250;, score=(train=nan, test=nan) total time=   8.8s\n",
      "[CV 3/5] END max_depth=100, min_samples_leaf=1, n_estimators=1150;, score=(train=nan, test=nan) total time=   8.8s\n",
      "[CV 5/5] END max_depth=110, min_samples_leaf=1, n_estimators=1150;, score=(train=nan, test=nan) total time=   8.8s\n",
      "[CV 5/5] END max_depth=110, min_samples_leaf=1, n_estimators=1200;, score=(train=nan, test=nan) total time=   8.7s\n",
      "[CV 4/5] END max_depth=110, min_samples_leaf=1, n_estimators=1200;, score=(train=nan, test=nan) total time=   8.8s\n",
      "[CV 2/5] END max_depth=110, min_samples_leaf=1, n_estimators=1200;, score=(train=nan, test=nan) total time=   8.2s\n",
      "[CV 1/5] END max_depth=100, min_samples_leaf=1, n_estimators=1200;, score=(train=nan, test=nan) total time=   8.6s\n",
      "[CV 3/5] END max_depth=110, min_samples_leaf=1, n_estimators=1200;, score=(train=nan, test=nan) total time=   8.7s\n",
      "[CV 1/5] END max_depth=110, min_samples_leaf=1, n_estimators=1250;, score=(train=nan, test=nan) total time=   8.2s\n",
      "[CV 1/5] END max_depth=100, min_samples_leaf=1, n_estimators=1250;, score=(train=nan, test=nan) total time=   9.8s\n",
      "[CV 5/5] END max_depth=90, min_samples_leaf=1, n_estimators=1200;, score=(train=0.998, test=0.595) total time= 3.4min\n",
      "[CV 2/5] END max_depth=90, min_samples_leaf=1, n_estimators=1150;, score=(train=0.998, test=0.588) total time= 3.4min\n",
      "[CV 4/5] END max_depth=90, min_samples_leaf=1, n_estimators=1150;, score=(train=0.998, test=0.565) total time= 3.4min\n",
      "[CV 5/5] END max_depth=90, min_samples_leaf=1, n_estimators=1150;, score=(train=0.998, test=0.597) total time= 3.4min\n",
      "[CV 3/5] END max_depth=90, min_samples_leaf=1, n_estimators=1150;, score=(train=0.999, test=0.589) total time= 3.5min\n",
      "[CV 1/5] END max_depth=90, min_samples_leaf=1, n_estimators=1150;, score=(train=0.998, test=0.595) total time= 3.5min\n",
      "[CV 2/5] END max_depth=90, min_samples_leaf=1, n_estimators=1200;, score=(train=0.999, test=0.588) total time= 3.5min\n",
      "[CV 2/5] END max_depth=90, min_samples_leaf=1, n_estimators=1250;, score=(train=0.998, test=0.589) total time= 3.6min\n",
      "[CV 3/5] END max_depth=90, min_samples_leaf=1, n_estimators=1200;, score=(train=0.999, test=0.588) total time= 3.6min\n",
      "[CV 1/5] END max_depth=90, min_samples_leaf=1, n_estimators=1200;, score=(train=0.998, test=0.595) total time= 3.6min\n",
      "[CV 1/5] END max_depth=100, min_samples_leaf=1, n_estimators=1150;, score=(train=0.999, test=0.595) total time= 3.7min\n",
      "[CV 4/5] END max_depth=90, min_samples_leaf=1, n_estimators=1200;, score=(train=0.998, test=0.567) total time= 3.7min\n",
      "[CV 5/5] END max_depth=100, min_samples_leaf=1, n_estimators=1200;, score=(train=0.999, test=0.597) total time= 3.7min\n",
      "[CV 1/5] END max_depth=90, min_samples_leaf=1, n_estimators=1250;, score=(train=0.998, test=0.595) total time= 3.7min\n",
      "[CV 2/5] END max_depth=100, min_samples_leaf=1, n_estimators=1150;, score=(train=0.999, test=0.588) total time= 3.7min\n",
      "[CV 4/5] END max_depth=90, min_samples_leaf=1, n_estimators=1250;, score=(train=0.999, test=0.567) total time= 3.7min\n",
      "[CV 3/5] END max_depth=90, min_samples_leaf=1, n_estimators=1250;, score=(train=0.999, test=0.585) total time= 3.7min\n",
      "[CV 2/5] END max_depth=100, min_samples_leaf=1, n_estimators=1200;, score=(train=0.999, test=0.587) total time= 3.7min\n",
      "[CV 5/5] END max_depth=100, min_samples_leaf=1, n_estimators=1150;, score=(train=0.999, test=0.598) total time= 3.7min\n",
      "[CV 3/5] END max_depth=100, min_samples_leaf=1, n_estimators=1200;, score=(train=0.999, test=0.589) total time= 3.7min\n",
      "[CV 5/5] END max_depth=90, min_samples_leaf=1, n_estimators=1250;, score=(train=0.998, test=0.600) total time= 3.7min\n",
      "[CV 4/5] END max_depth=100, min_samples_leaf=1, n_estimators=1200;, score=(train=0.999, test=0.566) total time= 3.7min\n",
      "[CV 4/5] END max_depth=110, min_samples_leaf=1, n_estimators=1150;, score=(train=1.000, test=0.565) total time= 3.7min\n",
      "[CV 5/5] END max_depth=110, min_samples_leaf=1, n_estimators=1250;, score=(train=1.000, test=0.598) total time= 3.7min\n",
      "train score: 0.998407 (+/-0.000224)\n",
      "valid score: 0.587187 (+/-0.011168)\n",
      "best params: {'max_depth': 90, 'min_samples_leaf': 1, 'n_estimators': 1250}\n"
     ]
    }
   ],
   "source": [
    "\n",
    "params_grid_RF = {\n",
    "    'n_estimators' : [1150, 1200, 1250],\n",
    "    'max_depth' : [90, 100, 110],\n",
    "    'min_samples_leaf' : [1]\n",
    "}\n",
    "\n",
    "if (grid_search_en):\n",
    "    best_RF_params, best_RF_estimator, best_RF_valid = grid_search_cv(text_transformer, X_RF_train, y_RF_train, RandomForestClassifier(n_jobs=-1), params_grid_RF, True)\n",
    "    RF_path = RF_model_path+'ada_'+ str(round(best_RF_valid, 6))+ '.pkl'\n",
    "    joblib.dump(best_RF_estimator, RF_path)\n",
    "    parameter_storage('../output/best_parameters', 'best_RF_params', best_RF_params, best_RF_valid, remaining_dict_RF)"
   ]
  },
  {
   "cell_type": "code",
   "execution_count": 175,
   "metadata": {},
   "outputs": [],
   "source": [
    "best_RF_model_path = RF_model_path+'ada_0.587187.pkl'"
   ]
  },
  {
   "cell_type": "markdown",
   "metadata": {},
   "source": [
    "4-5-2. Training for RF"
   ]
  },
  {
   "cell_type": "code",
   "execution_count": 169,
   "metadata": {},
   "outputs": [
    {
     "name": "stdout",
     "output_type": "stream",
     "text": [
      "train score: 0.998601 (+/-0.000162)\n",
      "valid score: 0.586302 (+/-0.009809)\n"
     ]
    }
   ],
   "source": [
    "param_RF = {\n",
    "    'n_jobs' : -1,\n",
    "    'random_state' : 0,\n",
    "    'n_estimators' : 1200,\n",
    "    'max_depth' : 100,\n",
    "    'min_samples_leaf': 1\n",
    "}\n",
    "\n",
    "# if (grid_search_en):\n",
    "#     RF = Pipeline([('vect', text_transformer), ('clf', best_RF_estimator)])\n",
    "# else :\n",
    "#     RF = Pipeline([('vect', text_transformer), ('clf', RandomForestClassifier(**param_RF))])\n",
    "\n",
    "clf_RF = joblib.load(best_RF_model_path)\n",
    "\n",
    "RF = Pipeline([('vect', text_transformer), ('clf', clf_RF)])\n",
    "\n",
    "_ = training(X_RF_train, y_RF_train, RF)"
   ]
  },
  {
   "cell_type": "markdown",
   "metadata": {},
   "source": [
    "### 4-6. VotingClassifier"
   ]
  },
  {
   "cell_type": "markdown",
   "metadata": {},
   "source": [
    "4-2-1. Grid sizing for Voting classifier"
   ]
  },
  {
   "cell_type": "code",
   "execution_count": 176,
   "metadata": {},
   "outputs": [],
   "source": [
    "xgb_transformer = ColumnTransformer(\n",
    "    [\n",
    "        ('drop process', 'drop', [0, 2, 10, 11, 12]),\n",
    "        ('author name process', TfidfVectorizer(tokenizer=word_stemming, token_pattern=None, ngram_range=(1,2), lowercase=False), [1]),\n",
    "        ('topic name process' , TfidfVectorizer(tokenizer=word_stemming, token_pattern=None, ngram_range=(1,2), lowercase=False), [3]),\n",
    "    ],\n",
    "    remainder='passthrough', # do not touch the remaining data\n",
    "    n_jobs=-1\n",
    ")\n",
    "lgb_transformer = ColumnTransformer(\n",
    "    [\n",
    "        ('drop process', 'drop', [0, 2, 10, 11, 12, 15, 16, 17, 18]),\n",
    "        ('author name process', TfidfVectorizer(tokenizer=word_stemming, token_pattern=None, ngram_range=(1,2), lowercase=False), [1]),\n",
    "        ('topic name process' , TfidfVectorizer(tokenizer=word_stemming, token_pattern=None, ngram_range=(1,2), lowercase=False), [3])\n",
    "    ],\n",
    "    remainder='passthrough', # do not touch the remaining data\n",
    "    n_jobs=-1\n",
    ")\n",
    "cat_transformer = ColumnTransformer(\n",
    "    [\n",
    "        ('drop process', 'drop', [0, 2, 10, 11, 12]),\n",
    "        ('author name process', TfidfVectorizer(tokenizer=word_stemming, token_pattern=None, ngram_range=(1,2), lowercase=False), [1]),\n",
    "        ('topic name process' , TfidfVectorizer(tokenizer=word_stemming, token_pattern=None, ngram_range=(1,1), lowercase=False), [3])\n",
    "    ],\n",
    "    remainder='passthrough', # do not touch the remaining data\n",
    "    n_jobs=-1\n",
    ")\n",
    "ada_transformer = ColumnTransformer(\n",
    "    [\n",
    "        ('drop process', 'drop', [0, 2, 10, 11, 12]),\n",
    "        ('author name process', TfidfVectorizer(tokenizer=word_stemming, token_pattern=None, ngram_range=(1,2), lowercase=False), [1]),\n",
    "        ('topic name process' , TfidfVectorizer(tokenizer=word_stemming, token_pattern=None, ngram_range=(1,2), lowercase=False), [3])\n",
    "    ],\n",
    "    remainder='passthrough', # do not touch the remaining data\n",
    "    n_jobs=-1\n",
    ")\n",
    "rfc_transformer = ColumnTransformer(\n",
    "    [\n",
    "        ('drop process', 'drop', [0, 2, 10, 11, 12]),\n",
    "        ('author name process', TfidfVectorizer(tokenizer=word_stemming, token_pattern=None, ngram_range=(1,2), lowercase=False), [1]),\n",
    "        ('topic name process' , TfidfVectorizer(tokenizer=word_stemming, token_pattern=None, ngram_range=(1,2), lowercase=False), [3])\n",
    "    ],\n",
    "    remainder='passthrough', # do not touch the remaining data\n",
    "    n_jobs=-1\n",
    ")"
   ]
  },
  {
   "cell_type": "code",
   "execution_count": 177,
   "metadata": {},
   "outputs": [
    {
     "ename": "FileNotFoundError",
     "evalue": "[Errno 2] No such file or directory: '../output/best_models/adaboost/ada_0.599386.pkl'",
     "output_type": "error",
     "traceback": [
      "\u001b[0;31m---------------------------------------------------------------------------\u001b[0m",
      "\u001b[0;31mFileNotFoundError\u001b[0m                         Traceback (most recent call last)",
      "\u001b[1;32m/users/student/mr111/mfhsieh22/NTHU_Course/Deep-Learning/NTHU-Deep-Learning-Competition/2023_DataLab_Cup1-Predicting_News_Popularity/src/Text_Feature_Engineering.ipynb Cell 84\u001b[0m line \u001b[0;36m4\n\u001b[1;32m      <a href='vscode-notebook-cell://ssh-remote%2B7b22686f73744e616d65223a2249433231227d/users/student/mr111/mfhsieh22/NTHU_Course/Deep-Learning/NTHU-Deep-Learning-Competition/2023_DataLab_Cup1-Predicting_News_Popularity/src/Text_Feature_Engineering.ipynb#Y331sdnNjb2RlLXJlbW90ZQ%3D%3D?line=1'>2</a>\u001b[0m pipeline_lgb \u001b[39m=\u001b[39m Pipeline([(\u001b[39m'\u001b[39m\u001b[39mvect\u001b[39m\u001b[39m'\u001b[39m, lgb_transformer), (\u001b[39m'\u001b[39m\u001b[39mclf\u001b[39m\u001b[39m'\u001b[39m, joblib\u001b[39m.\u001b[39mload(best_lgb_model_path))])\n\u001b[1;32m      <a href='vscode-notebook-cell://ssh-remote%2B7b22686f73744e616d65223a2249433231227d/users/student/mr111/mfhsieh22/NTHU_Course/Deep-Learning/NTHU-Deep-Learning-Competition/2023_DataLab_Cup1-Predicting_News_Popularity/src/Text_Feature_Engineering.ipynb#Y331sdnNjb2RlLXJlbW90ZQ%3D%3D?line=2'>3</a>\u001b[0m \u001b[39m# pipeline_cat = Pipeline([('vect', cat_transformer), ('clf', joblib.load(best_xgb_model_path))])\u001b[39;00m\n\u001b[0;32m----> <a href='vscode-notebook-cell://ssh-remote%2B7b22686f73744e616d65223a2249433231227d/users/student/mr111/mfhsieh22/NTHU_Course/Deep-Learning/NTHU-Deep-Learning-Competition/2023_DataLab_Cup1-Predicting_News_Popularity/src/Text_Feature_Engineering.ipynb#Y331sdnNjb2RlLXJlbW90ZQ%3D%3D?line=3'>4</a>\u001b[0m pipeline_ada \u001b[39m=\u001b[39m Pipeline([(\u001b[39m'\u001b[39m\u001b[39mvect\u001b[39m\u001b[39m'\u001b[39m, ada_transformer), (\u001b[39m'\u001b[39m\u001b[39mclf\u001b[39m\u001b[39m'\u001b[39m, joblib\u001b[39m.\u001b[39;49mload(best_ada_model_path))])\n\u001b[1;32m      <a href='vscode-notebook-cell://ssh-remote%2B7b22686f73744e616d65223a2249433231227d/users/student/mr111/mfhsieh22/NTHU_Course/Deep-Learning/NTHU-Deep-Learning-Competition/2023_DataLab_Cup1-Predicting_News_Popularity/src/Text_Feature_Engineering.ipynb#Y331sdnNjb2RlLXJlbW90ZQ%3D%3D?line=4'>5</a>\u001b[0m pipeline_rfc \u001b[39m=\u001b[39m Pipeline([(\u001b[39m'\u001b[39m\u001b[39mvect\u001b[39m\u001b[39m'\u001b[39m, rfc_transformer), (\u001b[39m'\u001b[39m\u001b[39mclf\u001b[39m\u001b[39m'\u001b[39m, joblib\u001b[39m.\u001b[39mload(best_RF_model_path))])\n",
      "File \u001b[0;32m/users/student/mr111/mfhsieh22/miniconda3/envs/DL/lib/python3.11/site-packages/joblib/numpy_pickle.py:650\u001b[0m, in \u001b[0;36mload\u001b[0;34m(filename, mmap_mode)\u001b[0m\n\u001b[1;32m    648\u001b[0m         obj \u001b[39m=\u001b[39m _unpickle(fobj)\n\u001b[1;32m    649\u001b[0m \u001b[39melse\u001b[39;00m:\n\u001b[0;32m--> 650\u001b[0m     \u001b[39mwith\u001b[39;00m \u001b[39mopen\u001b[39m(filename, \u001b[39m'\u001b[39m\u001b[39mrb\u001b[39m\u001b[39m'\u001b[39m) \u001b[39mas\u001b[39;00m f:\n\u001b[1;32m    651\u001b[0m         \u001b[39mwith\u001b[39;00m _read_fileobject(f, filename, mmap_mode) \u001b[39mas\u001b[39;00m fobj:\n\u001b[1;32m    652\u001b[0m             \u001b[39mif\u001b[39;00m \u001b[39misinstance\u001b[39m(fobj, \u001b[39mstr\u001b[39m):\n\u001b[1;32m    653\u001b[0m                 \u001b[39m# if the returned file object is a string, this means we\u001b[39;00m\n\u001b[1;32m    654\u001b[0m                 \u001b[39m# try to load a pickle file generated with an version of\u001b[39;00m\n\u001b[1;32m    655\u001b[0m                 \u001b[39m# Joblib so we load it with joblib compatibility function.\u001b[39;00m\n",
      "\u001b[0;31mFileNotFoundError\u001b[0m: [Errno 2] No such file or directory: '../output/best_models/adaboost/ada_0.599386.pkl'"
     ]
    }
   ],
   "source": [
    "pipeline_xgb = Pipeline([('vect', xgb_transformer), ('clf', joblib.load(best_xgb_model_path))])\n",
    "pipeline_lgb = Pipeline([('vect', lgb_transformer), ('clf', joblib.load(best_lgb_model_path))])\n",
    "# pipeline_cat = Pipeline([('vect', cat_transformer), ('clf', joblib.load(best_xgb_model_path))])\n",
    "pipeline_ada = Pipeline([('vect', ada_transformer), ('clf', joblib.load(best_ada_model_path))])\n",
    "pipeline_rfc = Pipeline([('vect', rfc_transformer), ('clf', joblib.load(best_RF_model_path))])"
   ]
  },
  {
   "cell_type": "code",
   "execution_count": 172,
   "metadata": {},
   "outputs": [
    {
     "ename": "NameError",
     "evalue": "name 'pipeline_xgb' is not defined",
     "output_type": "error",
     "traceback": [
      "\u001b[0;31m---------------------------------------------------------------------------\u001b[0m",
      "\u001b[0;31mNameError\u001b[0m                                 Traceback (most recent call last)",
      "\u001b[1;32m/users/student/mr111/mfhsieh22/NTHU_Course/Deep-Learning/NTHU-Deep-Learning-Competition/2023_DataLab_Cup1-Predicting_News_Popularity/src/Text_Feature_Engineering.ipynb Cell 85\u001b[0m line \u001b[0;36m3\n\u001b[1;32m      <a href='vscode-notebook-cell://ssh-remote%2B7b22686f73744e616d65223a2249433231227d/users/student/mr111/mfhsieh22/NTHU_Course/Deep-Learning/NTHU-Deep-Learning-Competition/2023_DataLab_Cup1-Predicting_News_Popularity/src/Text_Feature_Engineering.ipynb#Y261sdnNjb2RlLXJlbW90ZQ%3D%3D?line=0'>1</a>\u001b[0m num_classifier \u001b[39m=\u001b[39m \u001b[39m3\u001b[39m\n\u001b[1;32m      <a href='vscode-notebook-cell://ssh-remote%2B7b22686f73744e616d65223a2249433231227d/users/student/mr111/mfhsieh22/NTHU_Course/Deep-Learning/NTHU-Deep-Learning-Competition/2023_DataLab_Cup1-Predicting_News_Popularity/src/Text_Feature_Engineering.ipynb#Y261sdnNjb2RlLXJlbW90ZQ%3D%3D?line=1'>2</a>\u001b[0m weight_range \u001b[39m=\u001b[39m \u001b[39m5\u001b[39m\n\u001b[0;32m----> <a href='vscode-notebook-cell://ssh-remote%2B7b22686f73744e616d65223a2249433231227d/users/student/mr111/mfhsieh22/NTHU_Course/Deep-Learning/NTHU-Deep-Learning-Competition/2023_DataLab_Cup1-Predicting_News_Popularity/src/Text_Feature_Engineering.ipynb#Y261sdnNjb2RlLXJlbW90ZQ%3D%3D?line=2'>3</a>\u001b[0m voting_estimator_list \u001b[39m=\u001b[39m [pipeline_xgb, pipeline_lgb, pipeline_rfc]\n\u001b[1;32m      <a href='vscode-notebook-cell://ssh-remote%2B7b22686f73744e616d65223a2249433231227d/users/student/mr111/mfhsieh22/NTHU_Course/Deep-Learning/NTHU-Deep-Learning-Competition/2023_DataLab_Cup1-Predicting_News_Popularity/src/Text_Feature_Engineering.ipynb#Y261sdnNjb2RlLXJlbW90ZQ%3D%3D?line=3'>4</a>\u001b[0m \u001b[39m# voting_estimator_list = [pipeline_xgb, pipeline_lgb, pipeline_cat, pipeline_ada, pipeline_rfc]\u001b[39;00m\n",
      "\u001b[0;31mNameError\u001b[0m: name 'pipeline_xgb' is not defined"
     ]
    }
   ],
   "source": [
    "num_classifier = 3\n",
    "weight_range = 5\n",
    "voting_estimator_list = [pipeline_xgb, pipeline_lgb, pipeline_rfc]\n",
    "# voting_estimator_list = [pipeline_xgb, pipeline_lgb, pipeline_cat, pipeline_ada, pipeline_rfc]"
   ]
  },
  {
   "cell_type": "code",
   "execution_count": null,
   "metadata": {},
   "outputs": [],
   "source": [
    "if (len(voting_estimator_list) != num_classifier) :\n",
    "    print(\"Error: the numver of the classifier must equal to the estimator_list element number! Please check again!\")"
   ]
  },
  {
   "cell_type": "markdown",
   "metadata": {},
   "source": [
    "- to find the weight combinations"
   ]
  },
  {
   "cell_type": "code",
   "execution_count": null,
   "metadata": {},
   "outputs": [],
   "source": [
    "import itertools\n",
    "\n",
    "def weight_list_generator(weight_range_, num_classifier_):   \n",
    "    weight_range = weight_range_\n",
    "    weight_list = []\n",
    "\n",
    "    binary_values = (1, 2)\n",
    "    weight_list = [list(i) for i in list(itertools.product(binary_values, repeat=num_classifier_))]\n",
    "\n",
    "    print('weight list = ', weight_list)\n",
    "    print('length of weight list = ', len(weight_list))\n",
    "    return weight_list"
   ]
  },
  {
   "cell_type": "code",
   "execution_count": null,
   "metadata": {},
   "outputs": [
    {
     "name": "stdout",
     "output_type": "stream",
     "text": [
      "weight list =  [[1, 1], [1, 3], [1, 5], [1, 7], [1, 9], [3, 1], [3, 3], [3, 5], [3, 7], [3, 9], [5, 1], [5, 3], [5, 5], [5, 7], [5, 9], [7, 1], [7, 3], [7, 5], [7, 7], [7, 9], [9, 1], [9, 3], [9, 5], [9, 7], [9, 9]]\n",
      "length of weight list =  25\n"
     ]
    }
   ],
   "source": [
    "weight_list = weight_list_generator(weight_range_ = weight_range, \n",
    "                                    num_classifier_ = num_classifier)"
   ]
  },
  {
   "cell_type": "markdown",
   "metadata": {},
   "source": [
    "* multi-thread grid search for voting classifier"
   ]
  },
  {
   "cell_type": "code",
   "execution_count": null,
   "metadata": {},
   "outputs": [
    {
     "name": "stdout",
     "output_type": "stream",
     "text": [
      "current weight = [1, 1]\n",
      "current weight = [1, 3]\n",
      "current weight = [1, 5]\n",
      "current weight = [1, 7]\n",
      "current weight = [1, 9]\n",
      "current weight = [3, 1]\n",
      "current weight = [3, 3]\n",
      "current weight = [3, 5]\n",
      "current weight = [3, 7]\n",
      "current weight = [3, 9]\n",
      "current weight = [5, 1]\n",
      "current weight = [5, 3]\n",
      "current weight = [5, 5]\n",
      "current weight = [5, 7]\n",
      "current weight = [5, 9]\n",
      "current weight = [7, 1]\n",
      "current weight = [7, 3]\n",
      "current weight = [7, 5]\n",
      "current weight = [7, 7]\n",
      "current weight = [7, 9]\n",
      "current weight = [9, 1]\n",
      "current weight = [9, 3]\n",
      "current weight = [9, 5]\n",
      "current weight = [9, 7]\n",
      "current weight = [9, 9]\n",
      "[Voting] .................. (1 of 2) Processing xgboost, total=  24.3s\n",
      "[Voting] .................. (1 of 2) Processing xgboost, total=  25.0s\n",
      "[Voting] .................. (1 of 2) Processing xgboost, total=  28.2s\n",
      "[Voting] .................. (1 of 2) Processing xgboost, total=  28.7s\n",
      "[Voting] .................. (1 of 2) Processing xgboost, total=  29.3s\n",
      "[Voting] .................. (1 of 2) Processing xgboost, total=  29.5s\n",
      "[Voting] .................. (1 of 2) Processing xgboost, total=  30.2s\n",
      "[Voting] .................. (1 of 2) Processing xgboost, total=  30.8s\n",
      "[Voting] .................. (1 of 2) Processing xgboost, total=  31.2s\n",
      "[Voting] .................. (1 of 2) Processing xgboost, total=  31.6s\n",
      "[Voting] .................. (1 of 2) Processing xgboost, total=  31.9s\n",
      "[Voting] .................. (1 of 2) Processing xgboost, total=  33.9s\n",
      "[Voting] .................. (1 of 2) Processing xgboost, total=  34.7s\n",
      "[Voting] .................. (1 of 2) Processing xgboost, total=  35.1s\n",
      "[Voting] .................. (1 of 2) Processing xgboost, total=  35.9s\n",
      "[Voting] .................. (1 of 2) Processing xgboost, total=  36.5s\n",
      "[Voting] .................. (1 of 2) Processing xgboost, total=  36.9s\n",
      "[Voting] .................. (1 of 2) Processing xgboost, total=  37.0s\n",
      "[Voting] .................. (1 of 2) Processing xgboost, total=  37.9s\n",
      "[Voting] .................. (1 of 2) Processing xgboost, total=  38.0s\n",
      "[Voting] .................. (1 of 2) Processing xgboost, total=  38.2s\n",
      "[Voting] .................. (1 of 2) Processing xgboost, total=  40.0s\n",
      "[Voting] .................. (1 of 2) Processing xgboost, total=  40.3s\n",
      "[Voting] .................. (1 of 2) Processing xgboost, total=  40.9s\n",
      "[Voting] .................. (1 of 2) Processing xgboost, total=  50.1s\n",
      "[Voting] ..................... (2 of 2) Processing lgbm, total= 7.1min\n",
      "[Voting] ..................... (2 of 2) Processing lgbm, total= 7.2min\n",
      "[Voting] ..................... (2 of 2) Processing lgbm, total= 7.5min\n",
      "[Voting] ..................... (2 of 2) Processing lgbm, total= 7.6min\n",
      "[Voting] ..................... (2 of 2) Processing lgbm, total= 7.6min\n",
      "[Voting] ..................... (2 of 2) Processing lgbm, total= 7.6min\n",
      "[Voting] ..................... (2 of 2) Processing lgbm, total= 7.7min\n",
      "[Voting] ..................... (2 of 2) Processing lgbm, total= 7.6min\n",
      "[Voting] ..................... (2 of 2) Processing lgbm, total= 7.6min\n",
      "[Voting] ..................... (2 of 2) Processing lgbm, total= 7.6min\n",
      "[Voting] ..................... (2 of 2) Processing lgbm, total= 7.4min\n",
      "[Voting] ..................... (2 of 2) Processing lgbm, total= 7.8min\n",
      "[Voting] ..................... (2 of 2) Processing lgbm, total= 7.7min\n",
      "[Voting] ..................... (2 of 2) Processing lgbm, total= 7.8min\n",
      "[Voting] ..................... (2 of 2) Processing lgbm, total= 7.8min\n",
      "[Voting] ..................... (2 of 2) Processing lgbm, total= 7.8min\n",
      "[Voting] ..................... (2 of 2) Processing lgbm, total= 7.7min\n",
      "[Voting] ..................... (2 of 2) Processing lgbm, total= 7.6min\n",
      "[Voting] ..................... (2 of 2) Processing lgbm, total= 7.7min\n",
      "[Voting] ..................... (2 of 2) Processing lgbm, total= 7.8min\n",
      "[Voting] ..................... (2 of 2) Processing lgbm, total= 7.6min\n",
      "[Voting] ..................... (2 of 2) Processing lgbm, total= 7.9min\n",
      "[Voting] ..................... (2 of 2) Processing lgbm, total= 7.7min\n",
      "[Voting] ..................... (2 of 2) Processing lgbm, total= 7.8min\n",
      "[Voting] ..................... (2 of 2) Processing lgbm, total= 8.0min\n",
      "[Voting] .................. (1 of 2) Processing xgboost, total=  21.1s\n",
      "[Voting] .................. (1 of 2) Processing xgboost, total=  21.6s\n",
      "[Voting] .................. (1 of 2) Processing xgboost, total=  22.2s\n",
      "[Voting] .................. (1 of 2) Processing xgboost, total=  22.4s\n",
      "[Voting] .................. (1 of 2) Processing xgboost, total=  23.7s\n",
      "[Voting] .................. (1 of 2) Processing xgboost, total=  24.7s\n",
      "[Voting] .................. (1 of 2) Processing xgboost, total=  24.8s\n",
      "[Voting] .................. (1 of 2) Processing xgboost, total=  26.4s\n",
      "[Voting] .................. (1 of 2) Processing xgboost, total=  27.1s\n",
      "[Voting] .................. (1 of 2) Processing xgboost, total=  27.1s\n",
      "[Voting] .................. (1 of 2) Processing xgboost, total=  27.7s\n",
      "[Voting] .................. (1 of 2) Processing xgboost, total=  27.7s\n",
      "[Voting] .................. (1 of 2) Processing xgboost, total=  30.2s\n",
      "[Voting] .................. (1 of 2) Processing xgboost, total=  31.3s\n",
      "[Voting] .................. (1 of 2) Processing xgboost, total=  32.9s\n",
      "[Voting] .................. (1 of 2) Processing xgboost, total=  32.4s\n",
      "[Voting] .................. (1 of 2) Processing xgboost, total=  33.2s\n",
      "[Voting] .................. (1 of 2) Processing xgboost, total=  33.8s\n",
      "[Voting] .................. (1 of 2) Processing xgboost, total=  34.4s\n",
      "[Voting] .................. (1 of 2) Processing xgboost, total=  37.2s\n",
      "[Voting] .................. (1 of 2) Processing xgboost, total=  35.0s\n",
      "[Voting] .................. (1 of 2) Processing xgboost, total=  35.1s\n",
      "[Voting] .................. (1 of 2) Processing xgboost, total=  35.2s\n",
      "[Voting] .................. (1 of 2) Processing xgboost, total=  39.3s\n",
      "[Voting] .................. (1 of 2) Processing xgboost, total=  36.2s\n",
      "[Voting] ..................... (2 of 2) Processing lgbm, total= 2.3min\n",
      "[Voting] ..................... (2 of 2) Processing lgbm, total= 2.4min\n",
      "[Voting] ..................... (2 of 2) Processing lgbm, total= 2.4min\n",
      "[Voting] ..................... (2 of 2) Processing lgbm, total= 2.6min\n",
      "[Voting] ..................... (2 of 2) Processing lgbm, total= 2.4min\n",
      "[Voting] ..................... (2 of 2) Processing lgbm, total= 2.5min\n",
      "[Voting] ..................... (2 of 2) Processing lgbm, total= 2.6min\n",
      "[Voting] ..................... (2 of 2) Processing lgbm, total= 2.7min\n",
      "[Voting] ..................... (2 of 2) Processing lgbm, total= 2.6min\n",
      "[Voting] ..................... (2 of 2) Processing lgbm, total= 2.7min\n",
      "[Voting] ..................... (2 of 2) Processing lgbm, total= 2.7min\n",
      "[Voting] ..................... (2 of 2) Processing lgbm, total= 2.6min\n",
      "[Voting] ..................... (2 of 2) Processing lgbm, total= 2.6min\n",
      "[Voting] ..................... (2 of 2) Processing lgbm, total= 2.6min\n",
      "[Voting] ..................... (2 of 2) Processing lgbm, total= 2.7min\n",
      "[Voting] ..................... (2 of 2) Processing lgbm, total= 2.6min\n",
      "[Voting] ..................... (2 of 2) Processing lgbm, total= 2.7min\n",
      "[Voting] ..................... (2 of 2) Processing lgbm, total= 2.6min\n",
      "[Voting] ..................... (2 of 2) Processing lgbm, total= 2.6min\n",
      "[Voting] ..................... (2 of 2) Processing lgbm, total= 2.6min\n",
      "[Voting] ..................... (2 of 2) Processing lgbm, total= 2.6min\n",
      "[Voting] ..................... (2 of 2) Processing lgbm, total= 2.7min\n",
      "[Voting] ..................... (2 of 2) Processing lgbm, total= 2.7min\n",
      "[Voting] ..................... (2 of 2) Processing lgbm, total= 2.9min\n",
      "[Voting] ..................... (2 of 2) Processing lgbm, total= 2.8min\n",
      "[Voting] .................. (1 of 2) Processing xgboost, total=  25.4s\n",
      "[Voting] .................. (1 of 2) Processing xgboost, total=  29.4s\n",
      "[Voting] .................. (1 of 2) Processing xgboost, total=  27.1s\n",
      "[Voting] .................. (1 of 2) Processing xgboost, total=  27.8s\n",
      "[Voting] .................. (1 of 2) Processing xgboost, total=  32.1s\n",
      "[Voting] .................. (1 of 2) Processing xgboost, total=  31.3s\n",
      "[Voting] .................. (1 of 2) Processing xgboost, total=  31.2s\n",
      "[Voting] .................. (1 of 2) Processing xgboost, total=  32.0s\n",
      "[Voting] .................. (1 of 2) Processing xgboost, total=  33.8s\n",
      "[Voting] .................. (1 of 2) Processing xgboost, total=  34.6s\n",
      "[Voting] .................. (1 of 2) Processing xgboost, total=  34.0s\n",
      "[Voting] .................. (1 of 2) Processing xgboost, total=  35.5s\n",
      "[Voting] .................. (1 of 2) Processing xgboost, total=  34.8s\n",
      "[Voting] .................. (1 of 2) Processing xgboost, total=  34.5s\n",
      "[Voting] .................. (1 of 2) Processing xgboost, total=  37.3s\n",
      "[Voting] .................. (1 of 2) Processing xgboost, total=  36.6s\n",
      "[Voting] .................. (1 of 2) Processing xgboost, total=  36.6s\n",
      "[Voting] .................. (1 of 2) Processing xgboost, total=  37.8s\n",
      "[Voting] .................. (1 of 2) Processing xgboost, total=  38.4s\n",
      "[Voting] .................. (1 of 2) Processing xgboost, total=  39.9s\n",
      "[Voting] .................. (1 of 2) Processing xgboost, total=  39.2s\n",
      "[Voting] .................. (1 of 2) Processing xgboost, total=  46.0s\n",
      "[Voting] .................. (1 of 2) Processing xgboost, total=  47.8s\n",
      "[Voting] .................. (1 of 2) Processing xgboost, total=  55.7s\n",
      "[Voting] .................. (1 of 2) Processing xgboost, total= 1.3min\n",
      "[Voting] ..................... (2 of 2) Processing lgbm, total= 3.2min\n",
      "[Voting] ..................... (2 of 2) Processing lgbm, total= 3.2min\n",
      "[Voting] ..................... (2 of 2) Processing lgbm, total= 3.3min\n",
      "[Voting] ..................... (2 of 2) Processing lgbm, total= 3.2min\n",
      "[Voting] ..................... (2 of 2) Processing lgbm, total= 3.4min\n",
      "[Voting] ..................... (2 of 2) Processing lgbm, total= 3.6min\n",
      "[Voting] ..................... (2 of 2) Processing lgbm, total= 3.4min\n",
      "[Voting] ..................... (2 of 2) Processing lgbm, total= 3.3min\n",
      "[Voting] ..................... (2 of 2) Processing lgbm, total= 3.4min\n",
      "[Voting] ..................... (2 of 2) Processing lgbm, total= 3.4min\n",
      "[Voting] ..................... (2 of 2) Processing lgbm, total= 3.4min\n",
      "[Voting] ..................... (2 of 2) Processing lgbm, total= 3.5min\n",
      "[Voting] ..................... (2 of 2) Processing lgbm, total= 3.5min\n",
      "[Voting] ..................... (2 of 2) Processing lgbm, total= 3.4min\n",
      "[Voting] ..................... (2 of 2) Processing lgbm, total= 3.4min\n",
      "[Voting] ..................... (2 of 2) Processing lgbm, total= 3.3min\n",
      "[Voting] ..................... (2 of 2) Processing lgbm, total= 3.4min\n",
      "[Voting] ..................... (2 of 2) Processing lgbm, total= 3.4min\n",
      "[Voting] ..................... (2 of 2) Processing lgbm, total= 3.5min\n",
      "[Voting] ..................... (2 of 2) Processing lgbm, total= 3.6min\n",
      "[Voting] ..................... (2 of 2) Processing lgbm, total= 3.2min\n",
      "[Voting] ..................... (2 of 2) Processing lgbm, total= 3.6min\n",
      "[Voting] ..................... (2 of 2) Processing lgbm, total= 3.1min\n",
      "[Voting] ..................... (2 of 2) Processing lgbm, total= 3.0min\n",
      "[Voting] .................. (1 of 2) Processing xgboost, total=  22.9s\n",
      "[Voting] .................. (1 of 2) Processing xgboost, total=  24.5s\n",
      "[Voting] .................. (1 of 2) Processing xgboost, total=  31.0s\n",
      "[Voting] .................. (1 of 2) Processing xgboost, total=  26.3s\n",
      "[Voting] ..................... (2 of 2) Processing lgbm, total= 2.7min\n",
      "[Voting] .................. (1 of 2) Processing xgboost, total=  32.9s\n",
      "[Voting] .................. (1 of 2) Processing xgboost, total=  34.9s\n",
      "[Voting] .................. (1 of 2) Processing xgboost, total=  31.7s\n",
      "[Voting] .................. (1 of 2) Processing xgboost, total=  33.8s\n",
      "[Voting] .................. (1 of 2) Processing xgboost, total=  36.6s\n",
      "[Voting] .................. (1 of 2) Processing xgboost, total=  36.8s\n",
      "[Voting] .................. (1 of 2) Processing xgboost, total=  37.2s\n",
      "[Voting] .................. (1 of 2) Processing xgboost, total=  37.1s\n",
      "[Voting] .................. (1 of 2) Processing xgboost, total=  36.2s\n",
      "[Voting] .................. (1 of 2) Processing xgboost, total=  38.9s\n",
      "[Voting] .................. (1 of 2) Processing xgboost, total=  37.0s\n",
      "[Voting] .................. (1 of 2) Processing xgboost, total=  38.6s\n",
      "[Voting] .................. (1 of 2) Processing xgboost, total=  36.9s\n",
      "[Voting] .................. (1 of 2) Processing xgboost, total=  37.0s\n",
      "[Voting] .................. (1 of 2) Processing xgboost, total=  38.8s\n",
      "[Voting] .................. (1 of 2) Processing xgboost, total=  40.1s\n",
      "[Voting] .................. (1 of 2) Processing xgboost, total=  49.2s\n",
      "[Voting] .................. (1 of 2) Processing xgboost, total=  53.0s\n",
      "[Voting] .................. (1 of 2) Processing xgboost, total=  57.8s\n",
      "[Voting] .................. (1 of 2) Processing xgboost, total= 1.1min\n",
      "[Voting] ..................... (2 of 2) Processing lgbm, total= 1.9min\n",
      "[Voting] ..................... (2 of 2) Processing lgbm, total= 2.2min\n",
      "[Voting] .................. (1 of 2) Processing xgboost, total= 1.2min\n",
      "[Voting] ..................... (2 of 2) Processing lgbm, total= 2.2min\n",
      "[Voting] ..................... (2 of 2) Processing lgbm, total= 2.3min\n",
      "[Voting] ..................... (2 of 2) Processing lgbm, total= 2.4min\n",
      "[Voting] ..................... (2 of 2) Processing lgbm, total= 2.6min\n",
      "[Voting] ..................... (2 of 2) Processing lgbm, total= 2.5min\n",
      "[Voting] ..................... (2 of 2) Processing lgbm, total= 2.5min\n",
      "[Voting] ..................... (2 of 2) Processing lgbm, total= 2.6min\n",
      "[Voting] ..................... (2 of 2) Processing lgbm, total= 2.5min\n",
      "[Voting] ..................... (2 of 2) Processing lgbm, total= 2.5min\n",
      "[Voting] ..................... (2 of 2) Processing lgbm, total= 2.5min\n",
      "[Voting] ..................... (2 of 2) Processing lgbm, total= 2.6min\n",
      "[Voting] ..................... (2 of 2) Processing lgbm, total= 2.6min\n",
      "[Voting] ..................... (2 of 2) Processing lgbm, total= 2.6min\n",
      "[Voting] ..................... (2 of 2) Processing lgbm, total= 2.7min\n",
      "[Voting] ..................... (2 of 2) Processing lgbm, total= 2.6min\n",
      "[Voting] ..................... (2 of 2) Processing lgbm, total= 2.6min\n",
      "[Voting] ..................... (2 of 2) Processing lgbm, total= 2.6min\n",
      "[Voting] ..................... (2 of 2) Processing lgbm, total= 2.1min\n",
      "[Voting] ..................... (2 of 2) Processing lgbm, total= 2.6min\n",
      "[Voting] ..................... (2 of 2) Processing lgbm, total= 2.1min\n",
      "[Voting] .................. (1 of 2) Processing xgboost, total=  22.5s\n",
      "[Voting] ..................... (2 of 2) Processing lgbm, total= 2.0min\n",
      "[Voting] .................. (1 of 2) Processing xgboost, total=  35.6s\n",
      "[Voting] .................. (1 of 2) Processing xgboost, total=  27.6s\n",
      "[Voting] .................. (1 of 2) Processing xgboost, total=  31.7s\n",
      "[Voting] ..................... (2 of 2) Processing lgbm, total= 2.1min\n",
      "[Voting] ..................... (2 of 2) Processing lgbm, total= 1.6min\n",
      "[Voting] .................. (1 of 2) Processing xgboost, total=  27.4s\n",
      "[Voting] .................. (1 of 2) Processing xgboost, total=  28.0s\n",
      "[Voting] .................. (1 of 2) Processing xgboost, total=  28.2s\n",
      "[Voting] .................. (1 of 2) Processing xgboost, total=  27.8s\n",
      "[Voting] .................. (1 of 2) Processing xgboost, total=  30.1s\n",
      "[Voting] .................. (1 of 2) Processing xgboost, total=  30.4s\n",
      "[Voting] .................. (1 of 2) Processing xgboost, total=  29.8s\n",
      "[Voting] .................. (1 of 2) Processing xgboost, total=  30.3s\n",
      "[Voting] .................. (1 of 2) Processing xgboost, total=  29.6s\n",
      "[Voting] .................. (1 of 2) Processing xgboost, total=  30.1s\n",
      "[Voting] .................. (1 of 2) Processing xgboost, total=  29.9s\n",
      "[Voting] .................. (1 of 2) Processing xgboost, total=  35.0s\n",
      "[Voting] .................. (1 of 2) Processing xgboost, total=  34.3s\n",
      "[Voting] .................. (1 of 2) Processing xgboost, total=  38.1s\n",
      "[Voting] .................. (1 of 2) Processing xgboost, total=  40.0s\n",
      "[Voting] .................. (1 of 2) Processing xgboost, total=  39.5s\n",
      "[Voting] .................. (1 of 2) Processing xgboost, total=  42.9s\n",
      "[Voting] .................. (1 of 2) Processing xgboost, total=  42.4s\n",
      "[Voting] .................. (1 of 2) Processing xgboost, total=  56.1s\n",
      "[Voting] ..................... (2 of 2) Processing lgbm, total= 1.7min\n",
      "[Voting] .................. (1 of 2) Processing xgboost, total=  58.9s\n",
      "[Voting] ..................... (2 of 2) Processing lgbm, total= 1.8min\n",
      "[Voting] .................. (1 of 2) Processing xgboost, total=  57.9s\n",
      "[Voting] ..................... (2 of 2) Processing lgbm, total= 2.1min\n",
      "[Voting] ..................... (2 of 2) Processing lgbm, total= 2.1min\n",
      "train score: 0.727035 (+/-0.002622)\n",
      "valid score: 0.595595 (+/-0.008333)\n",
      "[Voting] ..................... (2 of 2) Processing lgbm, total= 2.3min\n",
      "train score: 0.728289 (+/-0.002665)\n",
      "valid score: 0.595356 (+/-0.008328)\n",
      "[Voting] ..................... (2 of 2) Processing lgbm, total= 2.4min\n",
      "[Voting] ..................... (2 of 2) Processing lgbm, total= 2.4min\n",
      "[Voting] ..................... (2 of 2) Processing lgbm, total= 2.4min\n",
      "[Voting] ..................... (2 of 2) Processing lgbm, total= 2.5min\n",
      "[Voting] ..................... (2 of 2) Processing lgbm, total= 2.4min\n",
      "[Voting] ..................... (2 of 2) Processing lgbm, total= 2.5min\n",
      "[Voting] ..................... (2 of 2) Processing lgbm, total= 2.5min\n",
      "[Voting] ..................... (2 of 2) Processing lgbm, total= 2.7min\n",
      "[Voting] ..................... (2 of 2) Processing lgbm, total= 2.5min\n",
      "[Voting] ..................... (2 of 2) Processing lgbm, total= 2.4min\n",
      "[Voting] ..................... (2 of 2) Processing lgbm, total= 2.5min\n",
      "train score: 0.722990 (+/-0.002482)\n",
      "valid score: 0.596222 (+/-0.008282)\n",
      "[Voting] ..................... (2 of 2) Processing lgbm, total= 2.5min\n",
      "train score: 0.722990 (+/-0.002482)\n",
      "valid score: 0.596222 (+/-0.008282)\n",
      "[Voting] ..................... (2 of 2) Processing lgbm, total= 2.4min\n",
      "[Voting] ..................... (2 of 2) Processing lgbm, total= 2.1min\n",
      "[Voting] ..................... (2 of 2) Processing lgbm, total= 2.2min\n",
      "[Voting] ..................... (2 of 2) Processing lgbm, total= 2.5min\n",
      "train score: 0.741405 (+/-0.003140)\n",
      "valid score: 0.591671 (+/-0.008118)\n",
      "[Voting] ..................... (2 of 2) Processing lgbm, total= 2.4min\n",
      "train score: 0.739950 (+/-0.003081)\n",
      "valid score: 0.592203 (+/-0.008140)\n",
      "train score: 0.722990 (+/-0.002482)\n",
      "valid score: 0.596222 (+/-0.008282)\n",
      "train score: 0.683497 (+/-0.002004)\n",
      "valid score: 0.598196 (+/-0.007690)\n",
      "train score: 0.722990 (+/-0.002482)\n",
      "valid score: 0.596222 (+/-0.008282)\n",
      "train score: 0.701510 (+/-0.002020)\n",
      "valid score: 0.598037 (+/-0.008124)\n",
      "train score: 0.730652 (+/-0.002735)\n",
      "valid score: 0.594876 (+/-0.008317)\n",
      "train score: 0.692109 (+/-0.001963)\n",
      "valid score: 0.598175 (+/-0.007877)\n",
      "[Voting] .................. (1 of 2) Processing xgboost, total=  45.0s\n",
      "train score: 0.713367 (+/-0.002223)\n",
      "valid score: 0.597375 (+/-0.008296)\n",
      "train score: 0.716802 (+/-0.002304)\n",
      "valid score: 0.597055 (+/-0.008325)\n",
      "train score: 0.731601 (+/-0.002756)[Voting] .................. (1 of 2) Processing xgboost, total=  39.2s\n",
      "\n",
      "valid score: 0.594663 (+/-0.008305)\n",
      "train score: 0.718436 (+/-0.002348)\n",
      "valid score: 0.596848 (+/-0.008331)\n",
      "train score: 0.736678 (+/-0.002947)\n",
      "valid score: 0.593292 (+/-0.008186)\n",
      "train score: 0.734445 (+/-0.002855)\n",
      "valid score: 0.593934 (+/-0.008246)\n",
      "[Voting] ..................... (2 of 2) Processing lgbm, total= 1.7min\n",
      "train score: 0.701510 (+/-0.002020)\n",
      "valid score: 0.598037 (+/-0.008124)\n",
      "train score: 0.686865 (+/-0.001985)\n",
      "valid score: 0.598192 (+/-0.007759)\n",
      "[Voting] ..................... (2 of 2) Processing lgbm, total= 2.1min\n",
      "[Voting] .................. (1 of 2) Processing xgboost, total=  32.1s\n",
      "[Voting] .................. (1 of 2) Processing xgboost, total=  37.5s\n",
      "train score: 0.722990 (+/-0.002482)\n",
      "valid score: 0.596222 (+/-0.008282)\n",
      "[Voting] ..................... (2 of 2) Processing lgbm, total= 1.8min\n",
      "train score: 0.742202 (+/-0.003172)\n",
      "valid score: 0.591342 (+/-0.008105)\n",
      "[Voting] .................. (1 of 2) Processing xgboost, total=  34.8s\n",
      "[Voting] .................. (1 of 2) Processing xgboost, total=  33.5s\n",
      "[Voting] .................. (1 of 2) Processing xgboost, total=  32.1s\n",
      "[Voting] .................. (1 of 2) Processing xgboost, total=  32.3s\n",
      "[Voting] .................. (1 of 2) Processing xgboost, total=  35.1s\n",
      "[Voting] .................. (1 of 2) Processing xgboost, total=  34.8s\n",
      "[Voting] .................. (1 of 2) Processing xgboost, total=  36.9s\n",
      "[Voting] .................. (1 of 2) Processing xgboost, total=  35.7s\n",
      "[Voting] .................. (1 of 2) Processing xgboost, total=  37.6s\n",
      "[Voting] .................. (1 of 2) Processing xgboost, total=  38.4s\n",
      "[Voting] .................. (1 of 2) Processing xgboost, total=  40.0s\n",
      "[Voting] .................. (1 of 2) Processing xgboost, total=  36.9s\n",
      "[Voting] .................. (1 of 2) Processing xgboost, total=  39.8s\n",
      "train score: 0.706550 (+/-0.002097)\n",
      "valid score: 0.597797 (+/-0.008188)\n",
      "[Voting] .................. (1 of 2) Processing xgboost, total=  40.8s\n",
      "train score: 0.711821 (+/-0.002192)\n",
      "valid score: 0.597485 (+/-0.008281)\n",
      "[Voting] .................. (1 of 2) Processing xgboost, total=  38.9s\n",
      "train score: 0.736678 (+/-0.002947)\n",
      "valid score: 0.593292 (+/-0.008186)\n",
      "[Voting] .................. (1 of 2) Processing xgboost, total=  40.0s\n",
      "[Voting] .................. (1 of 2) Processing xgboost, total=  40.9s\n",
      "[Voting] .................. (1 of 2) Processing xgboost, total=  42.7s\n",
      "[Voting] .................. (1 of 2) Processing xgboost, total= 1.0min\n",
      "[Voting] ..................... (2 of 2) Processing lgbm, total= 1.9min\n",
      "[7, 5] Finish!!\n",
      "[Voting] ..................... (2 of 2) Processing lgbm, total= 2.1min\n",
      "[9, 7] Finish!!\n",
      "[Voting] .................. (1 of 2) Processing xgboost, total= 1.2min\n",
      "[Voting] .................. (1 of 2) Processing xgboost, total= 1.3min\n",
      "[Voting] ..................... (2 of 2) Processing lgbm, total= 2.4min\n",
      "[1, 1] Finish!!\n",
      "[Voting] ..................... (2 of 2) Processing lgbm, total= 2.6min\n",
      "[5, 5] Finish!!\n",
      "[Voting] ..................... (2 of 2) Processing lgbm, total= 2.4min\n",
      "[5, 3] Finish!!\n",
      "[Voting] ..................... (2 of 2) Processing lgbm, total= 2.6min\n",
      "[5, 1] Finish!!\n",
      "[Voting] ..................... (2 of 2) Processing lgbm, total= 2.6min\n",
      "[Voting] ..................... (2 of 2) Processing lgbm, total= 2.6min\n",
      "[3, 3] Finish!!\n",
      "[7, 1] Finish!!\n",
      "[Voting] ..................... (2 of 2) Processing lgbm, total= 2.6min\n",
      "[Voting] ..................... (2 of 2) Processing lgbm, total= 2.6min\n",
      "[1, 3] Finish!!\n",
      "[9, 9] Finish!!\n",
      "[Voting] ..................... (2 of 2) Processing lgbm, total= 2.5min\n",
      "[9, 5] Finish!!\n",
      "[Voting] ..................... (2 of 2) Processing lgbm, total= 2.5min\n",
      "[5, 7] Finish!!\n",
      "[Voting] ..................... (2 of 2) Processing lgbm, total= 2.6min\n",
      "[3, 5] Finish!!\n",
      "[Voting] ..................... (2 of 2) Processing lgbm, total= 2.5min\n",
      "[Voting] ..................... (2 of 2) Processing lgbm, total= 2.7min\n",
      "[7, 3] Finish!!\n",
      "[1, 9] Finish!!\n",
      "[Voting] ..................... (2 of 2) Processing lgbm, total= 2.7min\n",
      "[1, 5] Finish!!\n",
      "[Voting] ..................... (2 of 2) Processing lgbm, total= 2.6min\n",
      "[7, 9] Finish!!\n",
      "[Voting] ..................... (2 of 2) Processing lgbm, total= 2.6min\n",
      "[9, 3] Finish!!\n",
      "[Voting] ..................... (2 of 2) Processing lgbm, total= 2.5min\n",
      "[3, 9] Finish!!\n",
      "[Voting] ..................... (2 of 2) Processing lgbm, total= 2.4min\n",
      "[1, 7] Finish!!\n",
      "[Voting] ..................... (2 of 2) Processing lgbm, total= 2.3min\n",
      "[9, 1] Finish!!\n",
      "[Voting] ..................... (2 of 2) Processing lgbm, total= 2.4min\n",
      "[7, 7] Finish!!\n",
      "[Voting] ..................... (2 of 2) Processing lgbm, total= 1.6min\n",
      "[3, 7] Finish!!\n",
      "[Voting] ..................... (2 of 2) Processing lgbm, total= 1.3min\n",
      "[5, 9] Finish!!\n",
      "end once\n",
      "best_valid_score = 0.598196\n",
      "best_weight =  [1, 9]\n"
     ]
    },
    {
     "name": "stdout",
     "output_type": "stream",
     "text": [
      "[Voting] ..................... (2 of 2) Processing lgbm, total= 1.2min\n",
      "[3, 1] Finish!!\n"
     ]
    }
   ],
   "source": [
    "import threading\n",
    "from sklearn.ensemble import VotingClassifier\n",
    "\n",
    "param_grid_voting_static = {\n",
    "    'estimators' : voting_estimator_list,\n",
    "    'voting' : 'soft',\n",
    "    'flatten_transform' : True, \n",
    "    'verbose' : True\n",
    "}\n",
    "\n",
    "lock = threading.Lock()\n",
    "\n",
    "\n",
    "def process_weight(weight):\n",
    "    # share in multiple threads\n",
    "    global best_valid_score, best_weight, best_voting\n",
    "\n",
    "    voting = VotingClassifier(**param_grid_voting_static, weights=weight)\n",
    "    print('current weight =', weight)\n",
    "    clf_voting, _, valid_voting = training(X_voting_train, y_voting_train, voting)\n",
    "\n",
    "    # to protect the safety of shared variables\n",
    "    with lock:\n",
    "        if valid_voting > best_valid_score:\n",
    "            best_valid_score = valid_voting\n",
    "            best_weight = weight\n",
    "            best_voting = clf_voting\n",
    "    \n",
    "    print(f'{weight} Finish!!')\n",
    "    threadmax.release()\n",
    "        \n",
    "if (1):\n",
    "    best_valid_score = 0\n",
    "    best_weight = None\n",
    "    best_voting = None\n",
    "    mem = []\n",
    "    threadmax = threading.BoundedSemaphore(32)\n",
    "    \n",
    "    for weight in weight_list:\n",
    "        threadmax.acquire()\n",
    "        thread = threading.Thread(target=process_weight, args=(weight,))\n",
    "    \n",
    "        thread.start()\n",
    "        mem.append(thread)\n",
    "\n",
    "    for thread in mem:\n",
    "        thread.join()\n",
    "        mem.remove(thread)\n",
    "    \n",
    "    print('end once')\n",
    "\n",
    "    print('best_valid_score = %.6f' % best_valid_score)\n",
    "    print('best_weight = ', best_weight)\n",
    "    \n",
    "    parameter_storage('../output/best_parameters', 'best_weight', best_weight, best_valid_score, estimator_list, remaining_dict_voting)"
   ]
  },
  {
   "cell_type": "code",
   "execution_count": null,
   "metadata": {},
   "outputs": [],
   "source": [
    "# no n_jobs\n",
    "prarms_voting = {\n",
    "    'estimators' : voting_estimator_list, \n",
    "    'voting' : 'soft',\n",
    "    'weights' : [1, 2, 1],\n",
    "    'flatten_transform' : True,\n",
    "    'verbose' : True\n",
    "}\n",
    "\n",
    "if (1):\n",
    "    voting = VotingClassifier(**param_grid_voting_static, weights=best_weight)\n",
    "else :\n",
    "    voting = VotingClassifier(**prarms_voting)\n",
    "\n",
    "_ = training(X_voting_train, y_voting_train, voting)\n"
   ]
  },
  {
   "cell_type": "markdown",
   "metadata": {},
   "source": [
    "### 5. Testing data prediction"
   ]
  },
  {
   "cell_type": "code",
   "execution_count": null,
   "metadata": {},
   "outputs": [],
   "source": [
    "best_model = voting\n",
    "\n",
    "y_score = best_model.predict_proba(X_voting_test)[:, 1]\n",
    "\n",
    "df_pred = pd.DataFrame({'Id': test_data['Id'], 'Popularity': y_score})\n",
    "df_pred.to_csv('../output/test_pred.csv', index=False)"
   ]
  }
 ],
 "metadata": {
  "kernelspec": {
   "display_name": "DL",
   "language": "python",
   "name": "python3"
  },
  "language_info": {
   "codemirror_mode": {
    "name": "ipython",
    "version": 3
   },
   "file_extension": ".py",
   "mimetype": "text/x-python",
   "name": "python",
   "nbconvert_exporter": "python",
   "pygments_lexer": "ipython3",
   "version": "3.11.5"
  }
 },
 "nbformat": 4,
 "nbformat_minor": 2
}
