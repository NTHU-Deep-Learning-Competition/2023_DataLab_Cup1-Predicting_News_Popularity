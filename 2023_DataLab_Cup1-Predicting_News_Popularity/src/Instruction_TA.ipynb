{
 "cells": [
  {
   "cell_type": "markdown",
   "metadata": {},
   "source": [
    "## <center>DataLab Cup 1: Text Feature Engineering</center>"
   ]
  },
  {
   "cell_type": "markdown",
   "metadata": {},
   "source": [
    "#### 1. To import the dataset "
   ]
  },
  {
   "cell_type": "code",
   "execution_count": 64,
   "metadata": {},
   "outputs": [
    {
     "name": "stdout",
     "output_type": "stream",
     "text": [
      "   Id  Popularity                                       Page content\n",
      "0   0          -1  <html><head><div class=\"article-info\"> <span c...\n",
      "1   1           1  <html><head><div class=\"article-info\"><span cl...\n",
      "2   2           1  <html><head><div class=\"article-info\"><span cl...\n",
      "3   3          -1  <html><head><div class=\"article-info\"><span cl...\n",
      "4   4          -1  <html><head><div class=\"article-info\"><span cl...\n",
      "Id                                                              0\n",
      "Popularity                                                     -1\n",
      "Page content    <html><head><div class=\"article-info\"> <span c...\n",
      "Name: 0, dtype: object\n"
     ]
    }
   ],
   "source": [
    "import warnings\n",
    "warnings.filterwarnings(\"ignore\")\n",
    "%matplotlib inline\n",
    "import pandas as pd\n",
    "\n",
    "df = pd.read_csv('../dataset/train.csv')\n",
    "print(df.head(5))\n",
    "print(df.loc[0, :])"
   ]
  },
  {
   "cell_type": "markdown",
   "metadata": {},
   "source": [
    "#### 2. Preprocessing: Data Cleaning"
   ]
  },
  {
   "cell_type": "code",
   "execution_count": 65,
   "metadata": {},
   "outputs": [
    {
     "name": "stdout",
     "output_type": "stream",
     "text": [
      "<html><head><div class=\"article-info\"> <span class=\"byline basic\">Clara Moskowitz</span> for <a href=\"/publishers/space-com/\">Space.com</a> <time datetime=\"Wed, 19 Jun 2013 15:04:30 +0000\">2013-06-19 15:04:30 UTC</time> </div></head><body><h1 class=\"title\">NASA's Grand Challenge: Stop Asteroids From Destroying Earth</h1><figure class=\"article-image\"><img class=\"microcontent\" data-fragment=\"lead-image\" data-image=\"http://i.amz.mshcdn.com/I7b9cUsPSztew7r1WT6_iBLjflo=/950x534/2013%2F06%2F19%2Ffe%2FDactyl.44419.jpg\" data-micro=\"1\" data-url=\"http://mashable.com/2013/06/19/nasa-grand-challenge-asteroid/\" src=\"http://i.amz.mshcdn.com/I7b9cUsPSztew7r1WT6_iBLjflo=/950x534/2013%2F06%2F19%2Ffe%2FDactyl.44419.jpg\"/></figure><article data-channel=\"world\"><section class=\"article-content\"> <p>There may be killer asteroids headed for Earth, and NASA has decided to do something about it. The space agency announced a new \"Grand Challenge\" on June 18 to find all dangerous space rocks and figure out how to stop them from destroying our planet.</p> <p>The new mission builds on projects already underway at NASA, including a plan to <a href=\"http://www.space.com/20591-nasa-asteroid-capture-mission-feasibility.html\" target=\"_blank\">capture an asteroid</a>, pull it in toward the moon and send astronauts to visit it. As part of the Grand Challenge, the agency issued a \"request for information\" today — aiming to solicit ideas from industry, academia and the public on how to improve the asteroid mission plan.</p> <p>\"We're asking for you to think about concepts and different approaches for what we've described here,\" William Gerstenmaier, NASA's associate administrator for human explorations and operations, said yesterday during a NASA event announcing the initiative. \"We want you to think about other ways of enhancing this to get the most out of it.\"</p> <p><divclass><strong>SEE ALSO: <a href=\"http://www.space.com/20606-nasa-asteroid-capture-mission-images.html\" target=\"_blank\">How It Works: NASA Asteroid-Capture</a></strong><br><br>Responses to the request for information, which also seeks ideas for detecting and mitigating asteroid threats, are due July 18.<br><br>The asteroid-retrieval mission, designed to provide the first deep-space mission for astronauts flying on NASA's Space Launch System rocket and Orion space capsule under development, has come under fire from lawmakers who would prefer that NASA return to the moon.<br><br>A <a href=\"http://www.space.com/21609-nasa-asteroid-capture-mission-congress.html\" target=\"_blank\">draft NASA authorization bill</a> from the House space subcommittee, which is currently in debate, would cancel the mission and steer the agency toward other projects. That bill will be discussed during a hearing Wednesday, June 19 at 10 a.m. EDT.<br><br><divclass><strong>SEE ALSO: <a href=\"http://www.space.com/20606-nasa-asteroid-capture-mission-images.html\" target=\"_blank\">How It Works: NASA Asteroid-Capture Mission in Pictures</a></strong><br><br>But NASA officials defended the asteroid mission today and said they were confident they'd win Congress' support once they explained its benefits further.<br><br>\"I think that we really, truly are going to be able to show the value of the mission,\" NASA Associate Administrator Lori Garver said today. \"To me, this is something that what we do in this country — we debate how we spend the public's money. This is the beginning of the debate.\"<br><br>Garver also maintained that sending astronauts to an asteroid would not diminish NASA's other science and exploration goals, including another lunar landing.<br><br><divclass><strong>SEE ALSO: <a href=\"http://www.space.com/20601-animation-of-proposed-asteroid-retrieval-mission-video.html\" target=\"_blank\">Animation Of Proposed Asteroid Retrieval Mission</a></strong><br><br>\"This initiative takes nothing from the other valuable work,\" she said. \"This is only a small piece of our overall strategy, but it is an integral piece. It takes nothing from the moon.\"<br><br>Part of NASA's plan to win support for the flight is to link it more closely with the larger goal of protecting Earth from asteroid threats.<br><br>If, someday, humanity discovers an asteroid headed for Earth and manages to alter its course, \"it will be one of the most important accomplishments in human history,\" said Tom Kalil, deputy director for technology and innovation at the White House Office of Science and Technology Policy.<br><br><divclass><strong>SEE ALSO: <a href=\"http://www.space.com/20006-deep-space-missions-private-companies.html\" target=\"_blank\">Wildest Private Deep-Space Mission Ideas: A Countdown</a></strong><br><br>The topic of asteroid threats is more timely than ever, after a meteor exploded over the Russian city of <a href=\"http://www.space.com/19823-russia-meteor-explosion-complete-coverage.html\" target=\"_blank\">Chelyabinsk</a> on Feb. 15 — the same day that the football field-sized <a href=\"http://www.space.com/19646-asteroid-2012-da14-earth-flyby-complete-coverage.html\" target=\"_blank\">asteroid 2012 DA14</a> passed within the moon's orbit of Earth.<br><br><em>Image courtesy of <a href=\"http://www.dvidshub.net/image/707596/ida-and-dactyl#.UcHDQvk4uSo\" target=\"_blank\">NASA</a></em></br></br></br></br></divclass></br></br></br></br></br></br></br></br></divclass></br></br></br></br></br></br></br></br></divclass></br></br></br></br></br></br></br></br></divclass></p> <ul> <li><a href=\"http://www.space.com/34406-spacexs-musk-says-sabotage-unlikely-cause-of-sept-1-explosion-but-still-a-worry.html\">SpaceX's Musk Says Sabotage Unlikely Cause of Sept. 1 Explosion, But Still a Worry</a></li> <li><a href=\"http://www.space.com/34405-proxima-centauri-starspots-stellar-cycle-habitable-planet-alien-life.html\">Proxima Centauri Is Like Our Sun... on Steroids</a></li> <li><a href=\"http://www.space.com/34404-china-launches-shenzhou-11-astronauts-to-space-lab.html\">China Launches Shenzhou-11 Astronauts to Tiangong-2 Space Lab</a></li> <li><a href=\"http://www.space.com/34403-space-station-mockup-in-houston-astronaut-guided-tour-video.html\">Space Station Mockup In Houston - Astronaut Guided Tour | Video</a></li> </ul> <p> This article originally published at Space.com <a href=\"http://www.space.com/21610-nasa-asteroid-threat-grand-challenge.html?\">here</a> </p> </section></article><footer class=\"article-topics\"> Topics: <a href=\"/category/asteroid/\">Asteroid</a>, <a href=\"/category/asteroids/\">Asteroids</a>, <a href=\"/category/challenge/\">challenge</a>, <a href=\"/category/earth/\">Earth</a>, <a href=\"/category/space/\">Space</a>, <a href=\"/category/us/\">U.S.</a>, <a href=\"/category/world/\">World</a> </footer></body></html>\n"
     ]
    }
   ],
   "source": [
    "print(df.loc[0,'Page content'])"
   ]
  },
  {
   "cell_type": "markdown",
   "metadata": {},
   "source": [
    "* To removing all HTML tags\n",
    "* To removing punctuation marks but emoticons\n",
    "* To converting all characters to lowercase"
   ]
  },
  {
   "cell_type": "code",
   "execution_count": 66,
   "metadata": {},
   "outputs": [],
   "source": [
    "import re\n",
    "from bs4 import BeautifulSoup\n",
    "\n",
    "def preprocessor(text):\n",
    "    # remove HTML tags\n",
    "    \n",
    "    text = BeautifulSoup(text, 'html.parser').get_text()\n",
    "\n",
    "\n",
    "    # regex for matching emoticons, keep emoticons, ex: :), :-P, :-D\n",
    "    r = '(?::|;|=|X)(?:-)?(?:\\)|\\(|D|P)'\n",
    "    emoticons = re.findall(r, text)\n",
    "    text = re.sub(r, '', text)\n",
    "\n",
    "    # convert to lowercase and append all emoticons behind (with space in between)\n",
    "    # replace('-','') removes nose of emoticons\n",
    "    text = re.sub('[\\W]+', ' ', text.lower()) + ' ' + ' '.join(emoticons).replace('-','')\n",
    "    return text"
   ]
  },
  {
   "cell_type": "code",
   "execution_count": 67,
   "metadata": {},
   "outputs": [
    {
     "name": "stdout",
     "output_type": "stream",
     "text": [
      " clara moskowitz for space com 2013 06 19 15 04 30 utc nasa s grand challenge stop asteroids from destroying earth there may be killer asteroids headed for earth and nasa has decided to do something about it the space agency announced a new grand challenge on june 18 to find all dangerous space rocks and figure out how to stop them from destroying our planet the new mission builds on projects already underway at nasa including a plan to capture an asteroid pull it in toward the moon and send astronauts to visit it as part of the grand challenge the agency issued a request for information today aiming to solicit ideas from industry academia and the public on how to improve the asteroid mission plan we re asking for you to think about concepts and different approaches for what we ve described here william gerstenmaier nasa s associate administrator for human explorations and operations said yesterday during a nasa event announcing the initiative we want you to think about other ways of enhancing this to get the most out of it see also how it works nasa asteroid captureresponses to the request for information which also seeks ideas for detecting and mitigating asteroid threats are due july 18 the asteroid retrieval mission designed to provide the first deep space mission for astronauts flying on nasa s space launch system rocket and orion space capsule under development has come under fire from lawmakers who would prefer that nasa return to the moon a draft nasa authorization bill from the house space subcommittee which is currently in debate would cancel the mission and steer the agency toward other projects that bill will be discussed during a hearing wednesday june 19 at 10 a m edt see also how it works nasa asteroid capture mission in picturesbut nasa officials defended the asteroid mission today and said they were confident they d win congress support once they explained its benefits further i think that we really truly are going to be able to show the value of the mission nasa associate administrator lori garver said today to me this is something that what we do in this country we debate how we spend the public s money this is the beginning of the debate garver also maintained that sending astronauts to an asteroid would not diminish nasa s other science and exploration goals including another lunar landing see also animation of proposed asteroid retrieval mission this initiative takes nothing from the other valuable work she said this is only a small piece of our overall strategy but it is an integral piece it takes nothing from the moon part of nasa s plan to win support for the flight is to link it more closely with the larger goal of protecting earth from asteroid threats if someday humanity discovers an asteroid headed for earth and manages to alter its course it will be one of the most important accomplishments in human history said tom kalil deputy director for technology and innovation at the white house office of science and technology policy see also wildest private deep space mission ideas a countdownthe topic of asteroid threats is more timely than ever after a meteor exploded over the russian city of chelyabinsk on feb 15 the same day that the football field sized asteroid 2012 da14 passed within the moon s orbit of earth image courtesy of nasa spacex s musk says sabotage unlikely cause of sept 1 explosion but still a worry proxima centauri is like our sun on steroids china launches shenzhou 11 astronauts to tiangong 2 space lab space station mockup in houston astronaut guided tour video this article originally published at space com here topics asteroid asteroids challenge earth space u s world  \n"
     ]
    }
   ],
   "source": [
    "print(preprocessor(df.loc[0,'Page content']))"
   ]
  },
  {
   "cell_type": "markdown",
   "metadata": {},
   "source": [
    "* To split the text corpora into individual elements"
   ]
  },
  {
   "cell_type": "code",
   "execution_count": 68,
   "metadata": {},
   "outputs": [
    {
     "name": "stdout",
     "output_type": "stream",
     "text": [
      "['runners', 'like', 'running', 'and', 'thus', 'they', 'run']\n"
     ]
    }
   ],
   "source": [
    "def tokenizer(text):\n",
    "    return re.split('\\s+', text.strip())\n",
    "\n",
    "print(tokenizer('runners like running and thus they run'))"
   ]
  },
  {
   "cell_type": "markdown",
   "metadata": {},
   "source": [
    "#### 3. Preprocessing: Word Stemming\n",
    "\n",
    "* To reduce the word to its root."
   ]
  },
  {
   "cell_type": "code",
   "execution_count": 69,
   "metadata": {},
   "outputs": [
    {
     "name": "stdout",
     "output_type": "stream",
     "text": [
      "['runner', 'like', 'run', 'and', 'thu', 'they', 'run']\n"
     ]
    }
   ],
   "source": [
    "from nltk.stem.porter import PorterStemmer\n",
    "\n",
    "def tokenizer_stem(text):\n",
    "    porter = PorterStemmer()\n",
    "    return [porter.stem(word) for word in re.split('\\s+', text.strip())]\n",
    "\n",
    "print(tokenizer_stem('runners like running and thus they run'))"
   ]
  },
  {
   "cell_type": "markdown",
   "metadata": {},
   "source": [
    "#### 4. Preprocessing: Stop-Word Removal"
   ]
  },
  {
   "cell_type": "markdown",
   "metadata": {},
   "source": [
    "* Stop words contain little useful information, so we can remove it."
   ]
  },
  {
   "cell_type": "code",
   "execution_count": 70,
   "metadata": {},
   "outputs": [
    {
     "name": "stdout",
     "output_type": "stream",
     "text": [
      "['runner', 'like', 'run', 'thu', 'run']\n"
     ]
    },
    {
     "name": "stderr",
     "output_type": "stream",
     "text": [
      "[nltk_data] Downloading package stopwords to\n",
      "[nltk_data]     /home/mfhsieh/nltk_data...\n",
      "[nltk_data]   Package stopwords is already up-to-date!\n"
     ]
    }
   ],
   "source": [
    "import nltk\n",
    "from nltk.corpus import stopwords\n",
    "from nltk.stem.porter import PorterStemmer\n",
    "\n",
    "nltk.download('stopwords')\n",
    "stop = stopwords.words('english')\n",
    "\n",
    "def tokenizer_stem_nostop(text):\n",
    "    porter = PorterStemmer()\n",
    "    return [porter.stem(w) for w in re.split('\\s+', text.strip()) \\\n",
    "            if w not in stop and re.match('[a-zA-Z]+', w)]\n",
    "\n",
    "print(tokenizer_stem_nostop('runners like running and thus they run'))"
   ]
  },
  {
   "cell_type": "markdown",
   "metadata": {},
   "source": [
    "#### - BoW (Bag-Of-Words)"
   ]
  },
  {
   "cell_type": "markdown",
   "metadata": {},
   "source": [
    "1. 透過整個文件集中的唯一標記來建構詞彙詞典。\n",
    "2. 用向量來表示每個文檔，其中每個位置對應詞彙字典中的一個詞彙的出現次數。"
   ]
  },
  {
   "cell_type": "code",
   "execution_count": 71,
   "metadata": {},
   "outputs": [
    {
     "name": "stdout",
     "output_type": "stream",
     "text": [
      "[example documents]\n",
      "Study hard, then you will be happy and I will be happy\n",
      "\"I'm not happy :(\" \", because you don't study hard\n",
      "\n",
      "[vocabulary]\n",
      "{'studi': 2, 'hard': 1, 'happi': 0}\n"
     ]
    }
   ],
   "source": [
    "import numpy as np\n",
    "import scipy as sp\n",
    "from sklearn.feature_extraction.text import CountVectorizer\n",
    "\n",
    "doc_dummy = [\"Study hard, then you will be happy and I will be happy\",\n",
    "           \"\\\"I'm not happy :(\\\" \\\", because you don't study hard\"]\n",
    "print('[example documents]\\n{}\\n'.format('\\n'.join(doc_dummy)))\n",
    "\n",
    "# ngram_range=(min,max), default: 1-gram => (1,1) (consider single word)\n",
    "count = CountVectorizer(ngram_range=(1, 1),\n",
    "                        preprocessor=preprocessor,  # remove tags\n",
    "                        tokenizer=tokenizer_stem_nostop)    # remove stop words\n",
    "\n",
    "count.fit(doc_dummy)\n",
    "# dictionary is stored in vocabulary_\n",
    "BoW = count.vocabulary_\n",
    "print('[vocabulary]\\n{}'.format(BoW))"
   ]
  },
  {
   "cell_type": "code",
   "execution_count": 72,
   "metadata": {},
   "outputs": [
    {
     "name": "stdout",
     "output_type": "stream",
     "text": [
      "(did, vid)\ttf\n",
      "  (0, 0)\t2\n",
      "  (0, 1)\t1\n",
      "  (0, 2)\t1\n",
      "  (1, 0)\t1\n",
      "  (1, 1)\t1\n",
      "  (1, 2)\t1\n",
      "\n",
      "Is document-term matrix a scipy.sparse matrix? True\n"
     ]
    }
   ],
   "source": [
    "# get matrix (doc_id, vocabulary_id) --> tf\n",
    "\n",
    "doc_bag = count.transform(doc_dummy) # CountVectorizer.transform(): 每個條目對應到一對（文檔索引，詞彙索引）。每個條目中的值代表詞頻，即特定詞彙（術語）在特定文檔中出現的次數。\n",
    "print('(did, vid)\\ttf')\n",
    "print(doc_bag)\n",
    "\n",
    "print('\\nIs document-term matrix a scipy.sparse matrix? {}'.format(sp.sparse.issparse(doc_bag)))"
   ]
  },
  {
   "cell_type": "code",
   "execution_count": 73,
   "metadata": {},
   "outputs": [
    {
     "name": "stdout",
     "output_type": "stream",
     "text": [
      "[[2 1 1]\n",
      " [1 1 1]]\n",
      "\n",
      "After calling .toarray(), is it a scipy.sparse matrix? False\n"
     ]
    }
   ],
   "source": [
    "# to converte the sparse matrix to a dense matrix\n",
    "\n",
    "doc_bag = doc_bag.toarray()\n",
    "print(doc_bag)\n",
    "\n",
    "print('\\nAfter calling .toarray(), is it a scipy.sparse matrix? {}'.format(sp.sparse.issparse(doc_bag)))"
   ]
  },
  {
   "cell_type": "code",
   "execution_count": 74,
   "metadata": {},
   "outputs": [
    {
     "name": "stdout",
     "output_type": "stream",
     "text": [
      "[most frequent vocabularies]\n",
      "imag: 639\n",
      "getti: 180\n",
      "new: 168\n",
      "also: 165\n",
      "one: 162\n",
      "said: 151\n",
      "see: 147\n",
      "time: 144\n",
      "year: 142\n",
      "world: 135\n"
     ]
    }
   ],
   "source": [
    "doc = df['Page content'].iloc[:100]\n",
    "doc_bag = count.fit_transform(doc).toarray()\n",
    "\n",
    "print(\"[most frequent vocabularies]\")\n",
    "bag_cnts = np.sum(doc_bag, axis=0)\n",
    "top = 10\n",
    "# [::-1] reverses a list since sort is in ascending order\n",
    "for tok, v in zip(count.inverse_transform(np.ones((1, bag_cnts.shape[0])))[0][bag_cnts.argsort()[::-1][:top]], np.sort(bag_cnts)[::-1][:top]):\n",
    "    print('{}: {}'.format(tok, v))"
   ]
  },
  {
   "cell_type": "markdown",
   "metadata": {},
   "source": [
    "#### - TF-IDF (Term-Frequency & Inverse-Document-Frequency)\n",
    "\n",
    "* Calculates not only the term-frequency (TF), but also the document-frequency (DF) of a term"
   ]
  },
  {
   "cell_type": "code",
   "execution_count": 75,
   "metadata": {},
   "outputs": [
    {
     "name": "stdout",
     "output_type": "stream",
     "text": [
      "[vocabularies with smallest idf scores]\n",
      "topic: 1.00\n",
      "see: 1.12\n",
      "also: 1.13\n",
      "imag: 1.21\n",
      "one: 1.32\n",
      "new: 1.52\n",
      "world: 1.54\n",
      "year: 1.54\n",
      "like: 1.55\n",
      "time: 1.61\n",
      "\n",
      "[vocabularies with highest tf-idf scores]\n",
      "imag: 4.1122911268509705\n",
      "app: 2.3867465879041356\n",
      "video: 2.3321333885238404\n",
      "game: 2.1911895842442406\n",
      "said: 2.0142987671015766\n",
      "new: 2.0010914875633707\n",
      "compani: 1.9319822679769407\n",
      "getti: 1.7677938352965423\n",
      "time: 1.7601195175854225\n",
      "twitter: 1.7333793682275045\n"
     ]
    }
   ],
   "source": [
    "from sklearn.feature_extraction.text import TfidfVectorizer\n",
    "\n",
    "tfidf = TfidfVectorizer(ngram_range=(1,1),\n",
    "                        preprocessor=preprocessor,\n",
    "                        tokenizer=tokenizer_stem_nostop)\n",
    "\n",
    "tfidf.fit(doc)\n",
    "\n",
    "top = 10\n",
    "# get idf score of vocabularies\n",
    "idf = tfidf.idf_\n",
    "print('[vocabularies with smallest idf scores]')\n",
    "sorted_idx = idf.argsort() # 升序排列\n",
    "\n",
    "for i in range(top):\n",
    "    print('%s: %.2f' %(tfidf.get_feature_names_out()[sorted_idx[i]], idf[sorted_idx[i]]))\n",
    "\n",
    "doc_tfidf = tfidf.transform(doc).toarray()\n",
    "tfidf_sum = np.sum(doc_tfidf, axis=0)\n",
    "print(\"\\n[vocabularies with highest tf-idf scores]\")\n",
    "for tok, v in zip(tfidf.inverse_transform(np.ones((1, tfidf_sum.shape[0])))[0][tfidf_sum.argsort()[::-1]][:top], \\\n",
    "                        np.sort(tfidf_sum)[::-1][:top]):\n",
    "    print('{}: {}'.format(tok, v))"
   ]
  },
  {
   "cell_type": "markdown",
   "metadata": {},
   "source": [
    "所以，`tfidf.fit(doc)` 主要用於擬合（學習）TF-IDF 轉換器，而 `doc_tfidf = tfidf.transform(doc).toarray()` 用於將實際文件轉換為 TF-IDF 特徵矩陣表示的步驟。前者是初始化和學習的步驟，後者是將文件映射到 TF-IDF 特徵表示的步驟。"
   ]
  },
  {
   "cell_type": "code",
   "execution_count": 76,
   "metadata": {},
   "outputs": [
    {
     "name": "stdout",
     "output_type": "stream",
     "text": [
      "(100, 7127)\n"
     ]
    }
   ],
   "source": [
    "print(doc_tfidf.shape)\n",
    "# feature太多了"
   ]
  },
  {
   "cell_type": "markdown",
   "metadata": {},
   "source": [
    "###  - Feature Hashing\n",
    "\n",
    "Feature hashing reduces the dimension vocabulary space by hashing each vocabulary into a hash table with a fixed number of buckets. As compared to BoW, feature hashing has the following pros and cons:"
   ]
  },
  {
   "cell_type": "code",
   "execution_count": 77,
   "metadata": {},
   "outputs": [
    {
     "name": "stdout",
     "output_type": "stream",
     "text": [
      "[example documents]\n",
      "Study hard, then you will be happy and I will be happy\n",
      "\"I'm not happy :(\" \", because you don't study hard\n",
      "\n",
      "(2, 1024)\n"
     ]
    }
   ],
   "source": [
    "import numpy as np\n",
    "import scipy as sp\n",
    "from sklearn.feature_extraction.text import HashingVectorizer\n",
    "\n",
    "print('[example documents]\\n{}\\n'.format('\\n'.join(doc_dummy)))\n",
    "\n",
    "# hash words to 1024 buckets\n",
    "hashvec = HashingVectorizer(n_features=2**10,\n",
    "                            preprocessor=preprocessor,\n",
    "                            tokenizer=tokenizer_stem_nostop)\n",
    "\n",
    "# no .fit needed for HashingVectorizer, since it's defined by the hash function\n",
    "\n",
    "# transform sentences to vectors of dimension 1024\n",
    "doc_hash = hashvec.transform(doc_dummy)\n",
    "print(doc_hash.shape)"
   ]
  },
  {
   "cell_type": "markdown",
   "metadata": {},
   "source": [
    "### 5. Sentiment Classification Pipeline\n",
    "\n",
    "Let's use the LogisticRegression model to classify the movie reviews into positive and negative classes. As discussed in previous sections, there are several preprocessing steps to do before, so the workflow will be:\n",
    "\n",
    "1. Preprocessing: clean the text, and remove stop words;\n",
    "2. Convert words to vector: extract feature vectors from the raw review text;\n",
    "3. Classification: train a LogisticRegression model to do sentiment classification;\n",
    "4. Evaluate: we'll do 10-fold cross-validation to evaluate general performance."
   ]
  },
  {
   "cell_type": "code",
   "execution_count": 78,
   "metadata": {},
   "outputs": [
    {
     "name": "stdout",
     "output_type": "stream",
     "text": [
      "[auc (10-fold cv)]\n",
      "LogisticRegression: 0.488 (+/-0.053)\n",
      "LogisticRegression+(1,2)gram: 0.487 (+/-0.048)\n",
      "LogisticRegression+preprocess: 0.515 (+/-0.048)\n",
      "LogisticRegression+preprocess+hash: 0.509 (+/-0.067)\n"
     ]
    }
   ],
   "source": [
    "from sklearn.pipeline import Pipeline\n",
    "from sklearn.tree import DecisionTreeClassifier\n",
    "from sklearn.linear_model import LogisticRegression\n",
    "from sklearn.feature_extraction.text import CountVectorizer\n",
    "from sklearn.model_selection import cross_val_score\n",
    "\n",
    "# randomly sample 1000 examples\n",
    "df_small = df.sample(n=1000, random_state=0)\n",
    "\n",
    "names = ['LogisticRegression',\n",
    "         'LogisticRegression+(1,2)gram',\n",
    "         'LogisticRegression+preprocess',\n",
    "         'LogisticRegression+preprocess+hash']\n",
    "# without preprocessing (vect: 特徵提取步驟, clf: 分類器)\n",
    "pipe1 = Pipeline([('vect', CountVectorizer()),\n",
    "                  ('clf', LogisticRegression(solver = \"liblinear\"))])\n",
    "# without preprocessing, use larger ngram range\n",
    "pipe2 = Pipeline([('vect', CountVectorizer(ngram_range=(1,2))),\n",
    "                  ('clf', LogisticRegression(solver = \"liblinear\"))])\n",
    "# with preprocessing\n",
    "pipe3 = Pipeline([('vect', TfidfVectorizer(preprocessor=preprocessor,\n",
    "                                           tokenizer=tokenizer_stem_nostop)),\n",
    "                  ('clf', LogisticRegression(solver = \"liblinear\"))])\n",
    "# with preprocessing and hasing\n",
    "pipe4 = Pipeline([('vect', HashingVectorizer(n_features=2**10,\n",
    "                                             preprocessor=preprocessor,\n",
    "                                             tokenizer=tokenizer_stem_nostop)),\n",
    "                  ('clf', LogisticRegression(solver = \"liblinear\"))])\n",
    "# CV\n",
    "print('[auc (10-fold cv)]')\n",
    "for name, clf in zip(names, [pipe1, pipe2, pipe3, pipe4]):\n",
    "    scores = cross_val_score(estimator=clf, X=df_small['Page content'], y=df_small['Popularity'], \\\n",
    "                         cv=10, scoring='roc_auc')\n",
    "    print('%s: %.3f (+/-%.3f)' % (name, scores.mean(), scores.std()))"
   ]
  },
  {
   "cell_type": "markdown",
   "metadata": {},
   "source": [
    "### 6. Use Out-of-Core Learning If You Don't Have Enough Memory\n",
    "\n",
    "The idea of Out of Core Learning is similar to the stochastic gradient descent, which updates the model when seeing a minibatch, except that each minibatch is loaded from disk via a data stream. Since we only see a part of the dataset at a time, we can only use the `HashingVectorizer` to transform text into feature vectors because the `HashingVectorizer` does not require knowing the vocabulary space in advance.\n",
    "\n",
    "這段程式碼定義了一個函數 `get_stream`，用於從指定的 CSV 檔案中以特定大小的資料塊（chunk）讀取資料。這個函數返回一個產生器（generator），並使用 `next` 函數來取得產生器的下一個資料塊。以下是程式碼的解釋：\n",
    "\n",
    "1. `def get_stream(path, size)`：這是函數的定義部分。它接受兩個參數：\n",
    "   - `path`：指定的 CSV 檔案的路徑。\n",
    "   - `size`：指定每個資料塊（chunk）的大小。\n",
    "\n",
    "2. `for chunk in pd.read_csv(path, chunksize=size):`：這是一個迴圈，使用 Pandas 庫的 `read_csv` 函數來讀取指定路徑的 CSV 檔案，並按照指定的大小（`chunksize=size`）進行分塊讀取資料。每次迭代都會產生一個資料塊，這個資料塊將成為產生器的一個元素。\n",
    "\n",
    "3. `yield chunk`：使用 `yield` 關鍵字將資料塊產生為產生器的一個元素。這使得函數成為一個產生器函數，可以逐步生成資料塊而不需一次性將整個檔案加載到記憶體中。\n",
    "\n",
    "4. `print(next(get_stream(path='./dataset/sentiment/train.csv', size=10))`：在這裡，`next(get_stream(...))` 調用了產生器函數，取得產生器的下一個資料塊，並透過 `print` 函數將其列印出來。這將顯示檔案的前10行資料。\n",
    "\n",
    "這種方法非常有用，特別是當處理大型資料集時，因為它允許逐塊讀取資料而不會佔用太多記憶體。在這個示例中，資料集從 CSV 檔案中以大小為10的資料塊進行讀取。如果您需要處理大型資料集，逐塊讀取資料的方式是一種有效的方法。"
   ]
  },
  {
   "cell_type": "code",
   "execution_count": 79,
   "metadata": {},
   "outputs": [
    {
     "name": "stdout",
     "output_type": "stream",
     "text": [
      "   Id  Popularity                                       Page content\n",
      "0   0          -1  <html><head><div class=\"article-info\"> <span c...\n",
      "1   1           1  <html><head><div class=\"article-info\"><span cl...\n",
      "2   2           1  <html><head><div class=\"article-info\"><span cl...\n",
      "3   3          -1  <html><head><div class=\"article-info\"><span cl...\n",
      "4   4          -1  <html><head><div class=\"article-info\"><span cl...\n",
      "5   5          -1  <html><head><div class=\"article-info\"> <span c...\n",
      "6   6           1  <html><head><div class=\"article-info\"><span cl...\n",
      "7   7          -1  <html><head><div class=\"article-info\"><span cl...\n",
      "8   8           1  <html><head><div class=\"article-info\"><span cl...\n",
      "9   9          -1  <html><head><div class=\"article-info\"><span cl...\n"
     ]
    }
   ],
   "source": [
    "def get_stream(path, size):\n",
    "    for chunk in pd.read_csv(path, chunksize=size):\n",
    "        yield chunk\n",
    "\n",
    "print(next(get_stream(path='../dataset/train.csv', size=10)))"
   ]
  },
  {
   "cell_type": "markdown",
   "metadata": {},
   "source": [
    "For out-of core learning, we have to use models that can <font color='red'>train and update the model's weight iteratively</font>. Here, we use the SGDClassifier to train a LogisticRegressor using the stochastic gradient descent. We can partial update SGDClassifier by calling the partial_fit() method. Our workflow now becomes:\n",
    "\n",
    "1. Stream documents directly from disk to get a mini-batch (chunk) of documents;\n",
    "2. Preprocess: clean and remove stop-words in the mini-batch of documents;\n",
    "3. Convert words to vector: use HashingVectorizer to extract features from text;\n",
    "4. Update SGDClassifier and go back to step 1."
   ]
  },
  {
   "cell_type": "code",
   "execution_count": 80,
   "metadata": {},
   "outputs": [
    {
     "name": "stdout",
     "output_type": "stream",
     "text": [
      "[2000/25000] 0.5124337480584779\n",
      "[4000/25000] 0.5441995261974337\n",
      "[6000/25000] 0.512878051512206\n",
      "[8000/25000] 0.5422923603995902\n",
      "[10000/25000] 0.522976106462345\n",
      "[12000/25000] 0.4897736318507466\n",
      "[14000/25000] 0.5275949407608065\n",
      "[16000/25000] 0.5321031557136058\n",
      "[18000/25000] 0.5173654036191093\n",
      "[20000/25000] 0.5044581106966428\n",
      "[22000/25000] 0.5547955622438525\n",
      "[24000/25000] 0.5651330421286741\n"
     ]
    }
   ],
   "source": [
    "from sklearn.feature_extraction.text import HashingVectorizer\n",
    "from sklearn.linear_model import SGDClassifier\n",
    "from sklearn.metrics import roc_auc_score\n",
    "\n",
    "# n_features: 要生成特徵的數量\n",
    "hashvec = HashingVectorizer(n_features=2**20,\n",
    "                            preprocessor=preprocessor, tokenizer=tokenizer_stem_nostop)\n",
    "# loss='log' gives logistic regression\n",
    "clf = SGDClassifier(loss='log', max_iter=100, tol=1e-3) # 連續兩次迭代之間的損失函數減小小於 1e-3，則訓練會提前停止。\n",
    "batch_size = 1000\n",
    "stream = get_stream(path='../dataset/train.csv', size=batch_size)\n",
    "# classes: 所有y label的值\n",
    "classes = np.array([-1, 1])\n",
    "train_auc, val_auc = [], []\n",
    "# we use one batch for training and another for validation in each iteration\n",
    "iters = int((25000+batch_size-1)/(batch_size*2))\n",
    "for i in range(iters):\n",
    "    batch = next(stream)\n",
    "    X_train, y_train = batch['Page content'], batch['Popularity']\n",
    "    if X_train is None:\n",
    "        break\n",
    "    X_train = hashvec.transform(X_train)\n",
    "    clf.partial_fit(X_train, y_train, classes=classes)\n",
    "    train_auc.append(roc_auc_score(y_train, clf.predict_proba(X_train)[:,1]))\n",
    "\n",
    "    # validate\n",
    "    batch = next(stream)\n",
    "    X_val, y_val = batch['Page content'], batch['Popularity']\n",
    "    score = roc_auc_score(y_val, clf.predict_proba(hashvec.transform(X_val))[:,1])\n",
    "    val_auc.append(score)\n",
    "    print('[{}/{}] {}'.format((i+1)*(batch_size*2), 25000, score))"
   ]
  },
  {
   "cell_type": "code",
   "execution_count": 81,
   "metadata": {},
   "outputs": [
    {
     "data": {
      "image/png": "[encoded data removed]",
      "text/plain": [
       "<Figure size 640x480 with 1 Axes>"
      ]
     },
     "metadata": {},
     "output_type": "display_data"
    }
   ],
   "source": [
    "import os\n",
    "if not os.path.exists('../output'):\n",
    "    os.mkdir('../output')\n",
    "\n",
    "import matplotlib.pyplot as plt\n",
    "\n",
    "plt.plot(range(1, len(train_auc)+1), train_auc, color='blue', label='Train auc')\n",
    "plt.plot(range(1, len(train_auc)+1), val_auc, color='red', label='Val auc')\n",
    "plt.legend(loc=\"best\")\n",
    "plt.xlabel('#Batches')\n",
    "plt.ylabel('Auc')\n",
    "plt.tight_layout()\n",
    "plt.savefig('../output/fig-out-of-core.png', dpi=300)\n",
    "plt.show()"
   ]
  },
  {
   "cell_type": "code",
   "execution_count": 86,
   "metadata": {},
   "outputs": [
    {
     "data": {
      "text/plain": [
       "\"\\nprint('test auc: %.3f' % roc_auc_score(df_test['Popularity'],             clf.predict_proba(hashvec.transform(df_test['Page content']))[:,1]))\\n\""
      ]
     },
     "execution_count": 86,
     "metadata": {},
     "output_type": "execute_result"
    }
   ],
   "source": [
    "# import optimized pickle written in C for serializing and\n",
    "# de-serializing a Python object\n",
    "import _pickle as pkl\n",
    "\n",
    "# dump to disk\n",
    "pkl.dump(hashvec, open('../output/hashvec.pkl', 'wb'))\n",
    "pkl.dump(clf, open('../output/clf-sgd.pkl', 'wb'))\n",
    "\n",
    "# load from disk\n",
    "hashvec = pkl.load(open('../output/hashvec.pkl', 'rb'))\n",
    "clf = pkl.load(open('../output/clf-sgd.pkl', 'rb'))\n",
    "\n",
    "df_test = pd.read_csv('../dataset/test.csv')\n",
    "y_score = clf.predict_proba(hashvec.transform(df_test['Page content']))[:, 1]\n",
    "df_pred = pd.DataFrame({'Id': df_test['Id'], 'Popularity': y_score})\n",
    "df_pred.to_csv('../output/test_pred.csv', index=False)\n",
    "\n",
    "'''\n",
    "print('test auc: %.3f' % roc_auc_score(df_test['Popularity'], \\\n",
    "            clf.predict_proba(hashvec.transform(df_test['Page content']))[:,1]))\n",
    "'''"
   ]
  },
  {
   "cell_type": "code",
   "execution_count": 84,
   "metadata": {},
   "outputs": [
    {
     "data": {
      "text/html": [
       "<div>\n",
       "<style scoped>\n",
       "    .dataframe tbody tr th:only-of-type {\n",
       "        vertical-align: middle;\n",
       "    }\n",
       "\n",
       "    .dataframe tbody tr th {\n",
       "        vertical-align: top;\n",
       "    }\n",
       "\n",
       "    .dataframe thead th {\n",
       "        text-align: right;\n",
       "    }\n",
       "</style>\n",
       "<table border=\"1\" class=\"dataframe\">\n",
       "  <thead>\n",
       "    <tr style=\"text-align: right;\">\n",
       "      <th></th>\n",
       "      <th>Id</th>\n",
       "      <th>Page content</th>\n",
       "    </tr>\n",
       "  </thead>\n",
       "  <tbody>\n",
       "    <tr>\n",
       "      <th>0</th>\n",
       "      <td>27643</td>\n",
       "      <td>&lt;html&gt;&lt;head&gt;&lt;div class=\"article-info\"&gt;&lt;span cl...</td>\n",
       "    </tr>\n",
       "    <tr>\n",
       "      <th>1</th>\n",
       "      <td>27644</td>\n",
       "      <td>&lt;html&gt;&lt;head&gt;&lt;div class=\"article-info\"&gt;&lt;span cl...</td>\n",
       "    </tr>\n",
       "    <tr>\n",
       "      <th>2</th>\n",
       "      <td>27645</td>\n",
       "      <td>&lt;html&gt;&lt;head&gt;&lt;div class=\"article-info\"&gt;&lt;span cl...</td>\n",
       "    </tr>\n",
       "    <tr>\n",
       "      <th>3</th>\n",
       "      <td>27646</td>\n",
       "      <td>&lt;html&gt;&lt;head&gt;&lt;div class=\"article-info\"&gt;&lt;span cl...</td>\n",
       "    </tr>\n",
       "    <tr>\n",
       "      <th>4</th>\n",
       "      <td>27647</td>\n",
       "      <td>&lt;html&gt;&lt;head&gt;&lt;div class=\"article-info\"&gt;&lt;span cl...</td>\n",
       "    </tr>\n",
       "    <tr>\n",
       "      <th>...</th>\n",
       "      <td>...</td>\n",
       "      <td>...</td>\n",
       "    </tr>\n",
       "    <tr>\n",
       "      <th>11842</th>\n",
       "      <td>39485</td>\n",
       "      <td>&lt;html&gt;&lt;head&gt;&lt;div class=\"article-info\"&gt;&lt;span cl...</td>\n",
       "    </tr>\n",
       "    <tr>\n",
       "      <th>11843</th>\n",
       "      <td>39486</td>\n",
       "      <td>&lt;html&gt;&lt;head&gt;&lt;div class=\"article-info\"&gt;&lt;span cl...</td>\n",
       "    </tr>\n",
       "    <tr>\n",
       "      <th>11844</th>\n",
       "      <td>39487</td>\n",
       "      <td>&lt;html&gt;&lt;head&gt;&lt;div class=\"article-info\"&gt;&lt;span cl...</td>\n",
       "    </tr>\n",
       "    <tr>\n",
       "      <th>11845</th>\n",
       "      <td>39488</td>\n",
       "      <td>&lt;html&gt;&lt;head&gt;&lt;div class=\"article-info\"&gt;&lt;span cl...</td>\n",
       "    </tr>\n",
       "    <tr>\n",
       "      <th>11846</th>\n",
       "      <td>39489</td>\n",
       "      <td>&lt;html&gt;&lt;head&gt;&lt;div class=\"article-info\"&gt;&lt;span cl...</td>\n",
       "    </tr>\n",
       "  </tbody>\n",
       "</table>\n",
       "<p>11847 rows × 2 columns</p>\n",
       "</div>"
      ],
      "text/plain": [
       "          Id                                       Page content\n",
       "0      27643  <html><head><div class=\"article-info\"><span cl...\n",
       "1      27644  <html><head><div class=\"article-info\"><span cl...\n",
       "2      27645  <html><head><div class=\"article-info\"><span cl...\n",
       "3      27646  <html><head><div class=\"article-info\"><span cl...\n",
       "4      27647  <html><head><div class=\"article-info\"><span cl...\n",
       "...      ...                                                ...\n",
       "11842  39485  <html><head><div class=\"article-info\"><span cl...\n",
       "11843  39486  <html><head><div class=\"article-info\"><span cl...\n",
       "11844  39487  <html><head><div class=\"article-info\"><span cl...\n",
       "11845  39488  <html><head><div class=\"article-info\"><span cl...\n",
       "11846  39489  <html><head><div class=\"article-info\"><span cl...\n",
       "\n",
       "[11847 rows x 2 columns]"
      ]
     },
     "execution_count": 84,
     "metadata": {},
     "output_type": "execute_result"
    }
   ],
   "source": [
    "df_test"
   ]
  }
 ],
 "metadata": {
  "kernelspec": {
   "display_name": "DL",
   "language": "python",
   "name": "python3"
  },
  "language_info": {
   "codemirror_mode": {
    "name": "ipython",
    "version": 3
   },
   "file_extension": ".py",
   "mimetype": "text/x-python",
   "name": "python",
   "nbconvert_exporter": "python",
   "pygments_lexer": "ipython3",
   "version": "3.11.5"
  }
 },
 "nbformat": 4,
 "nbformat_minor": 2
}
